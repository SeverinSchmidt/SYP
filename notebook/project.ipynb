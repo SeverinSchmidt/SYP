{
 "cells": [
  {
   "cell_type": "markdown",
   "source": "### Reading the data",
   "metadata": {
    "cell_id": "a6d1f837c02049a0ad113dbb972fabd8",
    "tags": [],
    "is_collapsed": false,
    "deepnote_cell_type": "text-cell-h3"
   }
  },
  {
   "cell_type": "code",
   "metadata": {
    "cell_id": "63a38cd3b7b94c6fa6a5c9a3a445eec9",
    "tags": [],
    "deepnote_to_be_reexecuted": false,
    "source_hash": "9dcb5155",
    "execution_start": 1653629747946,
    "execution_millis": 2,
    "deepnote_cell_type": "code",
    "deepnote_cell_height": 386.16668701171875
   },
   "source": "# read json.gz files into panda dataframes\n\nimport pandas as pd\nimport gzip\nimport json\n\ndef parse(path):\n  g = gzip.open(path, 'rb')\n  for l in g:\n    yield json.loads(l)\n\ndef getDF(path):\n  i = 0\n  df = {}\n  for d in parse(path):\n    df[i] = d\n    i += 1\n  return pd.DataFrame.from_dict(df, orient='index')",
   "execution_count": null,
   "outputs": []
  },
  {
   "cell_type": "code",
   "metadata": {
    "cell_id": "944706a0dcfb4b2396a0c2058fc53fdc",
    "tags": [],
    "deepnote_to_be_reexecuted": false,
    "source_hash": "33baf483",
    "execution_start": 1653629765324,
    "execution_millis": 414,
    "deepnote_cell_type": "code",
    "deepnote_cell_height": 250.9499969482422
   },
   "source": "# data retrieved from https://nijianmo.github.io/amazon/index.html#subsets\n\n# df_video       = getDF('/work/data/Video_Games_5.json.gz')                # 0.15 GB \n# df_clothing    = getDF('/work/data/Clothing_Shoes_and_Jewelry_5.json.gz') # 1.20 GB \n# df_electronics = getDF('/work/data/Electronics_5.json.gz')                # 1.20 GB \n# df_home        = getDF('/work/data/Home_and_Kitchen_5.json.gz')           # 0.93 GB \n# df_movies      = getDF('/work/data/Movies_and_TV_5.json.gz')              # 0.77 GB ",
   "execution_count": null,
   "outputs": [
    {
     "output_type": "error",
     "ename": "FileNotFoundError",
     "evalue": "[Errno 2] No such file or directory: '/work/data/Video_Games_5.json.gz'",
     "traceback": [
      "\u001b[0;31m---------------------------------------------------------------------------\u001b[0m",
      "\u001b[0;31mFileNotFoundError\u001b[0m                         Traceback (most recent call last)",
      "\u001b[0;32m<ipython-input-2-b672a4f0bbd4>\u001b[0m in \u001b[0;36m<cell line: 3>\u001b[0;34m()\u001b[0m\n\u001b[1;32m      1\u001b[0m \u001b[0;31m# data retrieved from https://nijianmo.github.io/amazon/index.html#subsets\u001b[0m\u001b[0;34m\u001b[0m\u001b[0;34m\u001b[0m\u001b[0m\n\u001b[1;32m      2\u001b[0m \u001b[0;34m\u001b[0m\u001b[0m\n\u001b[0;32m----> 3\u001b[0;31m \u001b[0mdf_video\u001b[0m       \u001b[0;34m=\u001b[0m \u001b[0mgetDF\u001b[0m\u001b[0;34m(\u001b[0m\u001b[0;34m'/work/data/Video_Games_5.json.gz'\u001b[0m\u001b[0;34m)\u001b[0m                \u001b[0;31m# 0.15 GB\u001b[0m\u001b[0;34m\u001b[0m\u001b[0;34m\u001b[0m\u001b[0m\n\u001b[0m\u001b[1;32m      4\u001b[0m \u001b[0;31m# df_clothing    = getDF('/work/data/Clothing_Shoes_and_Jewelry_5.json.gz') # 1.20 GB\u001b[0m\u001b[0;34m\u001b[0m\u001b[0;34m\u001b[0m\u001b[0m\n\u001b[1;32m      5\u001b[0m \u001b[0;31m# df_electronics = getDF('/work/data/Electronics_5.json.gz')                # 1.20 GB\u001b[0m\u001b[0;34m\u001b[0m\u001b[0;34m\u001b[0m\u001b[0m\n",
      "\u001b[0;32m<ipython-input-1-afbab4654696>\u001b[0m in \u001b[0;36mgetDF\u001b[0;34m(path)\u001b[0m\n\u001b[1;32m     13\u001b[0m   \u001b[0mi\u001b[0m \u001b[0;34m=\u001b[0m \u001b[0;36m0\u001b[0m\u001b[0;34m\u001b[0m\u001b[0;34m\u001b[0m\u001b[0m\n\u001b[1;32m     14\u001b[0m   \u001b[0mdf\u001b[0m \u001b[0;34m=\u001b[0m \u001b[0;34m{\u001b[0m\u001b[0;34m}\u001b[0m\u001b[0;34m\u001b[0m\u001b[0;34m\u001b[0m\u001b[0m\n\u001b[0;32m---> 15\u001b[0;31m   \u001b[0;32mfor\u001b[0m \u001b[0md\u001b[0m \u001b[0;32min\u001b[0m \u001b[0mparse\u001b[0m\u001b[0;34m(\u001b[0m\u001b[0mpath\u001b[0m\u001b[0;34m)\u001b[0m\u001b[0;34m:\u001b[0m\u001b[0;34m\u001b[0m\u001b[0;34m\u001b[0m\u001b[0m\n\u001b[0m\u001b[1;32m     16\u001b[0m     \u001b[0mdf\u001b[0m\u001b[0;34m[\u001b[0m\u001b[0mi\u001b[0m\u001b[0;34m]\u001b[0m \u001b[0;34m=\u001b[0m \u001b[0md\u001b[0m\u001b[0;34m\u001b[0m\u001b[0;34m\u001b[0m\u001b[0m\n\u001b[1;32m     17\u001b[0m     \u001b[0mi\u001b[0m \u001b[0;34m+=\u001b[0m \u001b[0;36m1\u001b[0m\u001b[0;34m\u001b[0m\u001b[0;34m\u001b[0m\u001b[0m\n",
      "\u001b[0;32m<ipython-input-1-afbab4654696>\u001b[0m in \u001b[0;36mparse\u001b[0;34m(path)\u001b[0m\n\u001b[1;32m      6\u001b[0m \u001b[0;34m\u001b[0m\u001b[0m\n\u001b[1;32m      7\u001b[0m \u001b[0;32mdef\u001b[0m \u001b[0mparse\u001b[0m\u001b[0;34m(\u001b[0m\u001b[0mpath\u001b[0m\u001b[0;34m)\u001b[0m\u001b[0;34m:\u001b[0m\u001b[0;34m\u001b[0m\u001b[0;34m\u001b[0m\u001b[0m\n\u001b[0;32m----> 8\u001b[0;31m   \u001b[0mg\u001b[0m \u001b[0;34m=\u001b[0m \u001b[0mgzip\u001b[0m\u001b[0;34m.\u001b[0m\u001b[0mopen\u001b[0m\u001b[0;34m(\u001b[0m\u001b[0mpath\u001b[0m\u001b[0;34m,\u001b[0m \u001b[0;34m'rb'\u001b[0m\u001b[0;34m)\u001b[0m\u001b[0;34m\u001b[0m\u001b[0;34m\u001b[0m\u001b[0m\n\u001b[0m\u001b[1;32m      9\u001b[0m   \u001b[0;32mfor\u001b[0m \u001b[0ml\u001b[0m \u001b[0;32min\u001b[0m \u001b[0mg\u001b[0m\u001b[0;34m:\u001b[0m\u001b[0;34m\u001b[0m\u001b[0;34m\u001b[0m\u001b[0m\n\u001b[1;32m     10\u001b[0m     \u001b[0;32myield\u001b[0m \u001b[0mjson\u001b[0m\u001b[0;34m.\u001b[0m\u001b[0mloads\u001b[0m\u001b[0;34m(\u001b[0m\u001b[0ml\u001b[0m\u001b[0;34m)\u001b[0m\u001b[0;34m\u001b[0m\u001b[0;34m\u001b[0m\u001b[0m\n",
      "\u001b[0;32m/usr/local/lib/python3.9/gzip.py\u001b[0m in \u001b[0;36mopen\u001b[0;34m(filename, mode, compresslevel, encoding, errors, newline)\u001b[0m\n\u001b[1;32m     56\u001b[0m     \u001b[0mgz_mode\u001b[0m \u001b[0;34m=\u001b[0m \u001b[0mmode\u001b[0m\u001b[0;34m.\u001b[0m\u001b[0mreplace\u001b[0m\u001b[0;34m(\u001b[0m\u001b[0;34m\"t\"\u001b[0m\u001b[0;34m,\u001b[0m \u001b[0;34m\"\"\u001b[0m\u001b[0;34m)\u001b[0m\u001b[0;34m\u001b[0m\u001b[0;34m\u001b[0m\u001b[0m\n\u001b[1;32m     57\u001b[0m     \u001b[0;32mif\u001b[0m \u001b[0misinstance\u001b[0m\u001b[0;34m(\u001b[0m\u001b[0mfilename\u001b[0m\u001b[0;34m,\u001b[0m \u001b[0;34m(\u001b[0m\u001b[0mstr\u001b[0m\u001b[0;34m,\u001b[0m \u001b[0mbytes\u001b[0m\u001b[0;34m,\u001b[0m \u001b[0mos\u001b[0m\u001b[0;34m.\u001b[0m\u001b[0mPathLike\u001b[0m\u001b[0;34m)\u001b[0m\u001b[0;34m)\u001b[0m\u001b[0;34m:\u001b[0m\u001b[0;34m\u001b[0m\u001b[0;34m\u001b[0m\u001b[0m\n\u001b[0;32m---> 58\u001b[0;31m         \u001b[0mbinary_file\u001b[0m \u001b[0;34m=\u001b[0m \u001b[0mGzipFile\u001b[0m\u001b[0;34m(\u001b[0m\u001b[0mfilename\u001b[0m\u001b[0;34m,\u001b[0m \u001b[0mgz_mode\u001b[0m\u001b[0;34m,\u001b[0m \u001b[0mcompresslevel\u001b[0m\u001b[0;34m)\u001b[0m\u001b[0;34m\u001b[0m\u001b[0;34m\u001b[0m\u001b[0m\n\u001b[0m\u001b[1;32m     59\u001b[0m     \u001b[0;32melif\u001b[0m \u001b[0mhasattr\u001b[0m\u001b[0;34m(\u001b[0m\u001b[0mfilename\u001b[0m\u001b[0;34m,\u001b[0m \u001b[0;34m\"read\"\u001b[0m\u001b[0;34m)\u001b[0m \u001b[0;32mor\u001b[0m \u001b[0mhasattr\u001b[0m\u001b[0;34m(\u001b[0m\u001b[0mfilename\u001b[0m\u001b[0;34m,\u001b[0m \u001b[0;34m\"write\"\u001b[0m\u001b[0;34m)\u001b[0m\u001b[0;34m:\u001b[0m\u001b[0;34m\u001b[0m\u001b[0;34m\u001b[0m\u001b[0m\n\u001b[1;32m     60\u001b[0m         \u001b[0mbinary_file\u001b[0m \u001b[0;34m=\u001b[0m \u001b[0mGzipFile\u001b[0m\u001b[0;34m(\u001b[0m\u001b[0;32mNone\u001b[0m\u001b[0;34m,\u001b[0m \u001b[0mgz_mode\u001b[0m\u001b[0;34m,\u001b[0m \u001b[0mcompresslevel\u001b[0m\u001b[0;34m,\u001b[0m \u001b[0mfilename\u001b[0m\u001b[0;34m)\u001b[0m\u001b[0;34m\u001b[0m\u001b[0;34m\u001b[0m\u001b[0m\n",
      "\u001b[0;32m/usr/local/lib/python3.9/gzip.py\u001b[0m in \u001b[0;36m__init__\u001b[0;34m(self, filename, mode, compresslevel, fileobj, mtime)\u001b[0m\n\u001b[1;32m    171\u001b[0m             \u001b[0mmode\u001b[0m \u001b[0;34m+=\u001b[0m \u001b[0;34m'b'\u001b[0m\u001b[0;34m\u001b[0m\u001b[0;34m\u001b[0m\u001b[0m\n\u001b[1;32m    172\u001b[0m         \u001b[0;32mif\u001b[0m \u001b[0mfileobj\u001b[0m \u001b[0;32mis\u001b[0m \u001b[0;32mNone\u001b[0m\u001b[0;34m:\u001b[0m\u001b[0;34m\u001b[0m\u001b[0;34m\u001b[0m\u001b[0m\n\u001b[0;32m--> 173\u001b[0;31m             \u001b[0mfileobj\u001b[0m \u001b[0;34m=\u001b[0m \u001b[0mself\u001b[0m\u001b[0;34m.\u001b[0m\u001b[0mmyfileobj\u001b[0m \u001b[0;34m=\u001b[0m \u001b[0mbuiltins\u001b[0m\u001b[0;34m.\u001b[0m\u001b[0mopen\u001b[0m\u001b[0;34m(\u001b[0m\u001b[0mfilename\u001b[0m\u001b[0;34m,\u001b[0m \u001b[0mmode\u001b[0m \u001b[0;32mor\u001b[0m \u001b[0;34m'rb'\u001b[0m\u001b[0;34m)\u001b[0m\u001b[0;34m\u001b[0m\u001b[0;34m\u001b[0m\u001b[0m\n\u001b[0m\u001b[1;32m    174\u001b[0m         \u001b[0;32mif\u001b[0m \u001b[0mfilename\u001b[0m \u001b[0;32mis\u001b[0m \u001b[0;32mNone\u001b[0m\u001b[0;34m:\u001b[0m\u001b[0;34m\u001b[0m\u001b[0;34m\u001b[0m\u001b[0m\n\u001b[1;32m    175\u001b[0m             \u001b[0mfilename\u001b[0m \u001b[0;34m=\u001b[0m \u001b[0mgetattr\u001b[0m\u001b[0;34m(\u001b[0m\u001b[0mfileobj\u001b[0m\u001b[0;34m,\u001b[0m \u001b[0;34m'name'\u001b[0m\u001b[0;34m,\u001b[0m \u001b[0;34m''\u001b[0m\u001b[0;34m)\u001b[0m\u001b[0;34m\u001b[0m\u001b[0;34m\u001b[0m\u001b[0m\n",
      "\u001b[0;31mFileNotFoundError\u001b[0m: [Errno 2] No such file or directory: '/work/data/Video_Games_5.json.gz'"
     ]
    }
   ]
  },
  {
   "cell_type": "code",
   "metadata": {
    "cell_id": "b4194b52b6d646a89a31ffc00f62e761",
    "tags": [],
    "deepnote_to_be_reexecuted": false,
    "source_hash": "84d16ecc",
    "execution_start": 1653411550089,
    "execution_millis": 12,
    "deepnote_cell_type": "code",
    "deepnote_cell_height": 368.75,
    "deepnote_output_heights": [
     21
    ]
   },
   "source": "'''\ncolumn explanations\n\noverall          rating of the product\nreviewTime       time of the review (raw)\nreviewerID       ID of the reviewer, e.g. A2SUAM1J3GNN3B\nasin             ID of the product, e.g. 0000013714\nstyle            a disctionary of the product metadata, e.g., \"Format\" is \"Hardcover\"\nreviewerName     name of the reviewer\nreviewText       text of the review\nsummary          summary of the review\nunixReviewTime   time of the review (unix time)\nvote             helpful votes of the review\nimage            images that users post after they have received the product\n'''",
   "execution_count": null,
   "outputs": [
    {
     "output_type": "execute_result",
     "execution_count": 4,
     "data": {
      "text/plain": "'\\ncolumn explanations\\n\\noverall          rating of the product\\nreviewTime       time of the review (raw)\\nreviewerID       ID of the reviewer, e.g. A2SUAM1J3GNN3B\\nasin             ID of the product, e.g. 0000013714\\nstyle            a disctionary of the product metadata, e.g., \"Format\" is \"Hardcover\"\\nreviewerName     name of the reviewer\\nreviewText       text of the review\\nsummary          summary of the review\\nunixReviewTime   time of the review (unix time)\\nvote             helpful votes of the review\\nimage            images that users post after they have received the product\\n'"
     },
     "metadata": {}
    }
   ]
  },
  {
   "cell_type": "markdown",
   "source": "For efficiency reasons we reduced each dataset to ~500,000 randomized entries and saved them as pickles",
   "metadata": {
    "cell_id": "495ef1df6dad46ca932e051d908dfb56",
    "tags": [],
    "deepnote_cell_type": "markdown",
    "deepnote_cell_height": 51.56666564941406
   }
  },
  {
   "cell_type": "code",
   "metadata": {
    "cell_id": "10b3c21cc525487ea54890e3670e0800",
    "tags": [],
    "deepnote_to_be_reexecuted": false,
    "source_hash": "fb370fd",
    "execution_start": 1653411550099,
    "execution_millis": 0,
    "output_cleared": true,
    "deepnote_cell_type": "code",
    "deepnote_cell_height": 116.16667175292969
   },
   "source": "# example \n# df_movies_frac = df_movies.sample(frac=0.15) # reduce dataset from 3,500,000 entries to 500,000 entries\n# df_movies_frac.to_pickle(\"./movies.pkl\", protocol=5) # save new dataset as a pkl file",
   "execution_count": null,
   "outputs": []
  },
  {
   "cell_type": "markdown",
   "source": "### Load the pickles ( ͡° ͜ʖ ͡°)",
   "metadata": {
    "cell_id": "26dd86debf504917afeb0a3071b26065",
    "tags": [],
    "is_collapsed": false,
    "deepnote_cell_type": "text-cell-h3"
   }
  },
  {
   "cell_type": "code",
   "metadata": {
    "cell_id": "23282bb76b2a4cb9b946458b141af3b4",
    "tags": [],
    "deepnote_to_be_reexecuted": false,
    "source_hash": "32935f09",
    "execution_start": 1653562277360,
    "execution_millis": 9101,
    "output_cleared": false,
    "deepnote_cell_type": "code",
    "deepnote_cell_height": 612.4166870117188
   },
   "source": "# pandas version check\n!pip show pandas\n!pip install pandas==1.3.5\n\n# pickle thing\n!pip3 install pickle5\n\n# then restart notebook and clear all variables. Then we should be able to load the pickled dataframes",
   "execution_count": null,
   "outputs": [
    {
     "name": "stdout",
     "text": "Name: pandas\nVersion: 1.3.5\nSummary: Powerful data structures for data analysis, time series, and statistics\nHome-page: https://pandas.pydata.org\nAuthor: The Pandas Development Team\nAuthor-email: pandas-dev@python.org\nLicense: BSD-3-Clause\nLocation: /root/venv/lib/python3.9/site-packages\nRequires: python-dateutil, pytz, numpy\nRequired-by: seaborn, geopandas, datascience, altair\nRequirement already satisfied: pandas==1.3.5 in /root/venv/lib/python3.9/site-packages (1.3.5)\nRequirement already satisfied: python-dateutil>=2.7.3 in /shared-libs/python3.9/py-core/lib/python3.9/site-packages (from pandas==1.3.5) (2.8.2)\nRequirement already satisfied: numpy>=1.17.3 in /shared-libs/python3.9/py/lib/python3.9/site-packages (from pandas==1.3.5) (1.22.3)\nRequirement already satisfied: pytz>=2017.3 in /shared-libs/python3.9/py/lib/python3.9/site-packages (from pandas==1.3.5) (2022.1)\nRequirement already satisfied: six>=1.5 in /shared-libs/python3.9/py-core/lib/python3.9/site-packages (from python-dateutil>=2.7.3->pandas==1.3.5) (1.16.0)\n\u001b[33mWARNING: You are using pip version 21.2.3; however, version 22.1.1 is available.\nYou should consider upgrading via the '/root/venv/bin/python -m pip install --upgrade pip' command.\u001b[0m\nRequirement already satisfied: pickle5 in /root/venv/lib/python3.9/site-packages (0.0.11)\n\u001b[33mWARNING: You are using pip version 21.2.3; however, version 22.1.1 is available.\nYou should consider upgrading via the '/root/venv/bin/python -m pip install --upgrade pip' command.\u001b[0m\n",
     "output_type": "stream"
    }
   ]
  },
  {
   "cell_type": "code",
   "metadata": {
    "cell_id": "7acd073304c840879a905e5ae08eff44",
    "tags": [],
    "deepnote_to_be_reexecuted": false,
    "source_hash": "65dabab2",
    "execution_start": 1653412127326,
    "execution_millis": 8579,
    "deepnote_cell_type": "code",
    "deepnote_cell_height": 368.16668701171875
   },
   "source": "import pickle5 as pickle\n\n\nwith open('/work/data/clothing.pkl', 'rb') as fh:\n    df_clothing = pickle.load(fh)\n\nwith open('/work/data/electronics.pkl', 'rb') as fh:\n    df_electronics = pickle.load(fh)\n\nwith open('/work/data/home.pkl', 'rb') as fh:\n    df_home = pickle.load(fh)\n\nwith open('/work/data/movies.pkl', 'rb') as fh:\n    df_movies = pickle.load(fh)\n\nwith open('/work/data/video.pkl', 'rb') as fh:\n    df_video = pickle.load(fh)",
   "execution_count": null,
   "outputs": []
  },
  {
   "cell_type": "markdown",
   "source": "### Exploring the data",
   "metadata": {
    "cell_id": "1095c4bed026410cb29d8f0a0bdf29d0",
    "tags": [],
    "is_collapsed": false,
    "deepnote_cell_type": "text-cell-h3"
   }
  },
  {
   "cell_type": "code",
   "metadata": {
    "cell_id": "3da76fea3eae4edd925757188bbdc27c",
    "tags": [],
    "deepnote_to_be_reexecuted": false,
    "source_hash": "6ae6d974",
    "execution_start": 1653412187649,
    "execution_millis": 3,
    "deepnote_cell_type": "code",
    "deepnote_cell_height": 98.16667175292969
   },
   "source": "all_dfs = [df_clothing, df_electronics, df_home, df_movies, df_video]\nall_dfs_string = ['df_clothing', 'df_electronics', 'df_home', 'df_movies', 'df_video']",
   "execution_count": null,
   "outputs": []
  },
  {
   "cell_type": "code",
   "metadata": {
    "cell_id": "e432627552364f4e8acf19968900e7cf",
    "tags": [],
    "deepnote_to_be_reexecuted": false,
    "source_hash": "d158052e",
    "execution_start": 1653412191961,
    "execution_millis": 839,
    "deepnote_cell_type": "code",
    "deepnote_cell_height": 789.75
   },
   "source": "for i in range(len(all_dfs)):\n    print(all_dfs_string[i][3:])\n    print('Unique reviewers: ' , len(all_dfs[i]['reviewerID'].unique()))\n    print('Total number of rows: ' ,len(all_dfs[i]))\n    print('Average reviews pr person: ' ,len(all_dfs[i])/len(all_dfs[i]['reviewerID'].unique()))\n    print('\\n')",
   "execution_count": null,
   "outputs": [
    {
     "name": "stdout",
     "text": "arts\nUnique reviewers:  56210\nTotal number of rows:  494485\nAverage reviews pr person:  8.797100160113859\n\n\nclothing\nUnique reviewers:  388604\nTotal number of rows:  499946\nAverage reviews pr person:  1.286517894823522\n\n\nelectronics\nUnique reviewers:  336248\nTotal number of rows:  498730\nAverage reviews pr person:  1.4832207180414456\n\n\nhome\nUnique reviewers:  338925\nTotal number of rows:  482927\nAverage reviews pr person:  1.4248786604706056\n\n\nmovies\nUnique reviewers:  213174\nTotal number of rows:  511503\nAverage reviews pr person:  2.399462410988207\n\n\nvideo\nUnique reviewers:  55223\nTotal number of rows:  497577\nAverage reviews pr person:  9.010321786212266\n\n\n",
     "output_type": "stream"
    }
   ]
  },
  {
   "cell_type": "code",
   "metadata": {
    "cell_id": "dddb5dfedda64b89a3ff49ed99383edb",
    "tags": [],
    "deepnote_to_be_reexecuted": false,
    "source_hash": "d70426d3",
    "execution_start": 1653412200719,
    "execution_millis": 18,
    "deepnote_cell_type": "code",
    "deepnote_cell_height": 753.75
   },
   "source": "for i in range(len(all_dfs)):\n    print(all_dfs_string[i][3:])\n    print(all_dfs[i]['overall'].value_counts())\n    print('\\n')",
   "execution_count": null,
   "outputs": [
    {
     "name": "stdout",
     "text": "arts\n5.0    377570\n4.0     61145\n3.0     28628\n1.0     14358\n2.0     12784\nName: overall, dtype: int64\n\n\nclothing\n5.0    309853\n4.0     92516\n3.0     47609\n2.0     25580\n1.0     24388\nName: overall, dtype: int64\n\n\nelectronics\n5.0    319372\n4.0     84533\n3.0     37339\n1.0     34685\n2.0     22801\nName: overall, dtype: int64\n\n\nhome\n5.0    327988\n4.0     72466\n3.0     35834\n1.0     26276\n2.0     20363\nName: overall, dtype: int64\n\n\nmovies\n5.0    304301\n4.0    100279\n3.0     52291\n1.0     28760\n2.0     25872\nName: overall, dtype: int64\n\n\nvideo\n5.0    299759\n4.0     93654\n3.0     49146\n1.0     30883\n2.0     24135\nName: overall, dtype: int64\n\n\n",
     "output_type": "stream"
    }
   ]
  },
  {
   "cell_type": "code",
   "metadata": {
    "cell_id": "bb2a9c7110b64392913dd7ca29d21d4a",
    "tags": [],
    "deepnote_to_be_reexecuted": false,
    "source_hash": "96c03ea5",
    "execution_start": 1653412723889,
    "execution_millis": 44,
    "deepnote_cell_type": "code",
    "deepnote_cell_height": 134.75,
    "deepnote_output_heights": [
     21
    ]
   },
   "source": "len(all_dfs[0]['reviewerID'].unique())\n",
   "execution_count": null,
   "outputs": [
    {
     "output_type": "execute_result",
     "execution_count": 20,
     "data": {
      "text/plain": "56210"
     },
     "metadata": {}
    }
   ]
  },
  {
   "cell_type": "code",
   "metadata": {
    "cell_id": "11067e6c5f1b4c89a2e15f1afe7687a9",
    "tags": [],
    "deepnote_to_be_reexecuted": false,
    "source_hash": "1f6ee2c4",
    "execution_start": 1653412727080,
    "execution_millis": 993,
    "deepnote_table_state": {
     "pageSize": 10,
     "pageIndex": 14,
     "filters": [],
     "sortBy": []
    },
    "deepnote_table_loading": false,
    "deepnote_table_invalid": false,
    "deepnote_cell_type": "code",
    "deepnote_cell_height": 323.70001220703125
   },
   "source": "print(df_movies['reviewText'].isnull().sum())\n\n\n# check rows that contain one or more nan\nnan_rows = df_movies[df_movies.isnull().T.any()]\nnan_rows",
   "execution_count": null,
   "outputs": [
    {
     "name": "stdout",
     "text": "0\n",
     "output_type": "stream"
    },
    {
     "output_type": "execute_result",
     "execution_count": 21,
     "data": {
      "application/vnd.deepnote.dataframe.v3+json": {
       "column_count": 3,
       "row_count": 0,
       "columns": [
        {
         "name": "overall",
         "dtype": "object",
         "stats": {
          "unique_count": 0,
          "nan_count": 0,
          "categories": []
         }
        },
        {
         "name": "reviewerID",
         "dtype": "object",
         "stats": {
          "unique_count": 0,
          "nan_count": 0,
          "categories": []
         }
        },
        {
         "name": "reviewText",
         "dtype": "object",
         "stats": {
          "unique_count": 0,
          "nan_count": 0,
          "categories": []
         }
        },
        {
         "name": "_deepnote_index_column",
         "dtype": "int64"
        }
       ],
       "rows": []
      },
      "text/plain": "Empty DataFrame\nColumns: [overall, reviewerID, reviewText]\nIndex: []",
      "text/html": "<div>\n<style scoped>\n    .dataframe tbody tr th:only-of-type {\n        vertical-align: middle;\n    }\n\n    .dataframe tbody tr th {\n        vertical-align: top;\n    }\n\n    .dataframe thead th {\n        text-align: right;\n    }\n</style>\n<table border=\"1\" class=\"dataframe\">\n  <thead>\n    <tr style=\"text-align: right;\">\n      <th></th>\n      <th>overall</th>\n      <th>reviewerID</th>\n      <th>reviewText</th>\n    </tr>\n  </thead>\n  <tbody>\n  </tbody>\n</table>\n</div>"
     },
     "metadata": {}
    }
   ]
  },
  {
   "cell_type": "code",
   "metadata": {
    "cell_id": "a461df01a6a04a95b144c1cb8e719a0f",
    "tags": [],
    "deepnote_to_be_reexecuted": false,
    "source_hash": "51c4ab7b",
    "execution_start": 1653412732079,
    "execution_millis": 1067,
    "deepnote_cell_type": "code",
    "deepnote_cell_height": 789.75
   },
   "source": "# number of reviews per reviewer per category\n\nfor i in range(len(all_dfs)):\n    print(all_dfs_string[i][3:])\n    print(all_dfs[i]['reviewerID'].value_counts())\n    print('\\n')",
   "execution_count": null,
   "outputs": [
    {
     "name": "stdout",
     "text": "arts\nA13OFOB1394G31    217\nALYZJ7W14YS26     185\nA3NDWL56CCM3Q5    184\nA2OYDT4I6AK54P    167\nAL7KMEKSLCW84     157\n                 ... \nA5AGPUR4P63U7       4\nA3VUQQR4G6HAZ       4\nA2U3FA2NTCLYND      4\nA2T52E9EEEWIER      3\nA2NJFRWFN7BLHW      3\nName: reviewerID, Length: 56210, dtype: int64\n\n\nclothing\nAENH50GW3OKDA     21\nA3G0F3VRM187KT    19\nA2OS7CFQI4DWPT    18\nALFRMOGTO1K4M     18\nAVU1ILDDYW301     18\n                  ..\nAUCD4JXK5P6CQ      1\nA2KVE7DIV7FZWK     1\nA2CVWG5L03RTMJ     1\nA15G43AQI4BIWM     1\nA1F2XU4R2E83AH     1\nName: reviewerID, Length: 388604, dtype: int64\n\n\nelectronics\nA3OXHLG6DIBRW8    45\nA680RUE1FDO8B     42\nA5JLAU2ARJ0BO     41\nA6FIAB28IS79      38\nA31N0XY2UTB25C    37\n                  ..\nA3PVECXMTTF486     1\nA3EN46T7IDP818     1\nAYNNJ0DBGL5H7      1\nA2MI4HWTWE9DP3     1\nA2RMQ9IXRGJJOT     1\nName: reviewerID, Length: 336248, dtype: int64\n\n\nhome\nAVU1ILDDYW301     39\nA25C2M3QF9G7OQ    36\nA1IU7S4HCK1XK0    32\nA2GP4EJIAA2OE0    29\nA1QBOC76MIOJYP    29\n                  ..\nA32GQ7QOXSNLYZ     1\nALQ46VIAWQKQO      1\nA22S0Q6Z0ELEAA     1\nA2033WHNAJMRSS     1\nA3H5ISDW7TFDLX     1\nName: reviewerID, Length: 338925, dtype: int64\n\n\nmovies\nAV6QDP8Q0ONK4     533\nA328S9RN3U5M68    310\nABO2ZI2Y5DQ9T     298\nA16CZRQL23NOIW    272\nA3LZGLA88K0LA0    270\n                 ... \nAIOCWQJ0EW54F       1\nA3LQHYYPKXI8LB      1\nA1XZVVK4TR5P54      1\nA3IF8BQ17WT6MM      1\nA3IYFVO3O1RM2P      1\nName: reviewerID, Length: 213174, dtype: int64\n\n\nvideo\nA3V6Z4RCDGRC44    815\nAJKWF4W7QD4NS     795\nA3W4D8XOGLWUN5    521\nA2QHS1ZCIQOL7E    472\nA2TCG2HV1VJP6V    453\n                 ... \nAADZHZTODQRKB       5\nA2QL99F4W9IB3E      5\nA28C2PAK06VJ4L      4\nA1I75X6T38Y4UW      4\nA1HV707K7KWQP0      4\nName: reviewerID, Length: 55223, dtype: int64\n\n\n",
     "output_type": "stream"
    }
   ]
  },
  {
   "cell_type": "markdown",
   "source": "## Preprocessing",
   "metadata": {
    "cell_id": "3166472bfef74b8dab96f6459fe47da4",
    "tags": [],
    "is_collapsed": false,
    "deepnote_cell_type": "text-cell-h2"
   }
  },
  {
   "cell_type": "code",
   "metadata": {
    "cell_id": "4189116271bc43a9b7cbdcc4d1c8a251",
    "tags": [],
    "deepnote_to_be_reexecuted": false,
    "source_hash": "4c47c5e5",
    "execution_start": 1653411729257,
    "execution_millis": 1,
    "deepnote_cell_type": "code",
    "deepnote_cell_height": 134.1666717529297
   },
   "source": "# remove unwanted columns\n# remove rows with null in reviewText\n# alter 'overall'-column to be a sentiment column, either positive (1 or 2) or negative (4 or 5)\n# split datasets so we have equal amount of positive and negative reviews in each dataset",
   "execution_count": null,
   "outputs": []
  },
  {
   "cell_type": "code",
   "metadata": {
    "cell_id": "8a93b8918dbe44798511fd6c674e7f3d",
    "tags": [],
    "deepnote_to_be_reexecuted": false,
    "source_hash": "4fcb8791",
    "execution_start": 1653412737752,
    "execution_millis": 4,
    "deepnote_cell_type": "code",
    "deepnote_cell_height": 212.75,
    "deepnote_output_heights": [
     117
    ]
   },
   "source": "all_dfs_string",
   "execution_count": null,
   "outputs": [
    {
     "output_type": "execute_result",
     "execution_count": 23,
     "data": {
      "text/plain": "['df_arts',\n 'df_clothing',\n 'df_electronics',\n 'df_home',\n 'df_movies',\n 'df_video']"
     },
     "metadata": {}
    }
   ]
  },
  {
   "cell_type": "code",
   "metadata": {
    "cell_id": "bbd51c9fecd34ae7b8e1b24cc7f6a805",
    "tags": [],
    "deepnote_to_be_reexecuted": false,
    "source_hash": "f3ad74d7",
    "execution_start": 1653412741891,
    "execution_millis": 16,
    "deepnote_cell_type": "code",
    "deepnote_cell_height": 306.1499938964844
   },
   "source": "# removing unwanted columns\n\nunwanted_columns = ['verified', 'reviewTime', 'asin', 'style', 'reviewerName', 'summary', 'unixReviewTime', 'vote', 'image']\n\ndf_clothing = df_clothing.drop(unwanted_columns, axis=1)\ndf_electronics = df_electronics.drop(unwanted_columns, axis=1)\ndf_home = df_home.drop(unwanted_columns, axis=1)\ndf_movies = df_movies.drop(unwanted_columns, axis=1)\ndf_video = df_video.drop(unwanted_columns, axis=1)",
   "execution_count": null,
   "outputs": [
    {
     "output_type": "error",
     "ename": "KeyError",
     "evalue": "\"['verified' 'reviewTime' 'asin' 'style' 'reviewerName' 'summary'\\n 'unixReviewTime' 'vote' 'image'] not found in axis\"",
     "traceback": [
      "\u001b[0;31m---------------------------------------------------------------------------\u001b[0m",
      "\u001b[0;31mKeyError\u001b[0m                                  Traceback (most recent call last)",
      "\u001b[0;32m<ipython-input-24-7830f8e0b856>\u001b[0m in \u001b[0;36m<cell line: 5>\u001b[0;34m()\u001b[0m\n\u001b[1;32m      3\u001b[0m \u001b[0munwanted_columns\u001b[0m \u001b[0;34m=\u001b[0m \u001b[0;34m[\u001b[0m\u001b[0;34m'verified'\u001b[0m\u001b[0;34m,\u001b[0m \u001b[0;34m'reviewTime'\u001b[0m\u001b[0;34m,\u001b[0m \u001b[0;34m'asin'\u001b[0m\u001b[0;34m,\u001b[0m \u001b[0;34m'style'\u001b[0m\u001b[0;34m,\u001b[0m \u001b[0;34m'reviewerName'\u001b[0m\u001b[0;34m,\u001b[0m \u001b[0;34m'summary'\u001b[0m\u001b[0;34m,\u001b[0m \u001b[0;34m'unixReviewTime'\u001b[0m\u001b[0;34m,\u001b[0m \u001b[0;34m'vote'\u001b[0m\u001b[0;34m,\u001b[0m \u001b[0;34m'image'\u001b[0m\u001b[0;34m]\u001b[0m\u001b[0;34m\u001b[0m\u001b[0;34m\u001b[0m\u001b[0m\n\u001b[1;32m      4\u001b[0m \u001b[0;34m\u001b[0m\u001b[0m\n\u001b[0;32m----> 5\u001b[0;31m \u001b[0mdf_arts\u001b[0m \u001b[0;34m=\u001b[0m \u001b[0mdf_arts\u001b[0m\u001b[0;34m.\u001b[0m\u001b[0mdrop\u001b[0m\u001b[0;34m(\u001b[0m\u001b[0munwanted_columns\u001b[0m\u001b[0;34m,\u001b[0m \u001b[0maxis\u001b[0m\u001b[0;34m=\u001b[0m\u001b[0;36m1\u001b[0m\u001b[0;34m)\u001b[0m\u001b[0;34m\u001b[0m\u001b[0;34m\u001b[0m\u001b[0m\n\u001b[0m\u001b[1;32m      6\u001b[0m \u001b[0mdf_clothing\u001b[0m \u001b[0;34m=\u001b[0m \u001b[0mdf_clothing\u001b[0m\u001b[0;34m.\u001b[0m\u001b[0mdrop\u001b[0m\u001b[0;34m(\u001b[0m\u001b[0munwanted_columns\u001b[0m\u001b[0;34m,\u001b[0m \u001b[0maxis\u001b[0m\u001b[0;34m=\u001b[0m\u001b[0;36m1\u001b[0m\u001b[0;34m)\u001b[0m\u001b[0;34m\u001b[0m\u001b[0;34m\u001b[0m\u001b[0m\n\u001b[1;32m      7\u001b[0m \u001b[0mdf_electronics\u001b[0m \u001b[0;34m=\u001b[0m \u001b[0mdf_electronics\u001b[0m\u001b[0;34m.\u001b[0m\u001b[0mdrop\u001b[0m\u001b[0;34m(\u001b[0m\u001b[0munwanted_columns\u001b[0m\u001b[0;34m,\u001b[0m \u001b[0maxis\u001b[0m\u001b[0;34m=\u001b[0m\u001b[0;36m1\u001b[0m\u001b[0;34m)\u001b[0m\u001b[0;34m\u001b[0m\u001b[0;34m\u001b[0m\u001b[0m\n",
      "\u001b[0;32m~/venv/lib/python3.9/site-packages/pandas/util/_decorators.py\u001b[0m in \u001b[0;36mwrapper\u001b[0;34m(*args, **kwargs)\u001b[0m\n\u001b[1;32m    309\u001b[0m                     \u001b[0mstacklevel\u001b[0m\u001b[0;34m=\u001b[0m\u001b[0mstacklevel\u001b[0m\u001b[0;34m,\u001b[0m\u001b[0;34m\u001b[0m\u001b[0;34m\u001b[0m\u001b[0m\n\u001b[1;32m    310\u001b[0m                 )\n\u001b[0;32m--> 311\u001b[0;31m             \u001b[0;32mreturn\u001b[0m \u001b[0mfunc\u001b[0m\u001b[0;34m(\u001b[0m\u001b[0;34m*\u001b[0m\u001b[0margs\u001b[0m\u001b[0;34m,\u001b[0m \u001b[0;34m**\u001b[0m\u001b[0mkwargs\u001b[0m\u001b[0;34m)\u001b[0m\u001b[0;34m\u001b[0m\u001b[0;34m\u001b[0m\u001b[0m\n\u001b[0m\u001b[1;32m    312\u001b[0m \u001b[0;34m\u001b[0m\u001b[0m\n\u001b[1;32m    313\u001b[0m         \u001b[0;32mreturn\u001b[0m \u001b[0mwrapper\u001b[0m\u001b[0;34m\u001b[0m\u001b[0;34m\u001b[0m\u001b[0m\n",
      "\u001b[0;32m~/venv/lib/python3.9/site-packages/pandas/core/frame.py\u001b[0m in \u001b[0;36mdrop\u001b[0;34m(self, labels, axis, index, columns, level, inplace, errors)\u001b[0m\n\u001b[1;32m   4904\u001b[0m                 \u001b[0mweight\u001b[0m  \u001b[0;36m1.0\u001b[0m     \u001b[0;36m0.8\u001b[0m\u001b[0;34m\u001b[0m\u001b[0;34m\u001b[0m\u001b[0m\n\u001b[1;32m   4905\u001b[0m         \"\"\"\n\u001b[0;32m-> 4906\u001b[0;31m         return super().drop(\n\u001b[0m\u001b[1;32m   4907\u001b[0m             \u001b[0mlabels\u001b[0m\u001b[0;34m=\u001b[0m\u001b[0mlabels\u001b[0m\u001b[0;34m,\u001b[0m\u001b[0;34m\u001b[0m\u001b[0;34m\u001b[0m\u001b[0m\n\u001b[1;32m   4908\u001b[0m             \u001b[0maxis\u001b[0m\u001b[0;34m=\u001b[0m\u001b[0maxis\u001b[0m\u001b[0;34m,\u001b[0m\u001b[0;34m\u001b[0m\u001b[0;34m\u001b[0m\u001b[0m\n",
      "\u001b[0;32m~/venv/lib/python3.9/site-packages/pandas/core/generic.py\u001b[0m in \u001b[0;36mdrop\u001b[0;34m(self, labels, axis, index, columns, level, inplace, errors)\u001b[0m\n\u001b[1;32m   4148\u001b[0m         \u001b[0;32mfor\u001b[0m \u001b[0maxis\u001b[0m\u001b[0;34m,\u001b[0m \u001b[0mlabels\u001b[0m \u001b[0;32min\u001b[0m \u001b[0maxes\u001b[0m\u001b[0;34m.\u001b[0m\u001b[0mitems\u001b[0m\u001b[0;34m(\u001b[0m\u001b[0;34m)\u001b[0m\u001b[0;34m:\u001b[0m\u001b[0;34m\u001b[0m\u001b[0;34m\u001b[0m\u001b[0m\n\u001b[1;32m   4149\u001b[0m             \u001b[0;32mif\u001b[0m \u001b[0mlabels\u001b[0m \u001b[0;32mis\u001b[0m \u001b[0;32mnot\u001b[0m \u001b[0;32mNone\u001b[0m\u001b[0;34m:\u001b[0m\u001b[0;34m\u001b[0m\u001b[0;34m\u001b[0m\u001b[0m\n\u001b[0;32m-> 4150\u001b[0;31m                 \u001b[0mobj\u001b[0m \u001b[0;34m=\u001b[0m \u001b[0mobj\u001b[0m\u001b[0;34m.\u001b[0m\u001b[0m_drop_axis\u001b[0m\u001b[0;34m(\u001b[0m\u001b[0mlabels\u001b[0m\u001b[0;34m,\u001b[0m \u001b[0maxis\u001b[0m\u001b[0;34m,\u001b[0m \u001b[0mlevel\u001b[0m\u001b[0;34m=\u001b[0m\u001b[0mlevel\u001b[0m\u001b[0;34m,\u001b[0m \u001b[0merrors\u001b[0m\u001b[0;34m=\u001b[0m\u001b[0merrors\u001b[0m\u001b[0;34m)\u001b[0m\u001b[0;34m\u001b[0m\u001b[0;34m\u001b[0m\u001b[0m\n\u001b[0m\u001b[1;32m   4151\u001b[0m \u001b[0;34m\u001b[0m\u001b[0m\n\u001b[1;32m   4152\u001b[0m         \u001b[0;32mif\u001b[0m \u001b[0minplace\u001b[0m\u001b[0;34m:\u001b[0m\u001b[0;34m\u001b[0m\u001b[0;34m\u001b[0m\u001b[0m\n",
      "\u001b[0;32m~/venv/lib/python3.9/site-packages/pandas/core/generic.py\u001b[0m in \u001b[0;36m_drop_axis\u001b[0;34m(self, labels, axis, level, errors)\u001b[0m\n\u001b[1;32m   4183\u001b[0m                 \u001b[0mnew_axis\u001b[0m \u001b[0;34m=\u001b[0m \u001b[0maxis\u001b[0m\u001b[0;34m.\u001b[0m\u001b[0mdrop\u001b[0m\u001b[0;34m(\u001b[0m\u001b[0mlabels\u001b[0m\u001b[0;34m,\u001b[0m \u001b[0mlevel\u001b[0m\u001b[0;34m=\u001b[0m\u001b[0mlevel\u001b[0m\u001b[0;34m,\u001b[0m \u001b[0merrors\u001b[0m\u001b[0;34m=\u001b[0m\u001b[0merrors\u001b[0m\u001b[0;34m)\u001b[0m\u001b[0;34m\u001b[0m\u001b[0;34m\u001b[0m\u001b[0m\n\u001b[1;32m   4184\u001b[0m             \u001b[0;32melse\u001b[0m\u001b[0;34m:\u001b[0m\u001b[0;34m\u001b[0m\u001b[0;34m\u001b[0m\u001b[0m\n\u001b[0;32m-> 4185\u001b[0;31m                 \u001b[0mnew_axis\u001b[0m \u001b[0;34m=\u001b[0m \u001b[0maxis\u001b[0m\u001b[0;34m.\u001b[0m\u001b[0mdrop\u001b[0m\u001b[0;34m(\u001b[0m\u001b[0mlabels\u001b[0m\u001b[0;34m,\u001b[0m \u001b[0merrors\u001b[0m\u001b[0;34m=\u001b[0m\u001b[0merrors\u001b[0m\u001b[0;34m)\u001b[0m\u001b[0;34m\u001b[0m\u001b[0;34m\u001b[0m\u001b[0m\n\u001b[0m\u001b[1;32m   4186\u001b[0m             \u001b[0mresult\u001b[0m \u001b[0;34m=\u001b[0m \u001b[0mself\u001b[0m\u001b[0;34m.\u001b[0m\u001b[0mreindex\u001b[0m\u001b[0;34m(\u001b[0m\u001b[0;34m**\u001b[0m\u001b[0;34m{\u001b[0m\u001b[0maxis_name\u001b[0m\u001b[0;34m:\u001b[0m \u001b[0mnew_axis\u001b[0m\u001b[0;34m}\u001b[0m\u001b[0;34m)\u001b[0m\u001b[0;34m\u001b[0m\u001b[0;34m\u001b[0m\u001b[0m\n\u001b[1;32m   4187\u001b[0m \u001b[0;34m\u001b[0m\u001b[0m\n",
      "\u001b[0;32m~/venv/lib/python3.9/site-packages/pandas/core/indexes/base.py\u001b[0m in \u001b[0;36mdrop\u001b[0;34m(self, labels, errors)\u001b[0m\n\u001b[1;32m   6015\u001b[0m         \u001b[0;32mif\u001b[0m \u001b[0mmask\u001b[0m\u001b[0;34m.\u001b[0m\u001b[0many\u001b[0m\u001b[0;34m(\u001b[0m\u001b[0;34m)\u001b[0m\u001b[0;34m:\u001b[0m\u001b[0;34m\u001b[0m\u001b[0;34m\u001b[0m\u001b[0m\n\u001b[1;32m   6016\u001b[0m             \u001b[0;32mif\u001b[0m \u001b[0merrors\u001b[0m \u001b[0;34m!=\u001b[0m \u001b[0;34m\"ignore\"\u001b[0m\u001b[0;34m:\u001b[0m\u001b[0;34m\u001b[0m\u001b[0;34m\u001b[0m\u001b[0m\n\u001b[0;32m-> 6017\u001b[0;31m                 \u001b[0;32mraise\u001b[0m \u001b[0mKeyError\u001b[0m\u001b[0;34m(\u001b[0m\u001b[0;34mf\"{labels[mask]} not found in axis\"\u001b[0m\u001b[0;34m)\u001b[0m\u001b[0;34m\u001b[0m\u001b[0;34m\u001b[0m\u001b[0m\n\u001b[0m\u001b[1;32m   6018\u001b[0m             \u001b[0mindexer\u001b[0m \u001b[0;34m=\u001b[0m \u001b[0mindexer\u001b[0m\u001b[0;34m[\u001b[0m\u001b[0;34m~\u001b[0m\u001b[0mmask\u001b[0m\u001b[0;34m]\u001b[0m\u001b[0;34m\u001b[0m\u001b[0;34m\u001b[0m\u001b[0m\n\u001b[1;32m   6019\u001b[0m         \u001b[0;32mreturn\u001b[0m \u001b[0mself\u001b[0m\u001b[0;34m.\u001b[0m\u001b[0mdelete\u001b[0m\u001b[0;34m(\u001b[0m\u001b[0mindexer\u001b[0m\u001b[0;34m)\u001b[0m\u001b[0;34m\u001b[0m\u001b[0;34m\u001b[0m\u001b[0m\n",
      "\u001b[0;31mKeyError\u001b[0m: \"['verified' 'reviewTime' 'asin' 'style' 'reviewerName' 'summary'\\n 'unixReviewTime' 'vote' 'image'] not found in axis\""
     ]
    }
   ]
  },
  {
   "cell_type": "code",
   "metadata": {
    "cell_id": "1e91db2b140346e3932d5190ccd39435",
    "tags": [],
    "deepnote_to_be_reexecuted": false,
    "source_hash": "d04a5a17",
    "execution_start": 1653412360214,
    "execution_millis": 965,
    "deepnote_cell_type": "code",
    "deepnote_cell_height": 188.1666717529297
   },
   "source": "# only keep rows where reviewText is not na\n\ndf_clothing = df_clothing[df_clothing['reviewText'].notna()]\ndf_home = df_home[df_home['reviewText'].notna()]\ndf_video = df_video[df_video['reviewText'].notna()]\ndf_electronics = df_electronics[df_electronics['reviewText'].notna()]\ndf_movies = df_movies[df_movies['reviewText'].notna()]",
   "execution_count": null,
   "outputs": []
  },
  {
   "cell_type": "code",
   "metadata": {
    "cell_id": "068ca68bd26145c1939e505671006072",
    "tags": [],
    "deepnote_to_be_reexecuted": false,
    "source_hash": "b0a91fb8",
    "execution_start": 1653412362265,
    "execution_millis": 11,
    "deepnote_cell_type": "code",
    "deepnote_cell_height": 110.53334045410156
   },
   "source": "print(df_movies['reviewText'].isnull().sum())",
   "execution_count": null,
   "outputs": [
    {
     "name": "stdout",
     "text": "0\n",
     "output_type": "stream"
    }
   ]
  },
  {
   "cell_type": "code",
   "metadata": {
    "cell_id": "70617994472c447286e969c7364c0baa",
    "tags": [],
    "deepnote_to_be_reexecuted": false,
    "source_hash": "33289fce",
    "execution_start": 1653412364406,
    "execution_millis": 628,
    "deepnote_cell_type": "code",
    "deepnote_cell_height": 278.16668701171875
   },
   "source": "score_dict = {\n    1:'negative',\n    2:'negative',\n    3:'neutral',\n    4:'positive',\n    5:'positive'\n}\ndf_clothing.overall = df_clothing.overall.apply(lambda x:score_dict[x])\ndf_home.overall = df_home.overall.apply(lambda x:score_dict[x])\ndf_video.overall = df_video.overall.apply(lambda x:score_dict[x])\ndf_electronics.overall = df_electronics.overall.apply(lambda x:score_dict[x])\ndf_movies.overall = df_movies.overall.apply(lambda x:score_dict[x])",
   "execution_count": null,
   "outputs": []
  },
  {
   "cell_type": "code",
   "metadata": {
    "cell_id": "97f7a0433ec34147acb7fa8dea9f4b5f",
    "tags": [],
    "deepnote_to_be_reexecuted": false,
    "source_hash": "f6420b8a",
    "execution_start": 1653412376930,
    "execution_millis": 0,
    "deepnote_cell_type": "code",
    "deepnote_cell_height": 134.1666717529297
   },
   "source": "pos_neg_dict = {}\nfor i in range(len(all_dfs)):\n    pos_neg_dict['positive_{0}'.format(all_dfs_string[i])] = all_dfs[i][all_dfs[i]['overall'] == 'positive' ]\n    pos_neg_dict['negative_{0}'.format(all_dfs_string[i])] = all_dfs[i][all_dfs[i]['overall'] == 'negative' ]",
   "execution_count": null,
   "outputs": []
  },
  {
   "cell_type": "code",
   "metadata": {
    "cell_id": "34fabc7f7e3b4443a6104c83bad1bc3e",
    "tags": [],
    "deepnote_to_be_reexecuted": false,
    "source_hash": "4fcb8791",
    "execution_start": 1653411771475,
    "execution_millis": 207,
    "deepnote_cell_type": "code",
    "deepnote_cell_height": 212.75,
    "deepnote_output_heights": [
     117
    ]
   },
   "source": "all_dfs_string",
   "execution_count": null,
   "outputs": [
    {
     "output_type": "execute_result",
     "execution_count": 21,
     "data": {
      "text/plain": "['df_arts',\n 'df_clothing',\n 'df_electronics',\n 'df_home',\n 'df_movies',\n 'df_video']"
     },
     "metadata": {}
    }
   ]
  },
  {
   "cell_type": "code",
   "metadata": {
    "cell_id": "8c23d9435d6a4ed3b8a0a3b41c2eb94d",
    "tags": [],
    "deepnote_to_be_reexecuted": false,
    "source_hash": "c05ea5f7",
    "execution_start": 1653412390968,
    "execution_millis": 1207,
    "deepnote_cell_type": "code",
    "deepnote_cell_height": 278.16668701171875
   },
   "source": "# splitting datasets into positive and negative reviews\n\ndef splitPosNeg(df):\n    df_pos = df[df['overall'] == 'positive']\n    df_neg = df[df['overall'] == 'negative']\n    return df_pos,df_neg\n\ndf_clothing_pos, df_clothing_neg = splitPosNeg(df_clothing)\ndf_electronics_pos, df_electronics_neg = splitPosNeg(df_electronics)\ndf_home_pos, df_home_neg = splitPosNeg(df_home)\ndf_movies_pos, df_movies_neg = splitPosNeg(df_movies)\ndf_video_pos, df_video_neg = splitPosNeg(df_video)",
   "execution_count": null,
   "outputs": []
  },
  {
   "cell_type": "code",
   "metadata": {
    "cell_id": "f1612912003546b69689c93b06bc29ef",
    "tags": [],
    "deepnote_to_be_reexecuted": false,
    "source_hash": "53919717",
    "execution_start": 1653412884152,
    "execution_millis": 425,
    "deepnote_cell_type": "code",
    "deepnote_cell_height": 242.1666717529297
   },
   "source": "# concatenating the dataframes back together with equal amount of positive and negative reviews\n\ndef concat_negpos(df_pos, df_neg):\n    return pd.concat([df_neg,df_pos.sample(n=len(df_neg),axis = 0,random_state=42)])\n\ndf_clothing_equal = concat_negpos(df_clothing_pos, df_clothing_neg)\ndf_electronics_equal = concat_negpos(df_electronics_pos, df_electronics_neg)\ndf_home_equal = concat_negpos(df_home_pos, df_home_neg)\ndf_movies_equal = concat_negpos(df_movies_pos, df_movies_neg)\ndf_video_equal = concat_negpos(df_video_pos, df_video_neg)",
   "execution_count": null,
   "outputs": []
  },
  {
   "cell_type": "code",
   "metadata": {
    "cell_id": "a94478e110bd4bf7889e748a36c6a3f2",
    "tags": [],
    "deepnote_to_be_reexecuted": false,
    "source_hash": "675a4686",
    "execution_start": 1653412893029,
    "execution_millis": 5,
    "deepnote_table_state": {
     "pageSize": 10,
     "pageIndex": 0,
     "filters": [],
     "sortBy": []
    },
    "deepnote_table_loading": false,
    "deepnote_cell_type": "code",
    "deepnote_cell_height": 152.1666717529297
   },
   "source": "df_clothing_equal.reset_index(inplace=True)\ndf_electronics_equal.reset_index(inplace=True)\ndf_home_equal.reset_index(inplace=True)\ndf_movies_equal.reset_index(inplace=True)\ndf_video_equal.reset_index(inplace=True)",
   "execution_count": null,
   "outputs": []
  },
  {
   "cell_type": "code",
   "metadata": {
    "cell_id": "bb22875ac424426688b484a3743f4da1",
    "tags": [],
    "deepnote_to_be_reexecuted": false,
    "source_hash": "acaca423",
    "execution_start": 1653412903966,
    "execution_millis": 0,
    "deepnote_cell_type": "code",
    "deepnote_cell_height": 152.1666717529297
   },
   "source": "clothing_y = df_clothing_equal['overall'].tolist()\nelectronics_y = df_electronics_equal['overall'].tolist()\nhome_y = df_home_equal['overall'].tolist()\nmovies_y = df_movies_equal['overall'].tolist()\nvideo_y  = df_video_equal['overall'].tolist()",
   "execution_count": null,
   "outputs": []
  },
  {
   "cell_type": "code",
   "metadata": {
    "cell_id": "922b323d2b72401e8c59eba53bd8c7c5",
    "tags": [],
    "deepnote_to_be_reexecuted": false,
    "source_hash": "c728a408",
    "execution_start": 1653411792088,
    "execution_millis": 40,
    "deepnote_cell_type": "code",
    "deepnote_cell_height": 706.75,
    "deepnote_output_heights": [
     611
    ]
   },
   "source": "video_y",
   "execution_count": null,
   "outputs": [
    {
     "output_type": "execute_result",
     "execution_count": 26,
     "data": {
      "text/plain": "['negative',\n 'negative',\n 'negative',\n 'negative',\n 'negative',\n 'negative',\n 'negative',\n 'negative',\n 'negative',\n 'negative',\n 'negative',\n 'negative',\n 'negative',\n 'negative',\n 'negative',\n 'negative',\n 'negative',\n 'negative',\n 'negative',\n 'negative',\n 'negative',\n 'negative',\n 'negative',\n 'negative',\n 'negative',\n 'negative',\n 'negative',\n 'negative',\n 'negative',\n 'negative',\n 'negative',\n 'negative',\n 'negative',\n 'negative',\n 'negative',\n 'negative',\n 'negative',\n 'negative',\n 'negative',\n 'negative',\n 'negative',\n 'negative',\n 'negative',\n 'negative',\n 'negative',\n 'negative',\n 'negative',\n 'negative',\n 'negative',\n 'negative',\n 'negative',\n 'negative',\n 'negative',\n 'negative',\n 'negative',\n 'negative',\n 'negative',\n 'negative',\n 'negative',\n 'negative',\n 'negative',\n 'negative',\n 'negative',\n 'negative',\n 'negative',\n 'negative',\n 'negative',\n 'negative',\n 'negative',\n 'negative',\n 'negative',\n 'negative',\n 'negative',\n 'negative',\n 'negative',\n 'negative',\n 'negative',\n 'negative',\n 'negative',\n 'negative',\n 'negative',\n 'negative',\n 'negative',\n 'negative',\n 'negative',\n 'negative',\n 'negative',\n 'negative',\n 'negative',\n 'negative',\n 'negative',\n 'negative',\n 'negative',\n 'negative',\n 'negative',\n 'negative',\n 'negative',\n 'negative',\n 'negative',\n 'negative',\n 'negative',\n 'negative',\n 'negative',\n 'negative',\n 'negative',\n 'negative',\n 'negative',\n 'negative',\n 'negative',\n 'negative',\n 'negative',\n 'negative',\n 'negative',\n 'negative',\n 'negative',\n 'negative',\n 'negative',\n 'negative',\n 'negative',\n 'negative',\n 'negative',\n 'negative',\n 'negative',\n 'negative',\n 'negative',\n 'negative',\n 'negative',\n 'negative',\n 'negative',\n 'negative',\n 'negative',\n 'negative',\n 'negative',\n 'negative',\n 'negative',\n 'negative',\n 'negative',\n 'negative',\n 'negative',\n 'negative',\n 'negative',\n 'negative',\n 'negative',\n 'negative',\n 'negative',\n 'negative',\n 'negative',\n 'negative',\n 'negative',\n 'negative',\n 'negative',\n 'negative',\n 'negative',\n 'negative',\n 'negative',\n 'negative',\n 'negative',\n 'negative',\n 'negative',\n 'negative',\n 'negative',\n 'negative',\n 'negative',\n 'negative',\n 'negative',\n 'negative',\n 'negative',\n 'negative',\n 'negative',\n 'negative',\n 'negative',\n 'negative',\n 'negative',\n 'negative',\n 'negative',\n 'negative',\n 'negative',\n 'negative',\n 'negative',\n 'negative',\n 'negative',\n 'negative',\n 'negative',\n 'negative',\n 'negative',\n 'negative',\n 'negative',\n 'negative',\n 'negative',\n 'negative',\n 'negative',\n 'negative',\n 'negative',\n 'negative',\n 'negative',\n 'negative',\n 'negative',\n 'negative',\n 'negative',\n 'negative',\n 'negative',\n 'negative',\n 'negative',\n 'negative',\n 'negative',\n 'negative',\n 'negative',\n 'negative',\n 'negative',\n 'negative',\n 'negative',\n 'negative',\n 'negative',\n 'negative',\n 'negative',\n 'negative',\n 'negative',\n 'negative',\n 'negative',\n 'negative',\n 'negative',\n 'negative',\n 'negative',\n 'negative',\n 'negative',\n 'negative',\n 'negative',\n 'negative',\n 'negative',\n 'negative',\n 'negative',\n 'negative',\n 'negative',\n 'negative',\n 'negative',\n 'negative',\n 'negative',\n 'negative',\n 'negative',\n 'negative',\n 'negative',\n 'negative',\n 'negative',\n 'negative',\n 'negative',\n 'negative',\n 'negative',\n 'negative',\n 'negative',\n 'negative',\n 'negative',\n 'negative',\n 'negative',\n 'negative',\n 'negative',\n 'negative',\n 'negative',\n 'negative',\n 'negative',\n 'negative',\n 'negative',\n 'negative',\n 'negative',\n 'negative',\n 'negative',\n 'negative',\n 'negative',\n 'negative',\n 'negative',\n 'negative',\n 'negative',\n 'negative',\n 'negative',\n 'negative',\n 'negative',\n 'negative',\n 'negative',\n 'negative',\n 'negative',\n 'negative',\n 'negative',\n 'negative',\n 'negative',\n 'negative',\n 'negative',\n 'negative',\n 'negative',\n 'negative',\n 'negative',\n 'negative',\n 'negative',\n 'negative',\n 'negative',\n 'negative',\n 'negative',\n 'negative',\n 'negative',\n 'negative',\n 'negative',\n 'negative',\n 'negative',\n 'negative',\n 'negative',\n 'negative',\n 'negative',\n 'negative',\n 'negative',\n 'negative',\n 'negative',\n 'negative',\n 'negative',\n 'negative',\n 'negative',\n 'negative',\n 'negative',\n 'negative',\n 'negative',\n 'negative',\n 'negative',\n 'negative',\n 'negative',\n 'negative',\n 'negative',\n 'negative',\n 'negative',\n 'negative',\n 'negative',\n 'negative',\n 'negative',\n 'negative',\n 'negative',\n 'negative',\n 'negative',\n 'negative',\n 'negative',\n 'negative',\n 'negative',\n 'negative',\n 'negative',\n 'negative',\n 'negative',\n 'negative',\n 'negative',\n 'negative',\n 'negative',\n 'negative',\n 'negative',\n 'negative',\n 'negative',\n 'negative',\n 'negative',\n 'negative',\n 'negative',\n 'negative',\n 'negative',\n 'negative',\n 'negative',\n 'negative',\n 'negative',\n 'negative',\n 'negative',\n 'negative',\n 'negative',\n 'negative',\n 'negative',\n 'negative',\n 'negative',\n 'negative',\n 'negative',\n 'negative',\n 'negative',\n 'negative',\n 'negative',\n 'negative',\n 'negative',\n 'negative',\n 'negative',\n 'negative',\n 'negative',\n 'negative',\n 'negative',\n 'negative',\n 'negative',\n 'negative',\n 'negative',\n 'negative',\n 'negative',\n 'negative',\n 'negative',\n 'negative',\n 'negative',\n 'negative',\n 'negative',\n 'negative',\n 'negative',\n 'negative',\n 'negative',\n 'negative',\n 'negative',\n 'negative',\n 'negative',\n 'negative',\n 'negative',\n 'negative',\n 'negative',\n 'negative',\n 'negative',\n 'negative',\n 'negative',\n 'negative',\n 'negative',\n 'negative',\n 'negative',\n 'negative',\n 'negative',\n 'negative',\n 'negative',\n 'negative',\n 'negative',\n 'negative',\n 'negative',\n 'negative',\n 'negative',\n 'negative',\n 'negative',\n 'negative',\n 'negative',\n 'negative',\n 'negative',\n 'negative',\n 'negative',\n 'negative',\n 'negative',\n 'negative',\n 'negative',\n 'negative',\n 'negative',\n 'negative',\n 'negative',\n 'negative',\n 'negative',\n 'negative',\n 'negative',\n 'negative',\n 'negative',\n 'negative',\n 'negative',\n 'negative',\n 'negative',\n 'negative',\n 'negative',\n 'negative',\n 'negative',\n 'negative',\n 'negative',\n 'negative',\n 'negative',\n 'negative',\n 'negative',\n 'negative',\n 'negative',\n 'negative',\n 'negative',\n 'negative',\n 'negative',\n 'negative',\n 'negative',\n 'negative',\n 'negative',\n 'negative',\n 'negative',\n 'negative',\n 'negative',\n 'negative',\n 'negative',\n 'negative',\n 'negative',\n 'negative',\n 'negative',\n 'negative',\n 'negative',\n 'negative',\n 'negative',\n 'negative',\n 'negative',\n 'negative',\n 'negative',\n 'negative',\n 'negative',\n 'negative',\n 'negative',\n 'negative',\n 'negative',\n 'negative',\n 'negative',\n 'negative',\n 'negative',\n 'negative',\n 'negative',\n 'negative',\n 'negative',\n 'negative',\n 'negative',\n 'negative',\n 'negative',\n 'negative',\n 'negative',\n 'negative',\n 'negative',\n 'negative',\n 'negative',\n 'negative',\n 'negative',\n 'negative',\n 'negative',\n 'negative',\n 'negative',\n 'negative',\n 'negative',\n 'negative',\n 'negative',\n 'negative',\n 'negative',\n 'negative',\n 'negative',\n 'negative',\n 'negative',\n 'negative',\n 'negative',\n 'negative',\n 'negative',\n 'negative',\n 'negative',\n 'negative',\n 'negative',\n 'negative',\n 'negative',\n 'negative',\n 'negative',\n 'negative',\n 'negative',\n 'negative',\n 'negative',\n 'negative',\n 'negative',\n 'negative',\n 'negative',\n 'negative',\n 'negative',\n 'negative',\n 'negative',\n 'negative',\n 'negative',\n 'negative',\n 'negative',\n 'negative',\n 'negative',\n 'negative',\n 'negative',\n 'negative',\n 'negative',\n 'negative',\n 'negative',\n 'negative',\n 'negative',\n 'negative',\n 'negative',\n 'negative',\n 'negative',\n 'negative',\n 'negative',\n 'negative',\n 'negative',\n 'negative',\n 'negative',\n 'negative',\n 'negative',\n 'negative',\n 'negative',\n 'negative',\n 'negative',\n 'negative',\n 'negative',\n 'negative',\n 'negative',\n 'negative',\n 'negative',\n 'negative',\n 'negative',\n 'negative',\n 'negative',\n 'negative',\n 'negative',\n 'negative',\n 'negative',\n 'negative',\n 'negative',\n 'negative',\n 'negative',\n 'negative',\n 'negative',\n 'negative',\n 'negative',\n 'negative',\n 'negative',\n 'negative',\n 'negative',\n 'negative',\n 'negative',\n 'negative',\n 'negative',\n 'negative',\n 'negative',\n 'negative',\n 'negative',\n 'negative',\n 'negative',\n 'negative',\n 'negative',\n 'negative',\n 'negative',\n 'negative',\n 'negative',\n 'negative',\n 'negative',\n 'negative',\n 'negative',\n 'negative',\n 'negative',\n 'negative',\n 'negative',\n 'negative',\n 'negative',\n 'negative',\n 'negative',\n 'negative',\n 'negative',\n 'negative',\n 'negative',\n 'negative',\n 'negative',\n 'negative',\n 'negative',\n 'negative',\n 'negative',\n 'negative',\n 'negative',\n 'negative',\n 'negative',\n 'negative',\n 'negative',\n 'negative',\n 'negative',\n 'negative',\n 'negative',\n 'negative',\n 'negative',\n 'negative',\n 'negative',\n 'negative',\n 'negative',\n 'negative',\n 'negative',\n 'negative',\n 'negative',\n 'negative',\n 'negative',\n 'negative',\n 'negative',\n 'negative',\n 'negative',\n 'negative',\n 'negative',\n 'negative',\n 'negative',\n 'negative',\n 'negative',\n 'negative',\n 'negative',\n 'negative',\n 'negative',\n 'negative',\n 'negative',\n 'negative',\n 'negative',\n 'negative',\n 'negative',\n 'negative',\n 'negative',\n 'negative',\n 'negative',\n 'negative',\n 'negative',\n 'negative',\n 'negative',\n 'negative',\n 'negative',\n 'negative',\n 'negative',\n 'negative',\n 'negative',\n 'negative',\n 'negative',\n 'negative',\n 'negative',\n 'negative',\n 'negative',\n 'negative',\n 'negative',\n 'negative',\n 'negative',\n 'negative',\n 'negative',\n 'negative',\n 'negative',\n 'negative',\n 'negative',\n 'negative',\n 'negative',\n 'negative',\n 'negative',\n 'negative',\n 'negative',\n 'negative',\n 'negative',\n 'negative',\n 'negative',\n 'negative',\n 'negative',\n 'negative',\n 'negative',\n 'negative',\n 'negative',\n 'negative',\n 'negative',\n 'negative',\n 'negative',\n 'negative',\n 'negative',\n 'negative',\n 'negative',\n 'negative',\n 'negative',\n 'negative',\n 'negative',\n 'negative',\n 'negative',\n 'negative',\n 'negative',\n 'negative',\n 'negative',\n 'negative',\n 'negative',\n 'negative',\n 'negative',\n 'negative',\n 'negative',\n 'negative',\n 'negative',\n 'negative',\n 'negative',\n 'negative',\n 'negative',\n 'negative',\n 'negative',\n 'negative',\n 'negative',\n 'negative',\n 'negative',\n 'negative',\n 'negative',\n 'negative',\n 'negative',\n 'negative',\n 'negative',\n 'negative',\n 'negative',\n 'negative',\n 'negative',\n 'negative',\n 'negative',\n 'negative',\n 'negative',\n 'negative',\n 'negative',\n 'negative',\n 'negative',\n 'negative',\n 'negative',\n 'negative',\n 'negative',\n 'negative',\n 'negative',\n 'negative',\n 'negative',\n 'negative',\n 'negative',\n 'negative',\n 'negative',\n 'negative',\n 'negative',\n 'negative',\n 'negative',\n 'negative',\n 'negative',\n 'negative',\n 'negative',\n 'negative',\n 'negative',\n 'negative',\n 'negative',\n 'negative',\n 'negative',\n 'negative',\n 'negative',\n 'negative',\n 'negative',\n 'negative',\n 'negative',\n 'negative',\n 'negative',\n 'negative',\n 'negative',\n 'negative',\n 'negative',\n 'negative',\n 'negative',\n 'negative',\n 'negative',\n 'negative',\n 'negative',\n 'negative',\n 'negative',\n 'negative',\n 'negative',\n 'negative',\n 'negative',\n 'negative',\n 'negative',\n 'negative',\n 'negative',\n 'negative',\n 'negative',\n 'negative',\n 'negative',\n 'negative',\n 'negative',\n 'negative',\n 'negative',\n 'negative',\n 'negative',\n 'negative',\n 'negative',\n 'negative',\n 'negative',\n 'negative',\n 'negative',\n 'negative',\n 'negative',\n 'negative',\n 'negative',\n 'negative',\n 'negative',\n 'negative',\n 'negative',\n 'negative',\n 'negative',\n 'negative',\n 'negative',\n 'negative',\n 'negative',\n 'negative',\n 'negative',\n 'negative',\n 'negative',\n 'negative',\n 'negative',\n 'negative',\n 'negative',\n 'negative',\n 'negative',\n 'negative',\n 'negative',\n 'negative',\n 'negative',\n 'negative',\n 'negative',\n 'negative',\n 'negative',\n 'negative',\n 'negative',\n 'negative',\n 'negative',\n 'negative',\n 'negative',\n 'negative',\n 'negative',\n 'negative',\n 'negative',\n 'negative',\n 'negative',\n 'negative',\n 'negative',\n 'negative',\n 'negative',\n 'negative',\n 'negative',\n 'negative',\n 'negative',\n 'negative',\n 'negative',\n 'negative',\n 'negative',\n 'negative',\n 'negative',\n 'negative',\n 'negative',\n 'negative',\n 'negative',\n 'negative',\n 'negative',\n 'negative',\n 'negative',\n 'negative',\n 'negative',\n 'negative',\n 'negative',\n 'negative',\n 'negative',\n 'negative',\n 'negative',\n 'negative',\n 'negative',\n 'negative',\n 'negative',\n 'negative',\n 'negative',\n 'negative',\n 'negative',\n 'negative',\n 'negative',\n 'negative',\n 'negative',\n 'negative',\n 'negative',\n 'negative',\n 'negative',\n 'negative',\n 'negative',\n 'negative',\n 'negative',\n 'negative',\n 'negative',\n 'negative',\n 'negative',\n 'negative',\n 'negative',\n 'negative',\n 'negative',\n 'negative',\n 'negative',\n 'negative',\n 'negative',\n 'negative',\n 'negative',\n 'negative',\n 'negative',\n 'negative',\n 'negative',\n 'negative',\n 'negative',\n 'negative',\n 'negative',\n 'negative',\n 'negative',\n 'negative',\n 'negative',\n 'negative',\n 'negative',\n 'negative',\n 'negative',\n 'negative',\n 'negative',\n 'negative',\n 'negative',\n 'negative',\n 'negative',\n 'negative',\n 'negative',\n 'negative',\n 'negative',\n 'negative',\n 'negative',\n 'negative',\n 'negative',\n 'negative',\n 'negative',\n 'negative',\n 'negative',\n 'negative',\n ...]"
     },
     "metadata": {}
    }
   ]
  },
  {
   "cell_type": "code",
   "metadata": {
    "cell_id": "5381b2e206fd453c8bfe4c01a933f94d",
    "tags": [],
    "deepnote_to_be_reexecuted": false,
    "source_hash": "4bd8b9e6",
    "execution_start": 1653412957759,
    "execution_millis": 0,
    "deepnote_cell_type": "code",
    "deepnote_cell_height": 152.1666717529297
   },
   "source": "import csv\ndef write_csv(lst,filename):\n    with open(filename, \"w\") as f:\n        wr = csv.writer(f)\n        wr.writerows(lst)",
   "execution_count": null,
   "outputs": []
  },
  {
   "cell_type": "code",
   "metadata": {
    "cell_id": "e3ecec7272c7498b972a00031df828e4",
    "tags": [],
    "deepnote_to_be_reexecuted": false,
    "source_hash": "642b1387",
    "execution_start": 1653412964760,
    "execution_millis": 165,
    "deepnote_cell_type": "code",
    "deepnote_cell_height": 152.1666717529297
   },
   "source": "write_csv(clothing_y,'/work/data/clothing_y.csv')\nwrite_csv(electronics_y,'/work/data/electronics_y.csv')\nwrite_csv(home_y,'/work/data/home_y.csv')\nwrite_csv(movies_y,'/work/data/movies_y.csv')\nwrite_csv(video_y,'/work/data/video_y.csv')",
   "execution_count": null,
   "outputs": []
  },
  {
   "cell_type": "code",
   "metadata": {
    "cell_id": "c78e5e14fc7c4824a09919d85dc18222",
    "tags": [],
    "deepnote_to_be_reexecuted": false,
    "source_hash": "a94d6c85",
    "execution_start": 1653412978183,
    "execution_millis": 1677,
    "deepnote_cell_type": "code",
    "deepnote_cell_height": 152.1666717529297
   },
   "source": "df_clothing_equal.to_pickle(\"/work/data/clothing_equal.pkl\", protocol=5)\ndf_electronics_equal.to_pickle(\"/work/data/electronics_equal.pkl\", protocol=5)\ndf_home_equal.to_pickle(\"/work/data/home_equal.pkl\", protocol=5)\ndf_movies_equal.to_pickle(\"/work/data/movies_equal.pkl\", protocol=5)\ndf_video_equal.to_pickle(\"/work/data/video_equal.pkl\", protocol=5)",
   "execution_count": null,
   "outputs": []
  },
  {
   "cell_type": "code",
   "metadata": {
    "cell_id": "565fc7b80daf45a983695a61df0698d8",
    "tags": [],
    "deepnote_to_be_reexecuted": false,
    "source_hash": "80c787d7",
    "execution_start": 1653411805378,
    "execution_millis": 46,
    "deepnote_table_state": {
     "pageSize": 10,
     "pageIndex": 0,
     "filters": [],
     "sortBy": []
    },
    "deepnote_table_loading": false,
    "deepnote_cell_type": "code",
    "deepnote_cell_height": 598.3333129882812
   },
   "source": "df_movies_equal",
   "execution_count": null,
   "outputs": [
    {
     "output_type": "execute_result",
     "execution_count": 30,
     "data": {
      "application/vnd.deepnote.dataframe.v3+json": {
       "column_count": 4,
       "row_count": 109238,
       "columns": [
        {
         "name": "index",
         "dtype": "int64"
        },
        {
         "name": "overall",
         "dtype": "object"
        },
        {
         "name": "reviewerID",
         "dtype": "object"
        },
        {
         "name": "reviewText",
         "dtype": "object"
        },
        {
         "name": "_deepnote_index_column",
         "dtype": "int64"
        }
       ],
       "rows": [
        {
         "index": 2052158,
         "overall": "negative",
         "reviewerID": "A2SSI3683COBCY",
         "reviewText": "Good concept, weak delivery. One dimensional characters. Martin Sheen is good.",
         "_deepnote_index_column": 0
        },
        {
         "index": 747192,
         "overall": "negative",
         "reviewerID": "A31DBPJPD3KAQG",
         "reviewText": "Mrs CB cannot act and because she has a big part the film is ruined by her, imho.",
         "_deepnote_index_column": 1
        },
        {
         "index": 2652899,
         "overall": "negative",
         "reviewerID": "A25PEXOELOHIBV",
         "reviewText": "Not the greatest",
         "_deepnote_index_column": 2
        },
        {
         "index": 2720989,
         "overall": "negative",
         "reviewerID": "A3CPJYAQMCUGNR",
         "reviewText": "\"Batman vs. Robin\"\nHere is a movie about a real tough guy, much less, a super \"hero\".\nOne star only for this nonsense concept.\nThe movie opens up to Batman beating up on a bunch of kids. From there the movie moves on to several other kids being beat up by sober and drunk adults. The culminating assault happens in the end when the ten-year old Son of Batman gets a few good punches, but in the end, Batman is the better \"man\" by pummeling his own son into submission.\nEven if Batman was sleeping, a soaking wet ninety-pound Robin would not win with a cowardly act like sucker punch.\nIt started at age nine when my dad would take me on his business trips for the bondsman company he worked for. He told me that the people we visited were not paying his boss back the money they owed him. He said the holidays were coming up and his boss had several girlfriends and even more kids to take care of. It was important that we help them out.\nMost of the time when we would visit people's houses in the mi…",
         "_deepnote_index_column": 3
        },
        {
         "index": 1659993,
         "overall": "negative",
         "reviewerID": "A1I1U2M5KSPY1R",
         "reviewText": "Gruesome and strange with no real logic or clear story-lie other than something paranmormal and evil attacks a young couple in the outback of Aussie land .  A series of Unfortunate Events takes the viewer to the end of bitter drawn out tale!  Too amorphous without any real factual basis, which feels like a drug induced nightmare; the writer of which had no real destination of idea where he was going with it!",
         "_deepnote_index_column": 4
        },
        {
         "index": 1457913,
         "overall": "negative",
         "reviewerID": "A1C9FRE9C9B0EX",
         "reviewText": "I love both of these actors SO much and wanted to like this film. When it was finished, it was \"what the\"?? What WAS the point of this tedious film? They were unhappy in their marriage - we get that. Maybe it's another film that didn't serve the book well, I don't know. The whole film lacked heart and depth.",
         "_deepnote_index_column": 5
        },
        {
         "index": 1495557,
         "overall": "negative",
         "reviewerID": "A24DMQT858FRC4",
         "reviewText": "Upgrading from a TV serial to a full length feature: always a perilous exercise! Which fails lamentably in this case.\nSo we are almost a decade later, and Mulder and Scully have been \"removed\" from the FBI for the duration. Their re-enrolment is a first surprise, but there is no wow effect following!\nThe movie has Scully's reluctance as a subplot, augmented by her dedication to a terminally ill young boy, with no bearing on the plot. The harsh catholic hospital ruling by a inquisition-type priest has no further bearing, other than unnerving Scully all the more.\nThe next subplot is the visionary father Joe, a convicted paedophile priest with a remorse. So, OK, he directs the FBI to some interesting crime spots, but that's it. Apart from getting on Scully's nerves, yeah. The actual plot involvement is pretty thin ...\nIt seems that some modern-time Russian Dr Frankenstein, is at work in some abandoned shed. Maybe we'll learn more in a next movie? If anyone is still interested ...\nThere s…",
         "_deepnote_index_column": 6
        },
        {
         "index": 1838167,
         "overall": "negative",
         "reviewerID": "A10JF7WCCGH7V4",
         "reviewText": "this movie set is  all 5 seasons put into 4 movies\nthey used different voice actors which I did not like at all and i do not recommend this .who ever is considering buying this for there kid should avoid it unless you \"need to have this in your collection\" .\n\nI recommend buying seasons 1 - 5 of the original dragon ball",
         "_deepnote_index_column": 7
        },
        {
         "index": 2794650,
         "overall": "negative",
         "reviewerID": "A3UWTLAF3PSPVU",
         "reviewText": "Predictable rom-com. Was hopeful that Smith's star power would make this a stellar movie, but it was a real let down. 80% of the lines were predictable and I'm halfway tempted to think I could have written them myself. There were a few fun moments where the underlying psychology of deception came into play, but it wasn't enough to save the film! If you never see this one, don't worry - you're not missing much.",
         "_deepnote_index_column": 8
        },
        {
         "index": 303738,
         "overall": "negative",
         "reviewerID": "A2ZMJALXUWG503",
         "reviewText": "SURPRISE VERY POOR AND WITH THOSE STARS WHAT A SHAME",
         "_deepnote_index_column": 9
        }
       ]
      },
      "text/plain": "          index   overall      reviewerID  \\\n0       2052158  negative  A2SSI3683COBCY   \n1        747192  negative  A31DBPJPD3KAQG   \n2       2652899  negative  A25PEXOELOHIBV   \n3       2720989  negative  A3CPJYAQMCUGNR   \n4       1659993  negative  A1I1U2M5KSPY1R   \n...         ...       ...             ...   \n109233  2429803  positive  A3NPCXSNM75QY4   \n109234  2077291  positive   AZU4AK2EPRRMU   \n109235  2896287  positive  A3JU2IJP8TCRX9   \n109236  1790874  positive   A2QH5YXTKYAZN   \n109237  3180427  positive  A295G9CTN9CVYK   \n\n                                               reviewText  \n0       Good concept, weak delivery. One dimensional c...  \n1       Mrs CB cannot act and because she has a big pa...  \n2                                        Not the greatest  \n3       \"Batman vs. Robin\"\\nHere is a movie about a re...  \n4       Gruesome and strange with no real logic or cle...  \n...                                                   ...  \n109233            Awesome show, can't get enough of it!!!  \n109234  Saw this movie in the theaters when it was out...  \n109235  Finally got the Bluray- the picture improvemen...  \n109236  Great family movie could watch it a hundred times  \n109237  I enjoyed this Flicc alot, angela does her thi...  \n\n[109238 rows x 4 columns]",
      "text/html": "<div>\n<style scoped>\n    .dataframe tbody tr th:only-of-type {\n        vertical-align: middle;\n    }\n\n    .dataframe tbody tr th {\n        vertical-align: top;\n    }\n\n    .dataframe thead th {\n        text-align: right;\n    }\n</style>\n<table border=\"1\" class=\"dataframe\">\n  <thead>\n    <tr style=\"text-align: right;\">\n      <th></th>\n      <th>index</th>\n      <th>overall</th>\n      <th>reviewerID</th>\n      <th>reviewText</th>\n    </tr>\n  </thead>\n  <tbody>\n    <tr>\n      <th>0</th>\n      <td>2052158</td>\n      <td>negative</td>\n      <td>A2SSI3683COBCY</td>\n      <td>Good concept, weak delivery. One dimensional c...</td>\n    </tr>\n    <tr>\n      <th>1</th>\n      <td>747192</td>\n      <td>negative</td>\n      <td>A31DBPJPD3KAQG</td>\n      <td>Mrs CB cannot act and because she has a big pa...</td>\n    </tr>\n    <tr>\n      <th>2</th>\n      <td>2652899</td>\n      <td>negative</td>\n      <td>A25PEXOELOHIBV</td>\n      <td>Not the greatest</td>\n    </tr>\n    <tr>\n      <th>3</th>\n      <td>2720989</td>\n      <td>negative</td>\n      <td>A3CPJYAQMCUGNR</td>\n      <td>\"Batman vs. Robin\"\\nHere is a movie about a re...</td>\n    </tr>\n    <tr>\n      <th>4</th>\n      <td>1659993</td>\n      <td>negative</td>\n      <td>A1I1U2M5KSPY1R</td>\n      <td>Gruesome and strange with no real logic or cle...</td>\n    </tr>\n    <tr>\n      <th>...</th>\n      <td>...</td>\n      <td>...</td>\n      <td>...</td>\n      <td>...</td>\n    </tr>\n    <tr>\n      <th>109233</th>\n      <td>2429803</td>\n      <td>positive</td>\n      <td>A3NPCXSNM75QY4</td>\n      <td>Awesome show, can't get enough of it!!!</td>\n    </tr>\n    <tr>\n      <th>109234</th>\n      <td>2077291</td>\n      <td>positive</td>\n      <td>AZU4AK2EPRRMU</td>\n      <td>Saw this movie in the theaters when it was out...</td>\n    </tr>\n    <tr>\n      <th>109235</th>\n      <td>2896287</td>\n      <td>positive</td>\n      <td>A3JU2IJP8TCRX9</td>\n      <td>Finally got the Bluray- the picture improvemen...</td>\n    </tr>\n    <tr>\n      <th>109236</th>\n      <td>1790874</td>\n      <td>positive</td>\n      <td>A2QH5YXTKYAZN</td>\n      <td>Great family movie could watch it a hundred times</td>\n    </tr>\n    <tr>\n      <th>109237</th>\n      <td>3180427</td>\n      <td>positive</td>\n      <td>A295G9CTN9CVYK</td>\n      <td>I enjoyed this Flicc alot, angela does her thi...</td>\n    </tr>\n  </tbody>\n</table>\n<p>109238 rows × 4 columns</p>\n</div>"
     },
     "metadata": {}
    }
   ]
  },
  {
   "cell_type": "markdown",
   "source": "## Tokenization",
   "metadata": {
    "cell_id": "508dd2013fd045eebcabaaa26af56e49",
    "tags": [],
    "is_collapsed": false,
    "deepnote_cell_type": "text-cell-h2"
   }
  },
  {
   "cell_type": "code",
   "metadata": {
    "cell_id": "9ed04c2dfef44e2fb0298833b14a6403",
    "tags": [],
    "deepnote_to_be_reexecuted": false,
    "source_hash": "8ff9b4e0",
    "execution_start": 1653413000642,
    "execution_millis": 1725,
    "deepnote_cell_type": "code",
    "deepnote_cell_height": 260.16668701171875
   },
   "source": "# TreebankWordTokenizer documentation: https://tedboy.github.io/nlps/generated/generated/nltk.tokenize.TreebankWordTokenizer.html \n\nimport nltk\nfrom nltk.tokenize import (TreebankWordTokenizer,\n                           word_tokenize,\n                           wordpunct_tokenize,\n                           TweetTokenizer,\n                           MWETokenizer)\n\nsentence = \"It's true, Ms. Martha Jones, she grapped my ass! #MeToo\"\n#movies_X_tok = TreebankWordTokenizer.tokenize(df_movies_equal.reviewText)",
   "execution_count": null,
   "outputs": []
  },
  {
   "cell_type": "code",
   "metadata": {
    "cell_id": "c7d1fd948b1641d582dd82e5531a51e4",
    "tags": [],
    "deepnote_to_be_reexecuted": false,
    "source_hash": "dad52b03",
    "execution_start": 1653413404485,
    "execution_millis": 147,
    "deepnote_cell_type": "code",
    "deepnote_cell_height": 1450.38330078125,
    "deepnote_output_heights": [
     null,
     611
    ]
   },
   "source": "from nltk.corpus import stopwords\nfrom nltk.tokenize import TreebankWordTokenizer\n#nltk.download('stopwords')\ntokenizer = TreebankWordTokenizer()\nstop_words = set(stopwords.words('english'))\npunct = ['!','\"','#','$','%','&','\\'','(',')','*','+',',','-','.','/',':',';','<','=','>','?','@','[','\\\\',']','^','_','`','{','|','}','~', '\\'\\'', '\\\"\\\"', '´´', '``', '...', '--', '\\'s', '\\'ll', '\\'m', '\\'re', '\\'d', 'n\\'t']\nfor i in punct:\n        stop_words.add(i)\n\n\n\ndef tokamok(df):\n    temp_list = []\n    df['reviewText'] = df['reviewText'].str.lower()\n    for i in df['reviewText']:\n        temp_list.append(tokenizer.tokenize(i))\n    final_list = []\n    for string in temp_list:\n        str_list = []\n        for w in string:\n            if w not in stop_words:\n                str_list.append(w)\n        final_list.append(str_list)\n\n    return final_list\n\n\nmovies_100 = df_movies_equal[:100]\ntesttest = tokamok(movies_100)\nprint(len(testtest))\ntesttest",
   "execution_count": null,
   "outputs": [
    {
     "name": "stdout",
     "text": "100\n[nltk_data] Downloading package stopwords to /root/nltk_data...\n[nltk_data]   Unzipping corpora/stopwords.zip.\n<ipython-input-36-2d8bbda433d0>:17: SettingWithCopyWarning: \nA value is trying to be set on a copy of a slice from a DataFrame.\nTry using .loc[row_indexer,col_indexer] = value instead\n\nSee the caveats in the documentation: https://pandas.pydata.org/pandas-docs/stable/user_guide/indexing.html#returning-a-view-versus-a-copy\n  df['reviewText'] = df['reviewText'].str.lower()\n",
     "output_type": "stream"
    },
    {
     "output_type": "execute_result",
     "execution_count": 36,
     "data": {
      "text/plain": "[['good',\n  'concept',\n  'weak',\n  'delivery.',\n  'one',\n  'dimensional',\n  'characters.',\n  'martin',\n  'sheen',\n  'good'],\n ['mrs', 'cb', 'act', 'big', 'part', 'film', 'ruined', 'imho'],\n ['greatest'],\n ['batman',\n  'vs.',\n  'robin',\n  'movie',\n  'real',\n  'tough',\n  'guy',\n  'much',\n  'less',\n  'super',\n  'hero',\n  'one',\n  'star',\n  'nonsense',\n  'concept.',\n  'movie',\n  'opens',\n  'batman',\n  'beating',\n  'bunch',\n  'kids.',\n  'movie',\n  'moves',\n  'several',\n  'kids',\n  'beat',\n  'sober',\n  'drunk',\n  'adults.',\n  'culminating',\n  'assault',\n  'happens',\n  'end',\n  'ten-year',\n  'old',\n  'son',\n  'batman',\n  'gets',\n  'good',\n  'punches',\n  'end',\n  'batman',\n  'better',\n  'man',\n  'pummeling',\n  'son',\n  'submission.',\n  'even',\n  'batman',\n  'sleeping',\n  'soaking',\n  'wet',\n  'ninety-pound',\n  'robin',\n  'would',\n  'win',\n  'cowardly',\n  'act',\n  'like',\n  'sucker',\n  'punch.',\n  'started',\n  'age',\n  'nine',\n  'dad',\n  'would',\n  'take',\n  'business',\n  'trips',\n  'bondsman',\n  'company',\n  'worked',\n  'for.',\n  'told',\n  'people',\n  'visited',\n  'paying',\n  'boss',\n  'back',\n  'money',\n  'owed',\n  'him.',\n  'said',\n  'holidays',\n  'coming',\n  'boss',\n  'several',\n  'girlfriends',\n  'even',\n  'kids',\n  'take',\n  'care',\n  'of.',\n  'important',\n  'help',\n  'out.',\n  'time',\n  'would',\n  'visit',\n  'people',\n  'houses',\n  'middle',\n  'night',\n  'would',\n  'go',\n  'open',\n  'window',\n  'door.',\n  'dad',\n  'said',\n  'people',\n  'would',\n  'willing',\n  'help',\n  'boss',\n  'woke',\n  'baseball',\n  'bat',\n  'pointed',\n  'them.',\n  'people',\n  'angry',\n  'time',\n  'would',\n  'start',\n  'yell',\n  'fight',\n  'shoot',\n  'run',\n  'us.',\n  'came',\n  'in.',\n  'dad',\n  'would',\n  'pick',\n  'throw',\n  'them.',\n  'people',\n  'harm',\n  'someone',\n  'age',\n  'would',\n  'stop.',\n  'would',\n  'buy',\n  'dad',\n  'enough',\n  'find',\n  'cover',\n  'immediately',\n  'control',\n  'situation',\n  'subdue',\n  'individual.',\n  'often',\n  'times',\n  'would',\n  'get',\n  'hurt',\n  'dad',\n  'would',\n  'always',\n  'take',\n  'waffles',\n  'afterwards',\n  'waffle',\n  'house',\n  'middle',\n  'night.',\n  'started',\n  'put',\n  'quite',\n  'bit',\n  'weight',\n  'waffles',\n  'dad',\n  'ended',\n  'throwing',\n  'back.',\n  'turn',\n  'lead',\n  'dad',\n  'start',\n  'drinking',\n  'heavily',\n  'like',\n  'old',\n  'sailor',\n  'created',\n  'whole',\n  'new',\n  'set',\n  'problems',\n  'another',\n  'review.',\n  'years',\n  'later',\n  'still',\n  'little',\n  'sensitive',\n  'matters',\n  'grown',\n  'able-bodied',\n  'men',\n  'beating',\n  'little',\n  'children'],\n ['gruesome',\n  'strange',\n  'real',\n  'logic',\n  'clear',\n  'story-lie',\n  'something',\n  'paranmormal',\n  'evil',\n  'attacks',\n  'young',\n  'couple',\n  'outback',\n  'aussie',\n  'land',\n  'series',\n  'unfortunate',\n  'events',\n  'takes',\n  'viewer',\n  'end',\n  'bitter',\n  'drawn',\n  'tale',\n  'amorphous',\n  'without',\n  'real',\n  'factual',\n  'basis',\n  'feels',\n  'like',\n  'drug',\n  'induced',\n  'nightmare',\n  'writer',\n  'real',\n  'destination',\n  'idea',\n  'going'],\n ['love',\n  'actors',\n  'much',\n  'wanted',\n  'like',\n  'film.',\n  'finished',\n  'point',\n  'tedious',\n  'film',\n  'unhappy',\n  'marriage',\n  'get',\n  'that.',\n  'maybe',\n  'another',\n  'film',\n  'serve',\n  'book',\n  'well',\n  'know.',\n  'whole',\n  'film',\n  'lacked',\n  'heart',\n  'depth'],\n ['upgrading',\n  'tv',\n  'serial',\n  'full',\n  'length',\n  'feature',\n  'always',\n  'perilous',\n  'exercise',\n  'fails',\n  'lamentably',\n  'case.',\n  'almost',\n  'decade',\n  'later',\n  'mulder',\n  'scully',\n  'removed',\n  'fbi',\n  'duration.',\n  're-enrolment',\n  'first',\n  'surprise',\n  'wow',\n  'effect',\n  'following',\n  'movie',\n  'scully',\n  'reluctance',\n  'subplot',\n  'augmented',\n  'dedication',\n  'terminally',\n  'ill',\n  'young',\n  'boy',\n  'bearing',\n  'plot.',\n  'harsh',\n  'catholic',\n  'hospital',\n  'ruling',\n  'inquisition-type',\n  'priest',\n  'bearing',\n  'unnerving',\n  'scully',\n  'more.',\n  'next',\n  'subplot',\n  'visionary',\n  'father',\n  'joe',\n  'convicted',\n  'paedophile',\n  'priest',\n  'remorse.',\n  'ok',\n  'directs',\n  'fbi',\n  'interesting',\n  'crime',\n  'spots',\n  'it.',\n  'apart',\n  'getting',\n  'scully',\n  'nerves',\n  'yeah.',\n  'actual',\n  'plot',\n  'involvement',\n  'pretty',\n  'thin',\n  'seems',\n  'modern-time',\n  'russian',\n  'dr',\n  'frankenstein',\n  'work',\n  'abandoned',\n  'shed.',\n  'maybe',\n  'learn',\n  'next',\n  'movie',\n  'anyone',\n  'still',\n  'interested',\n  'seems',\n  'body',\n  'parts',\n  'traffic',\n  'going',\n  'well',\n  'ah',\n  'yes',\n  'skinner',\n  'makes',\n  'appearance',\n  'scully',\n  'presses',\n  'fbi',\n  'someone',\n  'balls.',\n  'takes',\n  'role',\n  'chauffeur',\n  'sidekick',\n  'scully',\n  'appearing',\n  'five',\n  'minutes',\n  'total',\n  'finally',\n  'all-pervading',\n  'dark',\n  'mood',\n  'oozing',\n  'mulder',\n  'scully',\n  'item',\n  'longer',\n  'maybe',\n  'long',\n  'slow',\n  'un-provoking',\n  'movie.',\n  'could',\n  '40',\n  'minutes',\n  'tv',\n  'episode',\n  'even',\n  'pretty',\n  'weak',\n  'one'],\n ['movie',\n  'set',\n  '5',\n  'seasons',\n  'put',\n  '4',\n  'movies',\n  'used',\n  'different',\n  'voice',\n  'actors',\n  'like',\n  'recommend',\n  '.who',\n  'ever',\n  'considering',\n  'buying',\n  'kid',\n  'avoid',\n  'unless',\n  'need',\n  'collection',\n  'recommend',\n  'buying',\n  'seasons',\n  '1',\n  '5',\n  'original',\n  'dragon',\n  'ball'],\n ['predictable',\n  'rom-com.',\n  'hopeful',\n  'smith',\n  'star',\n  'power',\n  'would',\n  'make',\n  'stellar',\n  'movie',\n  'real',\n  'let',\n  'down.',\n  '80',\n  'lines',\n  'predictable',\n  'halfway',\n  'tempted',\n  'think',\n  'could',\n  'written',\n  'myself.',\n  'fun',\n  'moments',\n  'underlying',\n  'psychology',\n  'deception',\n  'came',\n  'play',\n  'enough',\n  'save',\n  'film',\n  'never',\n  'see',\n  'one',\n  'worry',\n  'missing',\n  'much'],\n ['surprise', 'poor', 'stars', 'shame'],\n ['would',\n  'worked',\n  'better',\n  'lifetime',\n  'television',\n  'women',\n  'movie.',\n  'little',\n  'story',\n  'line',\n  'usual',\n  'heavy',\n  'emotional',\n  'drama',\n  'point.',\n  'save',\n  'money'],\n ['two',\n  'crusading',\n  'knights',\n  'receive',\n  'task',\n  'transporting',\n  'suspected',\n  'witch',\n  'treacherous',\n  'terrain',\n  'may',\n  'stand',\n  'trial',\n  'church',\n  'accused',\n  'causing',\n  'black',\n  'plague',\n  'season',\n  'witch.',\n  'premise',\n  'seems',\n  'thrilling',\n  'enough',\n  'season',\n  'witch',\n  'sabotaged',\n  'incompetent',\n  'special',\n  'effects',\n  'unworthy',\n  'cast.',\n  'period',\n  'setting',\n  'director',\n  'dominic',\n  'sena',\n  'tries',\n  'convey',\n  'drowned',\n  'poorly',\n  'computerized',\n  'environments',\n  'generate',\n  'sense',\n  'artifice',\n  'screen.',\n  'makes',\n  'matters',\n  'worse',\n  'laughable',\n  'performances',\n  'nicholas',\n  'cage',\n  'ron',\n  'perlman',\n  'ca',\n  'bothered',\n  'simple',\n  'things',\n  'like',\n  'diction',\n  'accent',\n  'comes',\n  'creating',\n  'convincing',\n  '14th-century',\n  'character.',\n  'sena',\n  'allow',\n  'much',\n  'suspense',\n  'quickly',\n  'given',\n  'glimpses',\n  'witch',\n  'powers',\n  'leaving',\n  'behind',\n  'long',\n  'perilous',\n  'viewing',\n  'experience',\n  'instead.',\n  'superior',\n  'take',\n  'theme',\n  'sure',\n  'check',\n  'christopher',\n  'smith',\n  'black',\n  'death',\n  '2010.',\n  '-carl',\n  'manes',\n  'like',\n  'horror',\n  'movies'],\n ['believe',\n  'movie',\n  'pointless',\n  'action/horror',\n  'scenes',\n  'compared',\n  'previous',\n  'movies',\n  'story',\n  'line',\n  'pretty',\n  'much',\n  'went',\n  'nowhere.',\n  'fan',\n  'underworld',\n  'movies',\n  'since',\n  'beginning',\n  'movie',\n  'diappointing',\n  'literally',\n  'yawning',\n  'throughout',\n  'movie'],\n ['jude',\n  'law',\n  'nails',\n  'part',\n  'rest',\n  'cast',\n  'phones',\n  'in.',\n  'worse',\n  'though',\n  'weak',\n  'tonally',\n  'nonsensical',\n  'plot.',\n  'movie',\n  'could',\n  'never',\n  'decide',\n  'wanted'],\n ['really',\n  'enjoy',\n  'watching',\n  'jason',\n  'statham.',\n  'turned',\n  'beginning',\n  'really',\n  'disgusting',\n  'plot',\n  'point'],\n ['see-through',\n  'underwear',\n  'premise',\n  'adds',\n  'nothing',\n  'inane',\n  'story.',\n  'nothing',\n  'shown',\n  'metal',\n  'image',\n  'solar',\n  'burst.',\n  'case',\n  'tease',\n  'fails',\n  'offer',\n  'anything',\n  'erotic',\n  'even',\n  'slightly',\n  'sexy.',\n  'titilating',\n  'images',\n  'cartoon-like',\n  'ones.',\n  'yo',\n  'yo',\n  'probably',\n  'good',\n  'title',\n  'considering',\n  'content',\n  'lack',\n  'thereof.',\n  'sorry.',\n  'much',\n  'like',\n  'asian',\n  'films',\n  'particularly',\n  'daring',\n  'asian',\n  'cuties',\n  'one',\n  'disappointment.',\n  'japan',\n  'south',\n  'korea',\n  'turned',\n  'much',\n  'better',\n  'product'],\n ['story'],\n ['poorly-made', 'copy', 'zombieland'],\n ['first',\n  'must',\n  'say',\n  'film',\n  'shot',\n  'beautifully',\n  'excellent',\n  'visuals',\n  'effects.',\n  'saw',\n  'movie',\n  '3-d',\n  'scenes',\n  'extraordinarily',\n  'shot.',\n  'visual',\n  'aspects',\n  'movie',\n  'reason',\n  'give',\n  'mad',\n  'max',\n  'one-star',\n  'rating.',\n  'storyline',\n  'whole',\n  'terrible',\n  'opinion.',\n  'enough',\n  'backstory',\n  'apocalyptic',\n  'world',\n  'movie',\n  'based',\n  'much',\n  'dialogue',\n  'characters',\n  'type',\n  'character',\n  'development.',\n  'disappointed',\n  'especially',\n  'considering',\n  'hype',\n  'surrounding',\n  'movie'],\n ['beginning',\n  'credits',\n  'roll',\n  'view',\n  'excrement',\n  'stained',\n  'white',\n  'sweat',\n  'pants',\n  'lingers',\n  'image',\n  'wonder.',\n  'hope',\n  'girl',\n  'first',\n  'scene',\n  'calling',\n  'agent',\n  'fire',\n  'him.',\n  'stopped',\n  'film',\n  'less',\n  '3',\n  'minutes',\n  'want',\n  '3',\n  'minutes',\n  'back'],\n ['amazon',\n  'movies',\n  'stream',\n  'one.',\n  'know',\n  'movie',\n  'good',\n  'since',\n  'ca',\n  'watch'],\n ['harrison',\n  'ford',\n  'choices',\n  'slipping',\n  'every',\n  'year.',\n  'lies',\n  'beneath',\n  'hopefully',\n  'rock-bottom',\n  'ford.',\n  'said',\n  'director',\n  'robert',\n  'zemeckis',\n  'either',\n  'make',\n  'worse',\n  'movie',\n  'kind',\n  'criminal',\n  'punishment.',\n  'lies',\n  'beneath',\n  'atrociously',\n  'bad',\n  'well',\n  'movie',\n  'spends',\n  'hour',\n  'red',\n  'herring',\n  'bad',\n  'rear',\n  'window',\n  'take-off',\n  'absolutely',\n  'nothing',\n  'remaining',\n  'painfully',\n  'stupid',\n  'last',\n  'hour.',\n  'see',\n  'movie',\n  'first',\n  'hour',\n  'exercise',\n  'wasteful',\n  'moviemaking',\n  'ends',\n  'treated',\n  'trite',\n  'predictable',\n  'least',\n  'bit',\n  'creative',\n  'chilling',\n  'ghost',\n  'story',\n  'got',\n  'depth',\n  'average',\n  'scooby',\n  'doo',\n  'episode.',\n  'get',\n  'ghost',\n  'turn',\n  'computer',\n  'type',\n  'yet',\n  'reason',\n  'beyond',\n  'shoddy',\n  'writing',\n  'fails',\n  'merely',\n  'type',\n  'letter',\n  'explaining',\n  'house',\n  'wants',\n  'done',\n  'avenge',\n  'death.',\n  'obvious',\n  'anyway',\n  'course',\n  'stupidity',\n  'builds',\n  'ghost',\n  'always',\n  'writes',\n  'mirrors',\n  'rather',\n  'writing',\n  'useful',\n  'information',\n  'ghost',\n  'scribbles',\n  'cryptic',\n  'gems',\n  'know',\n  'oh',\n  'scary.',\n  'eek.',\n  'write',\n  'so-and-so',\n  'killed',\n  'person',\n  'put',\n  'body',\n  'here.',\n  'outdone',\n  'silly',\n  'ghost',\n  'story',\n  'bad',\n  'rear',\n  'window',\n  'copycatting',\n  'get',\n  'dumb',\n  'horror/thriller',\n  'cliches.',\n  'characters',\n  'never',\n  'turn',\n  'around',\n  'late.',\n  'killer',\n  'appears',\n  'unconcious',\n  'wow',\n  'shocking',\n  'people',\n  'seem',\n  'enjoy',\n  'creeping',\n  'loved',\n  'ones',\n  'standing',\n  'behind',\n  'know',\n  'much',\n  'fun',\n  'is.',\n  'absolute',\n  'kicker',\n  'would',\n  'stupid',\n  'plot',\n  'devices',\n  'chemical',\n  'paralyzes',\n  'kill',\n  'sets',\n  'asinine',\n  'tub',\n  'sequence',\n  'ever.',\n  'even',\n  'inane',\n  'would',\n  'cell',\n  'phone',\n  'works',\n  'halfway',\n  'across',\n  'bridge.',\n  'great',\n  'gimmick',\n  'protagonist',\n  'running',\n  'killer',\n  'naturally',\n  'cellphone',\n  'works',\n  'halfway',\n  'across',\n  'bridge.',\n  'even',\n  'predictably',\n  'protagonist',\n  'stops',\n  'car',\n  'make',\n  'cell',\n  'phone',\n  'call',\n  'thus',\n  'giving',\n  'killer',\n  'chance',\n  'one',\n  'stupid',\n  'jump',\n  'scare',\n  'audience',\n  'scene.',\n  'lame.',\n  'people',\n  'made',\n  'film',\n  'need',\n  'apologize',\n  'national',\n  'tv',\n  'beg',\n  'forgiveness',\n  'finally',\n  'pay',\n  'restitution',\n  'moviegoers',\n  'ticket',\n  'price',\n  'also',\n  'wasting',\n  'time',\n  'brain',\n  'cells'],\n ['lacks',\n  'good',\n  'story',\n  'well',\n  'put',\n  'together.',\n  'know',\n  'lot',\n  'hate',\n  'towards',\n  'movie',\n  'low',\n  'budget',\n  'thought',\n  'superbly',\n  'done',\n  'idea',\n  'people',\n  'hard',\n  'movie',\n  'put',\n  'directors',\n  'shoes',\n  'must',\n  'back-breaking',\n  'complex',\n  'make',\n  'evil',\n  'dead',\n  '1981',\n  'main',\n  'concern',\n  'movie',\n  'many',\n  'movies',\n  'rips',\n  'plot',\n  'four',\n  'friends',\n  'guide',\n  'go',\n  'little',\n  'adventure',\n  'quiet',\n  'solitude',\n  'dense',\n  'thick',\n  'woods',\n  'camp',\n  'blackwood',\n  'a.k.a.',\n  'camp',\n  'blood',\n  'provides',\n  'even',\n  'though',\n  'heard',\n  'missing',\n  'girl',\n  'area',\n  'flat-out',\n  'warned',\n  'told',\n  'go.',\n  'settle',\n  'night',\n  'rest',\n  'hear',\n  'screams',\n  'also',\n  'ignore',\n  'come',\n  'find',\n  'guide',\n  'barbecued',\n  'illogical',\n  'fire',\n  'engulf',\n  'flames',\n  'throwing',\n  'match',\n  'four',\n  'friends',\n  'stalked',\n  'lunatic',\n  'picked',\n  'one',\n  'one',\n  'survive',\n  'long',\n  'day',\n  'camp',\n  'blood',\n  'nightmare',\n  'review',\n  'said',\n  'earlier',\n  'film',\n  'rips',\n  'many',\n  'movies',\n  'mainly',\n  'friday',\n  '13th',\n  'part',\n  'one',\n  'even',\n  'ghost',\n  'tales',\n  'around',\n  'camp',\n  'fire',\n  'lunatic',\n  'area',\n  'like',\n  'friday',\n  '13th',\n  'part',\n  'two',\n  'another',\n  'film',\n  'really',\n  'inspired',\n  'ending',\n  'scene',\n  'movie',\n  'texas',\n  'chainsaw',\n  'massacre',\n  'really',\n  'copied',\n  'lot',\n  'ending',\n  'seen',\n  'killer',\n  'slices',\n  'girls',\n  'back',\n  'weapon',\n  'spoiler',\n  'aleret',\n  'killer',\n  'hit',\n  'truck',\n  'two',\n  'killers',\n  'chase',\n  'end',\n  'end',\n  'spoiler',\n  'extended',\n  'nudity',\n  'scene',\n  'inquires',\n  'actual',\n  'sex',\n  'looking',\n  'seductive',\n  'towards',\n  'man',\n  'clearly',\n  'dumb',\n  'come',\n  'film',\n  'well',\n  'put',\n  'together',\n  'mentioned',\n  'earlier',\n  'was.',\n  'make',\n  'superbly',\n  'excellent',\n  'gives',\n  'little',\n  'decent',\n  'score',\n  'book.',\n  'film',\n  'forgotten',\n  '10',\n  'years',\n  'already',\n  'crying',\n  'shame',\n  'films',\n  'like',\n  'avatar',\n  'remembered',\n  'cool',\n  'looked',\n  'opinion',\n  'thought',\n  'stupid',\n  'end',\n  'good',\n  'note',\n  'say',\n  'although',\n  'micro-budget',\n  'still',\n  'set',\n  'give',\n  'us',\n  'something',\n  'cheesy',\n  'entertaining',\n  'acting',\n  'screaming',\n  'girl',\n  'played',\n  'jennifer',\n  'ritchkoff',\n  'yes',\n  'look',\n  'camp',\n  'blood',\n  '2',\n  'pretty',\n  'much',\n  'real',\n  'movies',\n  'played',\n  'makes',\n  'well',\n  'known',\n  'wicked',\n  'annoying',\n  'show',\n  'much',\n  'acting',\n  'appreciate',\n  'actor',\n  'like',\n  'point',\n  'tim',\n  'young',\n  'also',\n  'acted',\n  'scarecrow',\n  '2002',\n  'plays',\n  'jay',\n  'fowl-mouth',\n  'jerk',\n  'girlfriend',\n  'played',\n  'betheny',\n  'zolt',\n  'pretty',\n  'much',\n  'puts',\n  'money',\n  'wish',\n  'put',\n  'acting',\n  'wise',\n  'script',\n  'wise',\n  'well',\n  'gore',\n  'gory',\n  'impalement',\n  'machete',\n  'body',\n  'cheap',\n  'bloody',\n  'cuts',\n  'really',\n  'weak',\n  'fake',\n  'decapitation',\n  'machete',\n  'sliced',\n  'ones',\n  'head',\n  'bloody',\n  'eye',\n  'gouging',\n  'eye',\n  'gouging',\n  'eyeballs',\n  'seem',\n  'intact',\n  'eyelids',\n  'shut',\n  'stabbings',\n  'little',\n  'looked',\n  'unreal',\n  'hey',\n  'least',\n  'money',\n  'blood',\n  'gore',\n  'bottom',\n  'line',\n  'director',\n  'brad',\n  'sykes',\n  'great',\n  'director',\n  'therefore',\n  'give',\n  'upmost',\n  'respect',\n  'believe',\n  'camp',\n  'blood',\n  'movie',\n  'better',\n  'one',\n  'give',\n  'even',\n  'applause',\n  'directed',\n  'three',\n  'film',\n  'great',\n  'even',\n  'decent',\n  'watchable',\n  'entertaining/funny',\n  'hard',\n  'script',\n  'looks',\n  'bad',\n  'sounds',\n  'bad.',\n  'seemed',\n  'like',\n  'mr.',\n  'sykes',\n  'like',\n  'going',\n  'added',\n  'little',\n  'humor',\n  'help',\n  'boost',\n  'film',\n  'along',\n  'end',\n  'little',\n  'decent',\n  'suggested',\n  'mpaa',\n  'rated',\n  'r',\n  'strong',\n  'violence',\n  'language',\n  'sexual',\n  'content',\n  'nudity',\n  'worth',\n  'buy',\n  'scale',\n  '1-10',\n  '2',\n  'movie',\n  'scale',\n  '1-5',\n  '2'],\n ['good',\n  'great',\n  'documentary',\n  'albeit',\n  'incomplete',\n  'people',\n  'history',\n  'funny',\n  'business',\n  'bad',\n  'funny.',\n  'granted',\n  'clips',\n  'shown',\n  'would',\n  'normally',\n  'funny',\n  'right',\n  'seen',\n  '2',\n  'times',\n  'makes',\n  'funny',\n  'anymore.',\n  'time',\n  'allow',\n  'complete',\n  'skits',\n  'shown.',\n  'want',\n  'good',\n  'documentary',\n  'past',\n  'comics',\n  'buy',\n  'one.',\n  'looking',\n  'bunch',\n  'laughs',\n  'forget'],\n ['bit',\n  'slow',\n  'side.',\n  'warm',\n  'diolog.',\n  'interesting',\n  'idea',\n  'lack',\n  'luster',\n  'acting.',\n  'preformers',\n  'mailed',\n  'preformaces'],\n ['movie',\n  'one',\n  'following',\n  'series',\n  'sucked.',\n  'disappointed.',\n  'finish',\n  'either.',\n  'absolutely',\n  'stupid',\n  'waste',\n  'money.',\n  'know',\n  'got',\n  'good',\n  'reviews.',\n  'shame',\n  'people'],\n ['borling'],\n ['good', 'trailer', 'implied'],\n ['note',\n  'sure',\n  'begin.',\n  'truly',\n  'hated',\n  'movie',\n  'many',\n  'reasons',\n  'big',\n  'small.',\n  'first',\n  'movie',\n  'boring',\n  '.only',\n  '1',\n  'action',\n  'fight',\n  'scene',\n  'boring',\n  'scene',\n  'batman',\n  'gets',\n  'destroyed',\n  'bane.',\n  'batman',\n  'movie',\n  'pete',\n  'sake',\n  'real',\n  'special',\n  'effects',\n  'make',\n  'say',\n  'wow.',\n  'batman',\n  'movie',\n  'tv',\n  'drama',\n  '.made',\n  'movie',\n  'even',\n  'boring.',\n  'plot',\n  'dumb',\n  'dumb.',\n  'boring.',\n  'say',\n  'sleep',\n  'aide',\n  'ok',\n  'last',\n  'problems',\n  'movie',\n  'batman',\n  'movie.',\n  'hello',\n  'batman',\n  'one',\n  'batman',\n  'movie',\n  'batman',\n  '3',\n  'hours',\n  'bane',\n  'talia',\n  'al',\n  'ghul.',\n  'basically',\n  '3',\n  'hour',\n  'back',\n  'story',\n  'bane',\n  'talia',\n  'al',\n  'ghul.',\n  'far',\n  'concern',\n  'good',\n  'christian',\n  'bale',\n  'batman',\n  'movie',\n  'dark',\n  'knight',\n  'batman',\n  'begins',\n  'fair',\n  'near',\n  'good',\n  'dark',\n  'night'],\n ['amazes',\n  'many',\n  'wannabes',\n  'call',\n  'best',\n  'star',\n  'trek',\n  'film.',\n  \"'ve\",\n  'making',\n  'star',\n  'trek',\n  'films',\n  'decades',\n  'sudden',\n  'dumb',\n  'story',\n  'line',\n  'becomes',\n  'big',\n  'blockbuster.',\n  'remember',\n  'one',\n  'time',\n  'working',\n  'heard',\n  'customer',\n  'saying',\n  'excited',\n  'see',\n  'new',\n  'star',\n  'trek',\n  'soo',\n  'many',\n  'people',\n  'saying',\n  'great',\n  'was.',\n  'asked',\n  'friends',\n  'watched',\n  'original',\n  'films',\n  'even',\n  'know',\n  'existed',\n  'could',\n  'already',\n  'tell',\n  'going',\n  'come',\n  'back',\n  'say',\n  'great',\n  'naive',\n  'ignorant.',\n  'watched',\n  'movie',\n  'let',\n  'down.',\n  'captain',\n  'kirk',\n  'need',\n  'playing',\n  'beastie',\n  'boys',\n  'jumping',\n  'cars',\n  'need',\n  'lame',\n  'nickelodeon',\n  'bar',\n  'fight',\n  'scene',\n  'establish',\n  'rebel',\n  'done',\n  '10000000000000000000000000',\n  'times',\n  'last',\n  'least',\n  'romance',\n  'spock',\n  'uhuru',\n  'came',\n  'hell',\n  'come',\n  'idea'],\n ['despite',\n  'veritable',\n  \"who's-who\",\n  'visual',\n  'effects',\n  'veterans',\n  'worked',\n  'star',\n  'wars',\n  'capable',\n  'leading',\n  'actors',\n  'movie',\n  'bogged',\n  'strange',\n  'story-telling',\n  'incoherent',\n  'plot.',\n  'suppose',\n  'director',\n  'richard',\n  'sarafian',\n  'vanishing',\n  'point',\n  'knew',\n  'going',\n  'rough',\n  'shoot',\n  'first',\n  'day',\n  'ixl',\n  'robo-truck',\n  'experienced',\n  'mechanical',\n  'problems',\n  'burned',\n  'ground',\n  'driving',\n  'location',\n  'without',\n  'even',\n  'getting',\n  'film.',\n  'solar',\n  'crisis',\n  'based',\n  'novel',\n  'originally',\n  'conceived',\n  'theatrical',\n  'release',\n  'japan',\n  \"'ve\",\n  'ever',\n  'seen',\n  'japanese',\n  'version',\n  'crisis',\n  '2050',\n  'laserdisc',\n  'film',\n  'much',\n  'darker',\n  'tone',\n  'picture',\n  'actually',\n  'makes',\n  'much',\n  'sense.',\n  'american',\n  'version',\n  'many',\n  'newly',\n  'added',\n  'insert',\n  'shots',\n  'actors',\n  'spouting',\n  'new',\n  'dialogue',\n  'shot',\n  'fact',\n  'different',\n  'obvious',\n  'mock-up',\n  'sets',\n  'change',\n  'tone',\n  'film',\n  'much',\n  'storyline.',\n  'director',\n  'actually',\n  'removed',\n  'name',\n  'american',\n  'edit',\n  'film',\n  'list',\n  'provides',\n  'plausible',\n  'reasons',\n  'decision',\n  'differences',\n  'spoilers',\n  'ahead',\n  'american',\n  'version',\n  'opening',\n  'scenes',\n  'title',\n  'crawl',\n  'also',\n  'read',\n  'aloud',\n  'narrator',\n  'establish',\n  'premise.',\n  'japanese',\n  'version',\n  'opening',\n  'scenes',\n  'explained',\n  'on-screen',\n  'computer',\n  'read-out',\n  'looks',\n  'great',\n  'explains',\n  'premise',\n  'better',\n  'english',\n  'less',\n  'cut',\n  'american',\n  'version',\n  'dr.',\n  'haas',\n  'claims',\n  'believed',\n  'solar',\n  'flare',\n  'going',\n  'happen',\n  'new',\n  'research',\n  'shows',\n  'wrong',\n  'wants',\n  'teague',\n  'stop',\n  'plans',\n  'sabotaging',\n  'helios',\n  'mission.',\n  'new',\n  'dialogue',\n  'dubbed',\n  'existing',\n  'scene.',\n  'japanese',\n  'version',\n  'dr.',\n  'haas',\n  'claims',\n  'research',\n  'shows',\n  'solar',\n  'flare',\n  'happen',\n  'believes',\n  'mission',\n  'waste',\n  'teague',\n  'side.',\n  'american',\n  'version',\n  'bikers',\n  'attack',\n  'ixl',\n  'robo-truck',\n  'discover',\n  'travis',\n  'mike',\n  'kelso',\n  'stowed-away',\n  'recognize',\n  'travis',\n  'call',\n  'name',\n  'refer',\n  'colonel.',\n  'never',\n  'explained',\n  'followed',\n  'up.',\n  'japanese',\n  'version',\n  'bikers',\n  'attack',\n  'ixl',\n  'robo-truck',\n  'discover',\n  'travis',\n  'mike',\n  'kelso',\n  'stowed-away',\n  'ravage',\n  'truck',\n  'leave',\n  'two',\n  'tied',\n  'desert',\n  'drainage',\n  'pipes',\n  'road',\n  'presumably',\n  'die.',\n  'american',\n  'version',\n  'teague',\n  'takes',\n  'mike',\n  'kelso',\n  'beach',\n  'orders',\n  'bleach-blonde',\n  'kovac',\n  'kill',\n  'him.',\n  'extended',\n  'cat',\n  'mouse',\n  'chase',\n  'mike',\n  'kovac',\n  'resulting',\n  'kovacs',\n  'death.',\n  'japanese',\n  'version',\n  'teague',\n  'takes',\n  'mike',\n  'kelso',\n  'beach',\n  'long',\n  'conversation',\n  'cut',\n  'american',\n  'version',\n  'intention',\n  'killing',\n  'mike',\n  'stranding',\n  'kovac',\n  'nowhere',\n  'scene.',\n  'many',\n  'kovacs',\n  'scenes',\n  'appear',\n  'shot',\n  'principal',\n  'photography',\n  'completed',\n  'expand',\n  'role.',\n  'american',\n  'version',\n  'teague',\n  'killed',\n  'charlton',\n  'heston',\n  'men.',\n  'japanese',\n  'version',\n  'teague',\n  'killed',\n  'charlton',\n  'heston.',\n  'american',\n  'version',\n  'ending',\n  'completing',\n  'mission',\n  'helios',\n  'shown',\n  'returning',\n  'directly',\n  'earth',\n  'impossible',\n  'since',\n  'established',\n  'enough',\n  'oxygen',\n  'return',\n  'trip',\n  'needed',\n  'rendezvous',\n  'chicago',\n  'get',\n  'home',\n  'alive',\n  'japanese',\n  'version',\n  'ending',\n  'completing',\n  'mission',\n  'charlton',\n  'heston',\n  'tim',\n  'matheson',\n  'corin',\n  'nemec',\n  'shown',\n  'reunited',\n  'jack',\n  'palance',\n  'desert',\n  'home',\n  'pondering',\n  'risked',\n  'life',\n  'help',\n  'corin.',\n  'american',\n  'version',\n  'many',\n  'added',\n  'scenes',\n  'alex',\n  'struggling',\n  'orders',\n  'sabotage',\n  'mission',\n  'japanese',\n  'version',\n  'including',\n  'odd',\n  'animated',\n  'shot',\n  'eye',\n  'bleeding.',\n  'typical',\n  'many',\n  'added',\n  'american',\n  'shots',\n  'seem',\n  'over-explain',\n  'everything',\n  'audience',\n  'could',\n  'figure',\n  'plot',\n  'own.',\n  'two',\n  'versions',\n  'edited',\n  'differently',\n  'mention',\n  'laserdisc',\n  'widescreen',\n  '1:85',\n  'cinemascope',\n  'dvd',\n  'cropped',\n  '1:33',\n  '4:3',\n  'tv',\n  'aspect',\n  'ratio.',\n  'shame',\n  'two',\n  'available',\n  'together',\n  'one',\n  'dvd.',\n  'special',\n  'effects',\n  'included',\n  'nicely',\n  'done',\n  'early',\n  'cgi',\n  'pacific',\n  'data',\n  'images',\n  'also',\n  'suffer',\n  'despite',\n  'experienced',\n  'talented',\n  'crew.',\n  'vfx',\n  '2010',\n  'ghostbusters',\n  'diehard',\n  'done',\n  'studio',\n  'many',\n  'ilm',\n  'veterans',\n  'worked',\n  'star',\n  'wars',\n  'trilogy',\n  'raiders',\n  'lost',\n  'ark',\n  'alas',\n  'even',\n  'best',\n  'turn',\n  'best',\n  'work',\n  'many',\n  'shots',\n  'enough',\n  'time',\n  'in.',\n  'aside',\n  'models',\n  'spaceships',\n  'auctioned',\n  'vfx',\n  'studio',\n  'boss',\n  'film',\n  'closed',\n  'doors',\n  'near',\n  'turn',\n  'century'],\n ['stupid',\n  'pointless',\n  'low',\n  'budget',\n  'crap.',\n  'sorry',\n  'honest',\n  'say',\n  'idea',\n  'sorta',\n  'ok',\n  'money',\n  'bad',\n  'writing',\n  'directing',\n  'acting',\n  'crap'],\n ['remember',\n  'watching',\n  'movie',\n  'really',\n  'hated',\n  'point',\n  'loathed',\n  'actors',\n  '21st',\n  'century',\n  'actually',\n  'think',\n  'improve',\n  'classic',\n  'lies',\n  'important',\n  'fact',\n  'classics',\n  'remade',\n  'well',\n  'actors',\n  'nowadays',\n  'know',\n  'act',\n  '..albeit',\n  'though..i',\n  'like',\n  'bernie',\n  'mac',\n  'bernie',\n  'mac',\n  'show',\n  'alive',\n  'enjoy',\n  'anyone',\n  '.and',\n  'think',\n  'zoe',\n  'saldana',\n  'stick',\n  'role',\n  'avon',\n  'spokesmodel',\n  '.she',\n  'also',\n  'impress',\n  'star',\n  'trek',\n  'movie',\n  '.while',\n  'tried',\n  'match',\n  'everyone',\n  'far',\n  'looks',\n  'good',\n  'remake..they',\n  'horrible',\n  'job',\n  'casting',\n  'zoe',\n  'saldana',\n  'uhura',\n  'nothing',\n  'like',\n  'uhura..in',\n  'looks',\n  'acting..',\n  'personailties',\n  'make',\n  'good',\n  'remake',\n  'face',\n  'facts',\n  'zoe',\n  'ca',\n  'act',\n  'people',\n  'guess',\n  'think',\n  'act',\n  'totally',\n  'hopeless',\n  '.that',\n  'like',\n  'alot',\n  'older',\n  'films',\n  'watch',\n  'newer',\n  'films',\n  'mostly',\n  'older',\n  'films',\n  'people',\n  'like',\n  'spencer',\n  'tracey',\n  'katherine',\n  'hepburn',\n  'norma',\n  'shearer',\n  'clark',\n  'gable',\n  'jean',\n  'harlow',\n  'greer',\n  'garson',\n  'gregory',\n  'peck',\n  'etc',\n  'etc',\n  'knew',\n  'act',\n  'act',\n  'good',\n  'maybe',\n  'writing',\n  'directors',\n  'better',\n  '..one',\n  'final',\n  'note..while',\n  'could',\n  'watch',\n  '1967',\n  'classic',\n  'someone',\n  'give',\n  'gift',\n  'would',\n  'consider',\n  'insult',\n  'throw',\n  'garbage'],\n ['english',\n  'dub',\n  'watch.',\n  '100',\n  'opposed',\n  'watching',\n  'movies',\n  'subtitled.',\n  'ca',\n  'tell',\n  'many',\n  'countless',\n  'anime',\n  'watched',\n  'subbed',\n  'back',\n  'day',\n  'due',\n  'limitations',\n  'format',\n  'constraints',\n  'time',\n  'vhs',\n  'able',\n  'offer',\n  'one',\n  'audio',\n  'track',\n  'dvd',\n  'introduced',\n  'blu-ray',\n  'streaming',\n  'et',\n  'al',\n  'find',\n  'excuse',\n  'offer/create',\n  'multiple',\n  'language',\n  'tracks',\n  'territory',\n  'studios',\n  'provide',\n  'movies',\n  'in.',\n  'want',\n  'divert',\n  'eyes',\n  'cinematography',\n  'read',\n  'lines',\n  'dialog.',\n  'mind',\n  'good',\n  'take',\n  'away',\n  'movie',\n  'watching',\n  'experience',\n  'great',\n  'you.',\n  'consider',\n  'better',\n  'me.',\n  'stick',\n  'dubs',\n  'thank',\n  'you.',\n  'feel',\n  'missing',\n  'great',\n  'films',\n  'due',\n  'limited',\n  'viewpoint',\n  'take',\n  'comfort.',\n  'movies',\n  'one',\n  'watch',\n  'lifetime',\n  'great',\n  'movies',\n  'english',\n  'dubbed',\n  'english',\n  'spend',\n  'time',\n  'watching',\n  'instead.',\n  'entitled',\n  'opinion',\n  'preferences',\n  'continue',\n  'support',\n  'film',\n  'studios',\n  'demonstrate',\n  'care',\n  'enjoyment',\n  'providing',\n  'english',\n  'dubs.',\n  'amazon',\n  'needs',\n  'better',\n  'job',\n  'labeling',\n  'movies',\n  'offer',\n  'english',\n  'subtitles',\n  'dub.',\n  'others',\n  'one',\n  'read',\n  'similar',\n  'reviews',\n  'countless',\n  'movies',\n  'site',\n  'see',\n  'frustrates',\n  'many',\n  'customers',\n  'me.',\n  'movie',\n  'make',\n  'english',\n  'dub',\n  'offer',\n  'one',\n  'future',\n  'watch',\n  'adjust',\n  'rating.',\n  'one',\n  'star',\n  'amazon',\n  'lack',\n  'clear',\n  'labeling'],\n ['put',\n  'movie',\n  'watchlist',\n  'shooting',\n  'dark',\n  'one',\n  'two',\n  'things',\n  'either',\n  'lesbian',\n  'romance',\n  'good',\n  'really',\n  'tug',\n  'heartstrings',\n  'steamy',\n  'sexy',\n  'story',\n  'make',\n  'well',\n  'tug',\n  'something',\n  'entirely',\n  'different.',\n  'sadly',\n  'movie',\n  'neither.',\n  'badly',\n  'put',\n  'together',\n  'story',\n  'coupled',\n  'sub-par',\n  'acting',\n  'bit',\n  'soft',\n  'core',\n  'porn',\n  'sprinkled',\n  'in.',\n  'may',\n  'biased',\n  'hate',\n  'soft',\n  'core',\n  'porn.',\n  'porn',\n  'unabashedly',\n  'filthy',\n  'kinky',\n  'honest.',\n  'like',\n  'things',\n  'honest',\n  'forward',\n  'comes',\n  'reason',\n  'points',\n  'give',\n  'movie',\n  'actually',\n  'half',\n  'baked',\n  'love',\n  'story',\n  'two',\n  'women',\n  'find',\n  'often',\n  'plot',\n  'granted',\n  'badly',\n  'written',\n  'one.',\n  'movie',\n  'got',\n  'two',\n  'stars',\n  'movies',\n  'worse',\n  'deserve',\n  'none.',\n  'also',\n  'mention',\n  'bad',\n  'acting',\n  'main',\n  'characters',\n  'one-',\n  'dimensional',\n  'leaves',\n  'bad',\n  'taste',\n  'mouth.',\n  'call',\n  'high',\n  'maintenance',\n  'pulse',\n  'female',\n  'sex',\n  'organs',\n  'enough',\n  'like',\n  'character',\n  'film'],\n ['series',\n  'seems',\n  'kind',\n  'predictable',\n  'characters',\n  'depth',\n  'whatsoever.',\n  'heavier',\n  'plot',\n  'anything',\n  'else',\n  'always',\n  'unfortunate',\n  'experience.',\n  'watcher',\n  'need',\n  'identify',\n  'characters',\n  'way',\n  'show',\n  'way',\n  'say',\n  'oh',\n  'yes',\n  'see',\n  'human'],\n ['apparently',\n  'everyone',\n  'else',\n  'sees',\n  'something',\n  'movie',\n  'thought',\n  'awful.',\n  'waste',\n  'money',\n  'time'],\n ['funny.',\n  'adolescent',\n  'predictable.',\n  'anyone',\n  'could',\n  'wrote',\n  'script'],\n ['film',\n  'dull.',\n  'however',\n  'remind',\n  'shadow',\n  'vampire',\n  'film',\n  'director',\n  'makes',\n  'pact',\n  'vampire',\n  'film.',\n  'basics',\n  'group',\n  '20',\n  'somethings',\n  'go',\n  'isolated',\n  'house',\n  'finish',\n  'horror',\n  'film.',\n  'house',\n  'scene',\n  'grusome',\n  'vampire',\n  'murders.',\n  'one',\n  'vampires',\n  'still',\n  'hanging',\n  'around',\n  'attacks',\n  'them.',\n  'filmed',\n  'guy',\n  'made',\n  'deal',\n  'ca',\n  'film',\n  'vampires',\n  'anyway',\n  'image',\n  'appear',\n  'camera'],\n ['like', 'book', 'better'],\n ['boycott',\n  'movies',\n  'matt',\n  'them.',\n  'racist',\n  'old',\n  'man.',\n  'bald',\n  'talentless',\n  'mention',\n  'shorter',\n  'poodle',\n  'stilts'],\n ['love',\n  'dogs',\n  'especially',\n  'jack',\n  'russell',\n  'terriors.',\n  'sure',\n  'hope',\n  'continue',\n  'tv',\n  'career.',\n  'show',\n  'actually',\n  'kind',\n  'boring',\n  'pretetious.',\n  'give',\n  '2',\n  'stars',\n  'dog'],\n ['like'],\n ['saw',\n  'movie',\n  'good',\n  'first',\n  'one.',\n  'story',\n  'first',\n  'one.',\n  'time',\n  'military',\n  'army',\n  'fights',\n  'mutant',\n  'people.',\n  'understand',\n  'put',\n  'first',\n  'scene',\n  'pregnant',\n  'woman',\n  'tortured.',\n  'horrible.',\n  'military',\n  'army',\n  'good',\n  'fight',\n  'missing',\n  'part.',\n  'first',\n  'one',\n  'better',\n  'second'],\n ['painful',\n  'workout-',\n  'exercizes',\n  'narration.',\n  'despite',\n  'labeled',\n  'intermediate',\n  'workout',\n  'first',\n  'part',\n  'video',\n  'absolute',\n  'novice',\n  'yoga.',\n  'video',\n  'seems',\n  'geared',\n  'someone',\n  'unfamiliar',\n  'yoga-',\n  'instructor',\n  'takes',\n  'time',\n  'define',\n  'sit',\n  'bones',\n  'breathing',\n  'nose',\n  'vinyasa.',\n  'poses',\n  'flow',\n  'well.',\n  'instructor',\n  'gives',\n  'great',\n  'deal',\n  'verbal',\n  'instruction',\n  'poses',\n  'described',\n  'painstaking',\n  'detail',\n  'instead',\n  'simply',\n  'using',\n  'name',\n  'pose.',\n  'example',\n  'describing',\n  'dog',\n  'first',\n  'time',\n  'would',\n  'continue',\n  'describe',\n  'pose',\n  'time',\n  'instead',\n  'saying',\n  'name.',\n  'one',\n  'good',\n  'thing',\n  'incessant',\n  'talking',\n  'instructor',\n  'notice',\n  'cheesy',\n  'music',\n  'background.',\n  'also',\n  'prolonged',\n  'relaxation',\n  'encourages',\n  'visualize',\n  'colored',\n  'lights',\n  'chakras.',\n  'first',\n  'yoga',\n  'zone',\n  'video',\n  'tried',\n  'probably',\n  'last.',\n  'new',\n  'yoga',\n  'recommend',\n  'crunch',\n  'videos',\n  'beginning',\n  'gaiam',\n  'videos.',\n  'intermediate',\n  'yoga',\n  'workouts',\n  'recommend',\n  'bryan',\n  'kest',\n  'power',\n  'yoga',\n  'series',\n  'intermediate',\n  'gaiam',\n  'videos'],\n ['poor',\n  'movie',\n  'beginning',\n  'end.',\n  'disappointed',\n  'film.',\n  'acting',\n  'bad',\n  'special',\n  'effects',\n  'average',\n  'best.',\n  'hercules',\n  'movie',\n  'made.',\n  'save',\n  'money',\n  'purchase',\n  'this.',\n  'must',\n  'see',\n  'rent',\n  'it.',\n  'lot',\n  'action',\n  'one',\n  'favorite',\n  'special',\n  'effects',\n  'slow',\n  'motion',\n  'shots',\n  'hercules',\n  'fighting.',\n  'impressive.',\n  'movie',\n  'boring',\n  'stopped',\n  'least',\n  '12',\n  'times',\n  'things',\n  'came',\n  'back',\n  'film',\n  'later.',\n  'good',\n  'film'],\n ['supposed',\n  'thriller.',\n  'ok',\n  'whatever',\n  'viewer',\n  'obviously',\n  'knows',\n  'smith',\n  'emerge',\n  'harrowing',\n  'adventure',\n  'less',\n  'intact',\n  'really',\n  'tension',\n  'created',\n  'putting',\n  'character',\n  'peril.',\n  'therefore',\n  'tension',\n  'suspense',\n  'producers',\n  'film',\n  'hope',\n  'create',\n  'comes',\n  'playing',\n  'audience',\n  'sense',\n  'paranoia.',\n  'oh',\n  'god',\n  'government',\n  'really',\n  'watching',\n  'every',\n  'word',\n  'deed',\n  'thinks',\n  'audience.',\n  'oh',\n  'god',\n  'could',\n  'actually',\n  'happening',\n  'read',\n  'reviews',\n  'see',\n  'paranoia',\n  'major',\n  'factor',\n  'film',\n  'appeal.',\n  'could',\n  'think',\n  'watched',\n  'film',\n  'give',\n  'break.',\n  'one',\n  'rogue',\n  'nsa',\n  'bureaucrat',\n  'supported',\n  'handfull',\n  'computer',\n  'geeks',\n  'supposed',\n  'able',\n  'conduct',\n  'operation',\n  'vast',\n  'kidding',\n  'anyone',\n  'ever',\n  'heard',\n  'information',\n  'overload',\n  'doubt',\n  'good',\n  'deal',\n  'technology',\n  'exists',\n  'let',\n  'get',\n  'real',\n  'folks',\n  'nsa',\n  'really',\n  'conducting',\n  'surveillance',\n  'scale',\n  'amount',\n  'raw',\n  'data',\n  'agency',\n  'would',\n  'sift',\n  'simply',\n  'boggles',\n  'mind.',\n  'nsa',\n  'would',\n  'employ',\n  'half',\n  'population',\n  'usa',\n  'spy',\n  'half.',\n  'nsa',\n  'surveillance',\n  'bush-league',\n  'us',\n  'could',\n  'commit',\n  'manner',\n  'security',\n  'breaches',\n  'never',\n  'get',\n  'caught',\n  'ironically',\n  'found',\n  'feeling',\n  'secure',\n  'scrutinized',\n  'government',\n  'seen',\n  'film.',\n  'film',\n  'sure',\n  'chase',\n  'scenes',\n  'gripping',\n  'camera',\n  'angles',\n  'great',\n  'blah',\n  'blah',\n  'blah.',\n  'production',\n  'values',\n  'movie',\n  'top-notch',\n  'bruckheimer',\n  'tony',\n  'scott',\n  'movies',\n  'like',\n  'sleep',\n  'big',\n  'deal.',\n  'said',\n  'jon',\n  'voight',\n  'gene',\n  'hackman',\n  'pretty',\n  'much',\n  'phone',\n  'roles.',\n  'production',\n  'standpoint',\n  'movie',\n  'indistinguishable',\n  'hundreds',\n  'so-called',\n  'thrillers',\n  'hollywood',\n  'machine',\n  'churned',\n  'last',\n  'years.',\n  'ho',\n  'hum.',\n  'overall',\n  'really',\n  'thoroughly',\n  'mediocre',\n  'film'],\n ['could', 'take', '1/2', 'hour', 'terrible', 'movie'],\n ['hated'],\n ['seeker',\n  'fine',\n  'art',\n  'complex',\n  'movies',\n  'san',\n  'andreas',\n  'simple',\n  'garbage.',\n  'good',\n  'effects',\n  'nice',\n  'breasts',\n  'story',\n  'line',\n  'plain',\n  'petty.',\n  'rocks',\n  'character',\n  'ridiculous.',\n  'rent',\n  'something',\n  'else',\n  'clean',\n  'gutters',\n  'smash',\n  'hand',\n  'hammer',\n  'inspiring',\n  'movie'],\n ['christian',\n  'hated',\n  'movie.',\n  'sooooooo',\n  'biblical.',\n  'hollywood',\n  'expected.',\n  'care',\n  'correct',\n  'ok',\n  'movie',\n  'guess.',\n  'drove',\n  'crazy',\n  'moses',\n  'came',\n  'wus.',\n  'could',\n  'make',\n  'mind',\n  'whose',\n  'side',\n  'on.',\n  'faith',\n  'also',\n  'faint',\n  'heart'],\n ['directors',\n  'cut',\n  'horrible.',\n  'bad',\n  'writing',\n  'bad',\n  'everything',\n  'actors',\n  'cut',\n  'everyone',\n  'loses.',\n  'original',\n  'movie',\n  'would',\n  'bombed',\n  'horribly'],\n ['much', 'profanity', 'silly'],\n ['mediocre', 'best'],\n ['sucks'],\n ['interest',\n  'full',\n  'disclosure',\n  'fan',\n  'ferell.',\n  'understand',\n  'allowed',\n  'continue',\n  'making',\n  'movies.',\n  'script',\n  'serve',\n  'particular',\n  'type',\n  'humor.',\n  'appears',\n  'little',\n  'direction',\n  'reign',\n  'ferells',\n  'excesses.',\n  'humor',\n  'feels',\n  'forced',\n  'contrived',\n  'somewhat',\n  'embarrassing.',\n  'much',\n  'like',\n  '45',\n  'year',\n  'old',\n  'parent',\n  'college',\n  'fraternity',\n  'party',\n  'trying',\n  'desperately',\n  'show',\n  'everybody',\n  'still',\n  'cool',\n  'chances',\n  'desperately',\n  'work',\n  'ferrell',\n  'fan',\n  'likely',\n  'enjoy',\n  'film'],\n ['always',\n  'enjoyed',\n  'martin',\n  'clunes.',\n  'may',\n  'good',\n  'show',\n  'laugh',\n  'track',\n  'spoils'],\n ['twists',\n  'turns',\n  'make',\n  'better',\n  'cross-country',\n  'mis-adventure',\n  'waste',\n  'time',\n  'reflection',\n  'vision',\n  'lack',\n  'among',\n  'us'],\n ['entire',\n  'film',\n  'consists',\n  'two',\n  'teenagers',\n  'running',\n  'around',\n  'cave',\n  'tuunels',\n  'screaming',\n  'chased'],\n ['love',\n  'actress',\n  'another',\n  'movie',\n  'really',\n  'ring',\n  'bell.',\n  'maybe',\n  'geared',\n  'toward',\n  'canadians',\n  'get'],\n ['probably',\n  'sunk',\n  'series',\n  'changes',\n  'gerry',\n  'anderson',\n  'new',\n  'producer',\n  'fred',\n  'freiberger',\n  'made',\n  'show',\n  'season',\n  '1.',\n  'changes',\n  'dramatic',\n  'good',\n  'way.',\n  'season',\n  '1',\n  'established',\n  'strong',\n  'set',\n  'regular',\n  'characters',\n  'contained',\n  'interesting',\n  'thought',\n  'provoking',\n  'science',\n  'fiction.',\n  'artificial',\n  'intelligence',\n  'birth',\n  'mankind',\n  'downside',\n  'immortality.',\n  'read',\n  'shows',\n  'good',\n  'example',\n  'space',\n  'based',\n  'sci',\n  'fi',\n  'going',\n  '2001-',\n  'space',\n  'odyssey',\n  'star',\n  'wars',\n  'dumbed',\n  'back',\n  'imo',\n  'black',\n  'sun',\n  'collision',\n  'course',\n  'etc.',\n  'shows',\n  'heavy',\n  'story',\n  'light',\n  'action.',\n  'worked',\n  'stories',\n  'interesting',\n  'enough',\n  'maintain',\n  'interest.',\n  'lose',\n  'strength',\n  'story',\n  'left',\n  'fall',\n  'back',\n  'another',\n  'channel.',\n  'second',\n  'season',\n  'replaces',\n  'half',\n  'original',\n  'cast',\n  'members.',\n  'imagine',\n  'star',\n  'trek',\n  'pulled',\n  \"60's.\",\n  'characters',\n  'prof.',\n  'victor',\n  'bergman',\n  'david',\n  'kano',\n  'paul',\n  'morrow',\n  'dr.',\n  'bob',\n  'mathias',\n  'vanishes',\n  'first',\n  'couple',\n  'episodes',\n  'season',\n  'two',\n  'leave',\n  'without',\n  'explanation.',\n  'replaced',\n  'catherine',\n  'schell',\n  'metamorphic',\n  'maya',\n  'tony',\n  'verdeschi.',\n  'know',\n  'maya',\n  'explained',\n  'first',\n  'episode',\n  'know',\n  'tony',\n  'verdeschi',\n  'there.',\n  'think',\n  'change',\n  'go',\n  'well',\n  'time',\n  'ended',\n  'bringing',\n  'back',\n  'character',\n  'sandra',\n  'benes',\n  'alan',\n  'carter',\n  'find',\n  'absent',\n  'several',\n  'early',\n  'episodes.',\n  'later',\n  'season',\n  'main',\n  'characters',\n  'appear',\n  'disappear',\n  'randomly.',\n  'maybe',\n  'could',\n  'afford',\n  'nick',\n  'tate',\n  'zienia',\n  'merton',\n  'tony',\n  'anholt',\n  'episodes',\n  'two',\n  'three',\n  'time.',\n  'even',\n  'landeau',\n  'misses',\n  'episodes',\n  'final',\n  'season.',\n  'sometimes',\n  'stories',\n  'even',\n  'explain',\n  'character',\n  'see',\n  'dorzak',\n  'later',\n  'episodes',\n  'landeau',\n  'also',\n  'appears',\n  'complete',\n  'cast',\n  'unknowns',\n  'seemingly',\n  'expense',\n  'regulars',\n  'particular',\n  'story.',\n  'times',\n  'looks',\n  'like',\n  'acting',\n  'instructor',\n  'surrounded',\n  'students',\n  'see',\n  'devil',\n  'planet',\n  'also',\n  'subplots',\n  'romance',\n  'pronounced.',\n  'appeared',\n  'fringes',\n  'first',\n  'season',\n  'made',\n  'sense',\n  'stories',\n  'second',\n  'season',\n  'thrown',\n  'script.',\n  'humanoid',\n  'aliens',\n  'turn',\n  'pods',\n  'floating',\n  'space',\n  'leads',\n  'scene',\n  'commander',\n  'koenig',\n  'kissing',\n  'dr',\n  'helena',\n  'russell',\n  'maya',\n  'disguised',\n  'russell',\n  'asking',\n  'tell',\n  'difference',\n  'see',\n  'exiles',\n  'may',\n  'worked',\n  'context',\n  'story',\n  'even',\n  'epilogue',\n  'sitting',\n  'story.',\n  'moments',\n  'light',\n  'comedy.',\n  'think',\n  'spend',\n  'time',\n  'hopelessly',\n  'wandering',\n  'space',\n  'little',\n  'down.',\n  'many',\n  'stories',\n  'also',\n  'ignore',\n  'search',\n  'new',\n  'home.',\n  'marooned',\n  'moon',\n  'crew',\n  'alpha',\n  'simply',\n  'mixing',\n  'aliens',\n  'looking',\n  'rare',\n  'metals',\n  'going',\n  'asteroids',\n  'avoiding',\n  'collisions',\n  'etc.',\n  'one',\n  'episode',\n  'based',\n  'around',\n  'settling',\n  'new',\n  'planet',\n  'see',\n  'seance',\n  'spectre',\n  'second',\n  'season',\n  'also',\n  'looks',\n  'cheaper',\n  'first.',\n  'design',\n  'alpha',\n  'bridge',\n  'cheaper',\n  'rubbery',\n  'monster',\n  'suits',\n  'also',\n  'force',\n  'time',\n  'around',\n  'too.',\n  'first',\n  'time',\n  'show',\n  'shot',\n  'location',\n  'instead',\n  'set',\n  'journey',\n  'perhaps',\n  'reason',\n  'season',\n  'looking',\n  'cheaper',\n  'probably',\n  'cheaper.',\n  'imagine',\n  'budget',\n  'show',\n  'slashed',\n  'season',\n  'one',\n  'show',\n  'may',\n  'caught',\n  'yet',\n  'present',\n  'format.',\n  'second',\n  'season',\n  'attempts',\n  'reach',\n  'younger',\n  'audience',\n  'younger',\n  'looking',\n  'guest',\n  'actors',\n  'aliens',\n  'hard',\n  'christopher',\n  'lee',\n  'peter',\n  'cushing',\n  'peter',\n  'boyles',\n  'joan',\n  'collins',\n  'brian',\n  'blessed',\n  'leo',\n  'mckern',\n  'guesting',\n  'first',\n  'season',\n  'may',\n  'also',\n  'budget',\n  'issue',\n  'show.',\n  'younger',\n  'actors',\n  'subpar',\n  'comparison',\n  'established',\n  'stars',\n  'acting',\n  'equals',\n  'cheap',\n  'affordable',\n  'casting.',\n  'fact',\n  'save',\n  'first',\n  'episode',\n  'brian',\n  'blessed',\n  'last',\n  'patrick',\n  'troughton',\n  'hardly',\n  'recognize',\n  'guest',\n  'actors',\n  'though',\n  'see',\n  'young',\n  'sarah',\n  'douglas',\n  'ab',\n  'chrysalis',\n  'second',\n  'season',\n  'unfortunately',\n  'goes',\n  'also',\n  'much',\n  'crew.',\n  'even',\n  'worse',\n  'majority',\n  'supporting',\n  'crew',\n  'never',\n  'given',\n  'time',\n  'develop',\n  'characters.',\n  'facelessly',\n  'serving',\n  'story',\n  'four',\n  'leads',\n  'two',\n  'supporting',\n  'holdovers',\n  'season',\n  'one.',\n  'get',\n  'second',\n  'season',\n  'basically',\n  'completely',\n  'different',\n  'show',\n  'first.',\n  'differences',\n  'pronounced',\n  'might',\n  'even',\n  'think',\n  'better',\n  'weak',\n  'cheaper',\n  'spin-off',\n  'kind.',\n  'guess',\n  'gerry',\n  'anderson',\n  'fred',\n  'freiberger',\n  'along',\n  'trying',\n  'broaden',\n  'market',\n  'show',\n  'may',\n  'run',\n  'good',\n  'stories',\n  'staff',\n  'writers',\n  'first',\n  'season.',\n  'really',\n  'cover',\n  'many',\n  'bases',\n  'sci-fi',\n  'first',\n  'season',\n  'difficult',\n  'come',\n  'more.',\n  'differences',\n  'matter',\n  'personal',\n  'preference.',\n  'prefer',\n  'action',\n  'find',\n  'sci',\n  'fi',\n  'stories',\n  'little',\n  'dull',\n  'watch',\n  'set.',\n  'prefer',\n  'depth',\n  'interesting',\n  'time',\n  'stories',\n  'care',\n  'rubbery',\n  'monster',\n  'masks',\n  'bad',\n  'action',\n  'sequences',\n  'watch',\n  'nbsp',\n  'data-hook=',\n  'product-link-linked',\n  'class=',\n  'a-link-normal',\n  'href=',\n  '/space-1999-season-1/dp/b00buddmgu/ref=cm_cr_arp_d_rvw_txt',\n  'ie=utf8',\n  'space',\n  '1999',\n  'season',\n  '1',\n  '/a',\n  'like',\n  'discovering',\n  'show',\n  'long',\n  'fact',\n  'already',\n  'cancelled',\n  'born',\n  'know',\n  'differences.',\n  'grew',\n  'shows',\n  'want',\n  'first',\n  'season',\n  'nostalgic',\n  'purposes',\n  'quality',\n  'sound',\n  'vision',\n  'show',\n  'dvd',\n  'blu-ray',\n  'discs',\n  'impressive'],\n ['lol',\n  'really',\n  'funny',\n  'cause',\n  'wasted',\n  '4',\n  'buck',\n  'poorly',\n  'written',\n  'directed',\n  'ca',\n  'beleive',\n  'micheal',\n  'douglas',\n  'antonio',\n  'banderas',\n  'omg',\n  'really',\n  'lousy',\n  'movie',\n  'plese',\n  'rent',\n  'buy',\n  'actors',\n  'even',\n  'gina',\n  'corono',\n  'could',\n  'decent',\n  'movie.',\n  'better',\n  'director',\n  'story',\n  'line',\n  'budget',\n  'really',\n  'beleive',\n  'rented',\n  'movie',\n  'watched',\n  '10',\n  'min',\n  'erased',\n  'terrible',\n  'save',\n  'ur',\n  'money',\n  'please',\n  'think',\n  'gina',\n  'make',\n  'decent',\n  'movie',\n  'likes',\n  'van',\n  'dam',\n  'segal',\n  'needs',\n  'direction',\n  'money',\n  'film',\n  'someone',\n  'please',\n  'help',\n  'make',\n  'decent',\n  'movie',\n  'would',\n  'pay',\n  'better',\n  'movie',\n  'one',\n  'plain',\n  'sucked'],\n ['sweet', 'story', 'amateur', 'film.', 'actors', 'strong'],\n ['good', 'thought', 'would', 'be.', 'would', 'rate', 'b', 'movie'],\n ['poorly',\n  'written',\n  '2',\n  'great',\n  'actors',\n  'get',\n  'talked',\n  'money',\n  'talks',\n  'guess'],\n ['love',\n  'friday',\n  '13th',\n  'films.',\n  'brother',\n  'snuck',\n  'first',\n  'one',\n  'theaters',\n  'faithful',\n  'follower',\n  'series',\n  'since',\n  'then.',\n  'owned',\n  'films',\n  'vhs',\n  'bought',\n  'individual',\n  'dvd',\n  'came',\n  'available',\n  'broke',\n  'bought',\n  'box',\n  'set',\n  'first',\n  'appeared',\n  'meager',\n  'extras',\n  'included.',\n  'love',\n  'movies.',\n  'said',\n  'recommend',\n  'jason',\n  'goes',\n  'hell',\n  'completist',\n  'need',\n  'entire',\n  'series',\n  'dvd.',\n  'wonder',\n  'took',\n  'decade',\n  'film',\n  'jason',\n  'x',\n  'come',\n  'new',\n  'line',\n  'nearly',\n  'killed',\n  'series',\n  'here.',\n  'fans',\n  'series',\n  'go',\n  'films',\n  'basically',\n  'one',\n  'reason',\n  '.to',\n  'see',\n  'jason',\n  'slasher',\n  'thing',\n  'forest',\n  'full',\n  'annoying',\n  'kids.',\n  'need',\n  'deep',\n  'plot',\n  'even',\n  'really',\n  'need',\n  'explanation',\n  'jason',\n  'resurrected',\n  'show',\n  'start',\n  'chopping',\n  'imaginative',\n  'ways.',\n  'new',\n  'line',\n  'decided',\n  'launch',\n  'version',\n  'friday',\n  '13th',\n  'film',\n  'jason',\n  'two',\n  'scenes',\n  'makes',\n  'sense',\n  'plot',\n  'film',\n  'direct',\n  'rip-off',\n  'flick',\n  'called',\n  'hidden',\n  'intstead',\n  'alien',\n  'body-jumping',\n  'get',\n  'evil',\n  'worm',\n  'thing.',\n  'top',\n  'gory',\n  'flick',\n  'times',\n  'also',\n  'talky',\n  'flick.',\n  'body',\n  'count',\n  'pretty',\n  'low',\n  'last',\n  '15',\n  'minutes',\n  'late',\n  'try',\n  'save',\n  'thing.',\n  'see',\n  'reveiwers',\n  'lumping',\n  'flick',\n  'friday',\n  '13th',\n  'new',\n  'beginning',\n  'understand',\n  'reasoning',\n  'say',\n  'new',\n  'beginning',\n  'least',\n  'keeps',\n  'action',\n  'moving',\n  'huge',\n  'bodycount',\n  'least',\n  'tries',\n  'capture',\n  'flavor',\n  'friday',\n  'movie',\n  'goes',\n  'hell',\n  'not.',\n  'see',\n  'popping',\n  'thing',\n  'every',\n  '5',\n  '6',\n  'years',\n  'forgettable',\n  'wo',\n  'remember',\n  'seen',\n  'long',\n  'reminded',\n  'later',\n  'date',\n  'movie',\n  'collects',\n  'much',\n  'dust',\n  'sitting',\n  'shelf'],\n ['going',\n  'watch',\n  'movie',\n  'read',\n  'reviews',\n  'mentioned',\n  'actors',\n  'claim',\n  'str8',\n  'oh',\n  'actors',\n  'play',\n  'gay',\n  'characters',\n  'always',\n  'claim',\n  'str8',\n  'west',\n  'hollywood',\n  'zillions',\n  'gay',\n  'aspiring',\n  'actors',\n  'looking',\n  'chance',\n  'film',\n  'yet',\n  'believe',\n  'str8',\n  'guys',\n  'seem',\n  'get',\n  'roles',\n  'imo',\n  'believe',\n  'str8'],\n ['seems',\n  'bootleg',\n  'edition',\n  'movies.',\n  'someone',\n  'seemed',\n  'made',\n  'new',\n  'movie',\n  'spliced',\n  'scenes',\n  'original',\n  'trilogy.',\n  'whoever',\n  'arrested',\n  'making',\n  'bad',\n  'movies',\n  'trying',\n  'sell',\n  'star',\n  'wars',\n  'name.',\n  'avoid',\n  'costs'],\n ['might',\n  'old',\n  'classic',\n  'terrible.',\n  'acting',\n  'terrible',\n  'except',\n  'cesar',\n  'romero',\n  'sets',\n  'great',\n  'either.',\n  'script',\n  'silly.',\n  'recommend',\n  'it.',\n  'old',\n  'enough',\n  'bad'],\n ['uniforms',\n  'donated',\n  'rotc',\n  'come',\n  'advice',\n  'proper',\n  'wear',\n  'military',\n  'bearing.',\n  'acting',\n  'cheesy',\n  'redeeming',\n  'story',\n  'made',\n  'tolerable.',\n  'fx',\n  'could',\n  'used',\n  'polish.',\n  'three',\n  'four',\n  'super',\n  'powers',\n  'uninspired',\n  'fourth',\n  'poorly',\n  'executed.',\n  'short',\n  'delightful',\n  'story',\n  'stretches',\n  'extremes.',\n  'good',\n  'story',\n  'bad',\n  'execution'],\n ['boo',\n  'amazon',\n  'newly',\n  'changed',\n  'amazon',\n  'rating',\n  'system',\n  'inclusion',\n  'vod',\n  'methods',\n  'product',\n  'substandard',\n  'recalled',\n  'incorporating',\n  'ratings',\n  'single',\n  'movies',\n  'watched',\n  'single',\n  'individuals',\n  'via',\n  'single',\n  'vod',\n  'purchases.',\n  'first',\n  'movies',\n  'great',\n  'second',\n  'particular',\n  'box',\n  'set',\n  'recalled',\n  'due',\n  'terrible',\n  'quality.',\n  'third',\n  'mixing',\n  'reviews',\n  'together',\n  'amazon',\n  'ensures',\n  'sales.',\n  'happy',\n  'amazon',\n  'sell',\n  'air',\n  'bags'],\n ['ok.', 'reviews', 'lot', 'better', 'actual', 'movie'],\n ['movie',\n  'absolutely',\n  'horrid',\n  'looking',\n  'something',\n  'fun',\n  'watch',\n  'family',\n  'son',\n  'married.',\n  'mentioned',\n  '19902',\n  'great',\n  'movies',\n  'totally',\n  'stunk.',\n  'ashamed',\n  'bothered',\n  'watch',\n  'it.',\n  'main',\n  'characters',\n  'ridiculous',\n  'people.',\n  'absolutely',\n  'thought',\n  'hugh',\n  'grant',\n  'wishy',\n  'washy',\n  'sleazy',\n  'shmuck',\n  'ever',\n  'andie',\n  'mcdowell',\n  'tramp.',\n  'yuck'],\n ['still', 'ca', 'figure', 'movie'],\n ['jillian',\n  'michaels',\n  'used',\n  'drive',\n  'nuts',\n  'found',\n  'brash',\n  'annoying.',\n  'however',\n  'recently',\n  'put',\n  'money',\n  'mouth',\n  'started',\n  'using',\n  'dvds',\n  'found',\n  'amazing',\n  'trainer',\n  'motivator.',\n  'tried',\n  'adding',\n  'denise',\n  'austin',\n  'cardio',\n  'workout',\n  'workout',\n  'rotation',\n  'drove',\n  'crazy.',\n  'denise',\n  'austin',\n  'motivate',\n  'breathy',\n  'voice',\n  'chatters',\n  'without',\n  'real',\n  'directions',\n  'focus',\n  'form.',\n  'found',\n  'really',\n  'need',\n  'hard',\n  'core',\n  'voice',\n  'motivation',\n  'jillian',\n  'michaels',\n  'provides',\n  'denise',\n  'austin',\n  'uninspiring'],\n ['j.j.',\n  'abrams',\n  'famous',\n  'exploiting',\n  'people',\n  'work',\n  'decided',\n  'upon',\n  'legendary',\n  'show',\n  'star',\n  'trek',\n  'needed',\n  'reboot.',\n  'first',\n  'mistake.',\n  'trying',\n  'exploit',\n  'already',\n  'made',\n  'audience',\n  'second',\n  'mistake',\n  'movie',\n  'worst',\n  'mistake.',\n  'total',\n  'desecration',\n  'timeless',\n  'television',\n  'series',\n  'spawned',\n  '10',\n  'movies',\n  'along',\n  '4',\n  'additional',\n  'series.',\n  'yet',\n  'abrams',\n  'thinks',\n  'changing',\n  'timelines',\n  'personalities',\n  'characters',\n  'total',\n  'abortion',\n  'late',\n  'producer/creator',\n  'dream',\n  'constitutes',\n  'reboot.',\n  'abrams',\n  'thinks',\n  'manipulating',\n  'destroying',\n  'characters',\n  'became',\n  'legends',\n  'overusing',\n  'special',\n  'effects',\n  'lens',\n  'flares',\n  'every',\n  'shot',\n  'producing',\n  'experience',\n  'thinks',\n  'better',\n  'original',\n  'appealing',\n  'people',\n  'never',\n  'even',\n  'experienced',\n  'classic',\n  'show',\n  'original',\n  'movies.',\n  'travesty.',\n  'soulless',\n  'attempt',\n  'recreate',\n  'something',\n  'special',\n  'experience',\n  'true',\n  'trek',\n  'fans',\n  'nothing',\n  'poor',\n  'attempt',\n  'bring',\n  'kind',\n  'ridiculous',\n  'alternative',\n  'version',\n  'true',\n  'masterpiece.',\n  'acting',\n  'accents',\n  'storyline',\n  'production',\n  'quality',\n  'top',\n  'shatner',\n  'ever',\n  'manipulation',\n  'characters',\n  'especially',\n  'spock',\n  'something',\n  'earn',\n  'abrams',\n  'jail',\n  'time',\n  'destruction',\n  'property',\n  'instead',\n  'kind',\n  'respect',\n  'mockery',\n  'previous',\n  'material.',\n  'skip',\n  'one.',\n  'someone',\n  'gives',\n  'gift',\n  'dvd',\n  'even',\n  'worth',\n  'coaster',\n  'drinks.',\n  'maybe',\n  'one',\n  'day',\n  'abrams',\n  'think',\n  'something',\n  'long',\n  'people',\n  'support',\n  'destruction',\n  'previous',\n  'art',\n  'work',\n  'minus',\n  '1000',\n  'rating',\n  'look',\n  'even',\n  'lower',\n  'score'],\n ['absolutely',\n  'theee',\n  'worst',\n  'movie',\n  \"'ve\",\n  'watched',\n  'entire',\n  'life',\n  '51',\n  'years.',\n  'like',\n  'mo-jo',\n  'want',\n  'dollar',\n  'back',\n  'rental.',\n  'amount',\n  'abstract',\n  'art',\n  'appreciation',\n  'save',\n  'one.',\n  'absolute',\n  'disagreement',\n  'film',\n  'historian.',\n  'favor',\n  'buy',\n  'clint',\n  'eastwood',\n  'series',\n  \"60's.\",\n  'val',\n  'kimer',\n  'dvd',\n  'one',\n  'great',\n  'thing',\n  'common',\n  'corpses.',\n  'dvd',\n  'needs',\n  'rapid',\n  'burial.',\n  'give',\n  'negative',\n  '5'],\n ['expect',\n  'life',\n  'changing',\n  'experiences',\n  'watching',\n  'piece',\n  'cinematic',\n  'fluff.',\n  'shout',\n  'banal',\n  'historically',\n  'innaccurate',\n  'predictable.',\n  'what.',\n  'every',\n  'movie',\n  'needs',\n  'reveal',\n  'hidden',\n  'truth',\n  'angst.',\n  'ok',\n  'two',\n  'stars',\n  'cast',\n  'good',\n  'really',\n  'waste',\n  'considering',\n  'script.',\n  'travolta',\n  'gets',\n  'top',\n  'billing',\n  'movie',\n  'really',\n  'vehicle',\n  'teen',\n  'heart-throbs',\n  'jamie',\n  'walters',\n  'heather',\n  'graham.',\n  'predictable',\n  'emotionally',\n  'mixed-up',\n  'bad',\n  'boy',\n  'wrong',\n  'side',\n  'tracks',\n  'sets',\n  'seduce',\n  'headmaster/warden',\n  'beautiful',\n  'daughter',\n  'bet.',\n  'falls',\n  'someone',\n  'spills',\n  'beans',\n  'bet',\n  'gets',\n  'mad',\n  'finally',\n  'exposes',\n  'sensitive',\n  'vulnerable',\n  'side',\n  'confesses',\n  'fallen',\n  'love',\n  'tripe',\n  'script',\n  'make',\n  'exceesive',\n  'demands',\n  'acting',\n  'abilities.',\n  'cares',\n  'heather',\n  'graham',\n  'babe',\n  'worth',\n  'watching.',\n  'ever',\n  'shooting/directing',\n  'movie',\n  'knows',\n  'craft.',\n  'photography',\n  'excellent',\n  'out.',\n  'movie',\n  'slick',\n  'deeply',\n  'saturated',\n  'color',\n  'look',\n  'lot',\n  'nice',\n  'atmospheric',\n  'shots',\n  'simply',\n  'perfect',\n  'lighting.',\n  'add',\n  'attractive',\n  'cast',\n  'eye',\n  'candy',\n  'easy',\n  'enjoy.',\n  'reaction',\n  'shout',\n  'reminds',\n  'listening',\n  'abba',\n  'songs.',\n  'easy',\n  'pan',\n  'forget',\n  'yet',\n  'guilty',\n  'pleasure',\n  'enjoy'],\n ['silly', 'boring'],\n ['slow',\n  'boring',\n  'tries',\n  'movie',\n  'documentary',\n  'docudrama',\n  'looks',\n  'like',\n  'shot',\n  '8',\n  'mm',\n  'camera',\n  'boring'],\n ['never', 'bought', 'watched'],\n ['looking',\n  'hindsight',\n  'miracle',\n  'show',\n  'cancelled',\n  'atrociously',\n  'bad',\n  'first',\n  'season.',\n  'show',\n  'led',\n  'annoying',\n  'soap',\n  'opera',\n  'diva',\n  'star',\n  'half',\n  'talented',\n  'believes',\n  'show',\n  'full',\n  'negative',\n  'energy',\n  'bad',\n  'influences',\n  'plot',\n  'holes',\n  'larger',\n  'evertyhting',\n  \"'ve\",\n  'ever',\n  'imagined',\n  'instance',\n  'buffy',\n  'used',\n  'rocket',\n  'launcher',\n  'inside',\n  'mall',\n  'even',\n  'big',\n  'news',\n  'perfectly',\n  'normal',\n  'young',\n  'brilliant',\n  'character',\n  'willow',\n  'writers',\n  'turned',\n  'gay',\n  'sake',\n  'nothing',\n  'nothing',\n  'gays',\n  'simply',\n  'necessary',\n  'reason',\n  'became',\n  'gay',\n  'lost',\n  'love',\n  'guy',\n  'could',\n  'even',\n  'bother',\n  'speak',\n  'werewolf',\n  'seth',\n  'green',\n  'plot',\n  'holes',\n  'real',\n  'annoying',\n  'thing.',\n  'suspension',\n  'desbelief',\n  'wo',\n  'make',\n  'forget',\n  'essence',\n  'show',\n  'seem',\n  'joss',\n  'whedon',\n  'made',\n  'fun',\n  'fans',\n  'since',\n  'beginning.',\n  'repeat',\n  'could',\n  'sunnydale',\n  'high',\n  'reamins',\n  'open',\n  'people',\n  'killed',\n  'dozens',\n  'inside',\n  'amount',\n  'police',\n  'mayor',\n  'influence',\n  'could',\n  'keep',\n  'secret.',\n  'teachers',\n  'students',\n  'coaches',\n  'cleaning',\n  'guys',\n  'lot',\n  'people',\n  'died',\n  'inside',\n  'school',\n  'violent',\n  'mammer',\n  'one',\n  'episode',\n  'guy',\n  'kills',\n  'school',\n  'budy',\n  'influence',\n  'demon',\n  'inside',\n  'internet',\n  'way',\n  'look',\n  'like',\n  'suicide',\n  'evil',\n  'evil',\n  'evil',\n  'come',\n  'next',\n  'day',\n  'one',\n  'cares',\n  'nothing.',\n  'parents',\n  'argue',\n  'authorities',\n  'happening',\n  'go',\n  'fish',\n  'four',\n  'students',\n  'become',\n  'monstruous',\n  'fihes',\n  'disappears',\n  'forever',\n  'wehen',\n  'go',\n  'happily',\n  'swimming',\n  'ocean',\n  'happened',\n  'partens',\n  'loved',\n  'ones',\n  'ones',\n  'cared',\n  'also',\n  'guy',\n  'called',\n  'xander',\n  'capable',\n  'leaving',\n  'future',\n  'wife',\n  'altar',\n  'beacue',\n  'doubts',\n  'also',\n  'sadistic',\n  'writers',\n  'capable',\n  'making',\n  'aforementioned',\n  'main',\n  'character',\n  'xander',\n  'loses',\n  'one',\n  'eye',\n  'sake',\n  'absolutely',\n  'nothing',\n  'final',\n  'season.',\n  'cordelia',\n  'chase',\n  'even',\n  'saved',\n  'dozens',\n  'times',\n  'heroe',\n  'show',\n  'still',\n  'treats',\n  'contempt',\n  'freak.',\n  'way',\n  'look',\n  'buffy',\n  'dresses',\n  'high',\n  'school.',\n  'lives',\n  'divorced',\n  'mother',\n  'show',\n  'makes',\n  'clear',\n  'father',\n  'absent',\n  'dresses',\n  'like',\n  'queen',\n  'everyday',\n  'clothes',\n  'expensive',\n  'other.',\n  'silly',\n  'vain',\n  'even',\n  'cordelia',\n  'dress',\n  'way',\n  'also',\n  'parents',\n  'seems',\n  'every',\n  'adult',\n  'show',\n  'bad',\n  'useless',\n  'mean.',\n  'watcher',\n  'counsil.',\n  'school',\n  'principal',\n  'whatever.',\n  'show',\n  'stupid',\n  'mean',\n  'ultra',\n  'violent',\n  'show',\n  'bad',\n  'intentions.',\n  'believe',\n  'whedon',\n  'woked',\n  'toy',\n  'story',\n  'created',\n  'horrible',\n  'show'],\n ['big',\n  'star',\n  'trek',\n  'fan',\n  'watched',\n  'series',\n  'movies',\n  'read',\n  'also',\n  'lot',\n  'books.',\n  'ent',\n  'clearly',\n  'worst',\n  'star',\n  'trek',\n  'series',\n  'however',\n  'good',\n  'episodes',\n  'first',\n  'two',\n  'seasons.',\n  'first',\n  'season',\n  'ent',\n  'star',\n  'trek',\n  'title',\n  'season',\n  'betrayal',\n  'star',\n  'trek.',\n  'capt.',\n  'archer',\n  'tortures',\n  'prisoner',\n  'steal',\n  'warpcore',\n  'friendly',\n  'aliens',\n  'pre-emptive',\n  'strike',\n  'aliens.',\n  'star',\n  'trek',\n  'therefore',\n  'spend',\n  'money',\n  'time',\n  'tos',\n  'tng',\n  'ds9',\n  'voy',\n  'rubbish'],\n ['disappointment', 'could', 'finish', 'sorry'],\n ['wife',\n  'wanted',\n  'rent',\n  'movie',\n  'review',\n  'written',\n  'behalf.',\n  'according',\n  'time',\n  'ever',\n  'laughed',\n  'chuckled',\n  'thru',\n  'whole',\n  'film',\n  'wanda',\n  'sykes',\n  'ruby',\n  'screen.',\n  'everything',\n  'else',\n  'drag',\n  'wanda',\n  'sykes',\n  'five',\n  '5',\n  'rest',\n  'film',\n  'flat',\n  'flat',\n  'flat',\n  'wife',\n  'kept',\n  'yelling',\n  'screen',\n  'humor',\n  'comedy'],\n ['american',\n  'president',\n  'script',\n  'idea',\n  'floating',\n  'around',\n  'hollywood',\n  'since',\n  'late',\n  \"1970's.\",\n  'originally',\n  'entitled',\n  'president',\n  'elopes',\n  'first',\n  'conceived',\n  'flat',\n  'farce',\n  'melodrama',\n  'falling',\n  'capable',\n  'hands',\n  'director',\n  'rob',\n  'reiner',\n  'early',\n  \"1990's.\",\n  'retitled',\n  'rewritten',\n  'resulting',\n  'film',\n  'would',\n  'happen',\n  'widowed',\n  'president',\n  'decided',\n  'date',\n  'political',\n  'activist',\n  'film',\n  'emerged',\n  'touching',\n  'sentimental',\n  'witty',\n  'romantic',\n  'comedy',\n  'warmed',\n  'heart',\n  'endeared',\n  'mind.',\n  'president',\n  'andrew',\n  'sheppard',\n  'michael',\n  'douglas',\n  'simply',\n  'amazing.',\n  'annette',\n  'benning',\n  'sensation',\n  'girlfriend',\n  'sidney',\n  'ellen-wade.',\n  'nice',\n  'cameos',\n  'martin',\n  'sheen',\n  'david',\n  'paymer',\n  'michael',\n  'j.',\n  'fox',\n  'round',\n  'stellar',\n  'cast.',\n  'unfortunately',\n  'nothing',\n  'stellar',\n  'dvd',\n  'transfer',\n  'warner',\n  'brothers.',\n  'anamorphic',\n  'riddled',\n  'kind',\n  'excessive',\n  'digital',\n  'grain',\n  'anomolies',\n  'one',\n  'ca',\n  'fathom',\n  'major',\n  'player',\n  'like',\n  'warner',\n  'home',\n  'video.',\n  'aliasing',\n  'shimmering',\n  'fine',\n  'details',\n  'excessive',\n  'edge',\n  'enhancement',\n  'extreme',\n  'digital',\n  'tiling',\n  'create',\n  'visual',\n  'image',\n  'gritty',\n  'harsh',\n  'overpowering',\n  'eyes.',\n  'colors',\n  'well',\n  'balanced',\n  'times',\n  'quite',\n  'smeared.',\n  'soundtrack',\n  'remastered',\n  '5.1',\n  'surround',\n  'one',\n  'wonders',\n  'extra',\n  'effort',\n  'taken',\n  'considering',\n  'badly',\n  'rest',\n  'film',\n  'looks.',\n  'extras',\n  'bottom',\n  'line',\n  'waste',\n  'time',\n  'money.',\n  'good',\n  'news',\n  'since',\n  'release',\n  'warner',\n  'video',\n  'done',\n  'complete',\n  '180',\n  'degree',\n  'turn',\n  'might',\n  'see',\n  'remastering',\n  'effort',\n  'title',\n  'near',\n  'future.',\n  'hoping'],\n ['movie',\n  'vhs',\n  'full-screen',\n  'mode.',\n  'bought',\n  'dvd',\n  'order',\n  'get',\n  'widescreen',\n  'version',\n  'movie.',\n  'received',\n  'dvd',\n  'discovered',\n  'contained',\n  'full',\n  'screen',\n  'version',\n  'movie.',\n  'information',\n  'printed',\n  'back',\n  'side',\n  'case',\n  'though',\n  'indicated',\n  'disk',\n  'contained',\n  'full',\n  'screen',\n  'version',\n  'widescreen',\n  'version.',\n  'reality',\n  'full-screen',\n  'version',\n  'dvd.',\n  'bought',\n  'dvd',\n  'amazon',\n  '3rd',\n  'party',\n  'vendor',\n  'outlet',\n  'promotions.',\n  'returned',\n  'dvd',\n  'outlet',\n  'promotions',\n  'charged',\n  'return',\n  'shipping',\n  'fee',\n  'refund',\n  'deduction',\n  'restocking',\n  'fee',\n  'refund',\n  'deduction',\n  'ended',\n  'giving',\n  'refund',\n  '38',\n  'cents',\n  'irate',\n  'called',\n  'amazon',\n  'complain',\n  'getting',\n  'full',\n  'refund',\n  'since',\n  'product',\n  'advertised',\n  'product',\n  'details.',\n  'amazon',\n  'got',\n  'outlet',\n  'promotions',\n  'issue',\n  'full',\n  'refund'],\n ['imagine',\n  'books',\n  'actually',\n  'descriptive',\n  'movie',\n  'found',\n  'somewhat',\n  'confusing',\n  'times.',\n  'premise',\n  'lasts',\n  'mere',\n  'moments',\n  'film',\n  'sounded',\n  'interesting',\n  'sure',\n  'better',\n  'clearly',\n  'explained',\n  'book.',\n  'talk',\n  'dust',\n  'daemons',\n  'witches',\n  'prophecies',\n  'much',\n  'fit',\n  'span',\n  '2',\n  'hours.',\n  'acting',\n  'quite',\n  'good',\n  'though',\n  'daniel',\n  'craig',\n  'barely',\n  'film.',\n  'special',\n  'effects',\n  'truly',\n  'wonderful',\n  'first',\n  'rate',\n  'really',\n  'thing',\n  'keeps',\n  'interest.',\n  'plot',\n  'place',\n  'jumbled.',\n  'certainly',\n  'helped',\n  'awful',\n  'editing.',\n  'jumps',\n  'way',\n  'quickly',\n  'scene',\n  'scene',\n  'never',\n  'really',\n  'know',\n  'much',\n  'time',\n  'passed.',\n  'probably',\n  'biggest',\n  'flaw',\n  'film',\n  'next',\n  'script.',\n  'furthermore',\n  'ending',\n  'pretty',\n  'much',\n  'leaves',\n  'middle',\n  'nowhere',\n  'desperately',\n  'need',\n  'sequel.',\n  'heard',\n  'since',\n  'movie',\n  'turned',\n  'profitable',\n  'word',\n  'second',\n  'movie',\n  'heard',\n  'unfortuate.',\n  'perhaps',\n  'trilogy',\n  'meant',\n  'turn',\n  'perfectly',\n  'watchable',\n  'possibly',\n  'enjoable',\n  'film.',\n  'stands',\n  'right',\n  'unimpressive',\n  'pointless'],\n ['suppose',\n  'sequel',\n  'cult',\n  'hits',\n  'demons',\n  '1',\n  'demons',\n  '2',\n  'would',\n  'consider',\n  'sequel',\n  'demons',\n  '1',\n  '2',\n  'great',\n  'movies',\n  'opinion',\n  'worth',\n  'checking',\n  'black',\n  'demons',\n  'truly',\n  'horrible',\n  'slow',\n  'paced',\n  'movie',\n  'hardly',\n  'action',\n  'victims.',\n  'takes',\n  'forever',\n  'anything',\n  'happen',\n  'film.',\n  'looking',\n  'cover',\n  'thought',\n  'least',\n  'would',\n  'high',\n  'body',\n  'count',\n  'creative',\n  'kills',\n  'anything',\n  'matter',\n  \"wasn't.\",\n  'must',\n  'avoid',\n  'movie',\n  'unless',\n  'lookin',\n  'somethin',\n  'kill',\n  'time',\n  'suppose',\n  'disappointed'],\n ['usually', 'love', 'british', 'humor', 'could', 'get'],\n ['okay'],\n ['movie',\n  'made.',\n  'writers',\n  'paid',\n  'crews',\n  'hired',\n  'actors',\n  'hired.',\n  'good',\n  'actors.',\n  'good',\n  'actors',\n  'must',\n  \"'ve\",\n  'gotten',\n  'caught',\n  'studio',\n  'contract',\n  'long',\n  'time',\n  'ago',\n  'could',\n  'say',\n  'no.',\n  'yeah',\n  'happened.',\n  'one',\n  'worst',\n  'movies',\n  \"'ve\",\n  'ever',\n  'see.',\n  'place.',\n  'nothing',\n  'tracks',\n  'makes',\n  'sense',\n  'studio',\n  'produced',\n  'story.',\n  'complete',\n  'waste',\n  'time',\n  'including',\n  'everyone',\n  'worked',\n  'probably',\n  'got',\n  'paid'],\n ['rented',\n  'video',\n  'great',\n  'anticipation',\n  'even',\n  'beautiful',\n  'charlise',\n  'theron',\n  'could',\n  'save',\n  'movie.',\n  'kristen',\n  'stewart',\n  'one-dimentional',\n  'actor',\n  'spent',\n  'movie',\n  'mouth',\n  'hanging',\n  'open',\n  'like',\n  'twilight',\n  'saga',\n  'movies',\n  'next',\n  'emotion',\n  'registering',\n  'face.',\n  'really',\n  'wanted',\n  'like',\n  'movie',\n  'really',\n  'wanted',\n  'see',\n  'kristen',\n  'stewart',\n  'different',\n  'arena',\n  'vampires',\n  'werewolves',\n  'deliver'],\n ['warning',\n  'plot',\n  'points',\n  'revealed',\n  'review',\n  'see',\n  'picture',\n  'without',\n  'prior',\n  'knowledge',\n  'alan',\n  'turing',\n  'life',\n  'probability',\n  'might',\n  'like',\n  'otherwise',\n  'ca',\n  'explain',\n  'high',\n  'ratings',\n  'raving',\n  'reviews',\n  'anyone',\n  'familiar',\n  'life',\n  'remarkable',\n  'individual',\n  'rightly',\n  'see',\n  'movie',\n  'travesty.',\n  'first',\n  'let',\n  'put',\n  'forward',\n  'good',\n  'things',\n  'say',\n  'movie',\n  'fine',\n  'production',\n  'values',\n  'fine',\n  'acting',\n  'especially',\n  'benedict',\n  'cumberbatch',\n  'turing',\n  'good',\n  'flashy',\n  'direction',\n  'norway',\n  'morten',\n  'tildum',\n  'struggle',\n  'worthless',\n  'screenplay.',\n  'worst',\n  'screenplay',\n  'ever',\n  'seen',\n  'put',\n  'movie.',\n  'worthy',\n  'written',\n  'pretentious',\n  'high',\n  'school',\n  'student',\n  'mixture',\n  'ludicrous',\n  'melodramatics',\n  'historical',\n  'illiteracy.',\n  'movie',\n  'give',\n  'us',\n  'rough',\n  'true',\n  'outline',\n  'turing',\n  'life',\n  'brilliant',\n  'mathematician',\n  'computer',\n  'pioneer',\n  'nerdy',\n  'personality',\n  'helped',\n  'break',\n  'germany',\n  'enigma',\n  'machine',\n  'codes',\n  'war',\n  'proved',\n  'important',\n  'battle',\n  'atlantic',\n  'facing',\n  'english',\n  'ships',\n  'german',\n  'submarines',\n  'career',\n  'crashes',\n  'dramatically',\n  '1952',\n  'burglary',\n  'house',\n  'police',\n  'finds',\n  'homosexual',\n  'criminal',\n  'offense',\n  'britain',\n  '1967',\n  'forced',\n  'judge',\n  'take',\n  'hormone',\n  'therapy',\n  'order',\n  'avoid',\n  'prison',\n  'alongside',\n  'true',\n  'outline',\n  'lot',\n  'falsities',\n  'added.',\n  'mention',\n  'falsehoods',\n  'without',\n  'exhaustive',\n  '1',\n  'movie',\n  'never',\n  'tells',\n  'poles',\n  'war',\n  'first',\n  'constructed',\n  'machine',\n  'able',\n  'break',\n  'enigma.',\n  'turing',\n  'team',\n  'build',\n  'upgraded',\n  'machine',\n  'able',\n  'crack',\n  'upgraded',\n  'enigma',\n  '2',\n  'turing',\n  'military',\n  'superiors',\n  'personified',\n  'commander',\n  'denniston',\n  'charles',\n  'dance',\n  'hate',\n  'turing',\n  'much',\n  'threaten',\n  'fire',\n  'charge',\n  'spy',\n  'destroy',\n  'code',\n  'breaking',\n  'machine.',\n  'turing',\n  'avoid',\n  'threats',\n  'appealing',\n  'directly',\n  'churchill.',\n  'reality',\n  'turing',\n  'appeal',\n  'churchill',\n  'successfully',\n  'higher',\n  'budget',\n  'outfit',\n  'relationship',\n  'immediate',\n  'superiors',\n  'nowhere',\n  'near',\n  'bad',\n  'movie',\n  'shows',\n  '3',\n  'turing',\n  'arrested',\n  'war',\n  'homosexuality',\n  'never',\n  'suspicion',\n  'authorities',\n  'might',\n  'soviet',\n  'spy.',\n  'phoniest',\n  'scene',\n  'movie',\n  'turing',\n  'coworkers',\n  'decide',\n  'tell',\n  'superiors',\n  'finally',\n  'cracked',\n  'enigma',\n  'since',\n  'afraid',\n  'germany',\n  'realizes',\n  'code',\n  'broken',\n  'switch',\n  'harder',\n  'code.',\n  'made',\n  'despite',\n  'tearful',\n  'pleadings',\n  'one',\n  'code',\n  'breakers',\n  'whose',\n  'brother',\n  'happens',\n  'ship',\n  'taken',\n  'german',\n  'submarines.',\n  'decisions',\n  'like',\n  'actually',\n  'made',\n  'war',\n  'taken',\n  'highest',\n  'military',\n  'political',\n  'level',\n  'cryptoanalysts.',\n  'ridiculous',\n  'scene',\n  'movie',\n  'turing',\n  'realizes',\n  'one',\n  'fellow',\n  'code',\n  'breakers',\n  'named',\n  'john',\n  'cairncross',\n  'played',\n  'allen',\n  'leech',\n  'soviet',\n  'spy.',\n  'discovers',\n  'see',\n  'bible',\n  'passage',\n  'marked',\n  'used',\n  'message',\n  'mole.',\n  'cairncross',\n  'tells',\n  'turing',\n  'blows',\n  'cover',\n  'tell',\n  'turing',\n  'superiors',\n  'homosexual',\n  'turing',\n  'gives',\n  'blackmail.',\n  'actually',\n  'soviet',\n  'mole',\n  'named',\n  'john',\n  'cairncross',\n  'bletchley',\n  'park',\n  'britain',\n  'wartime',\n  'code',\n  'breaking',\n  'facility',\n  'never',\n  'worked',\n  'alongside',\n  'turing',\n  'might',\n  'never',\n  'met',\n  'him.',\n  'turing',\n  'remarkable',\n  'figure',\n  'scientific',\n  'genius',\n  'privately',\n  'tormented',\n  'person',\n  'also',\n  'extremely',\n  'valuable',\n  'work',\n  'world',\n  'war',\n  'ii.',\n  'sad',\n  'story',\n  'finally',\n  'brought',\n  'screen',\n  'many',\n  'decades',\n  'terrible',\n  'movie.',\n  'real',\n  'story',\n  'turing',\n  'decipherment',\n  'enigma',\n  'machine',\n  'found',\n  'many',\n  'places',\n  'either',\n  'books',\n  'tv',\n  'documentaries',\n  'internet.',\n  'suggest',\n  'fine',\n  'book',\n  'simon',\n  'singh',\n  'called',\n  'code',\n  'book',\n  'also',\n  'keira',\n  'knightley',\n  'plays',\n  'codebreaker',\n  'time',\n  'engaged',\n  'turing',\n  'part',\n  'actually',\n  'true'],\n ['house',\n  'mirth',\n  'one',\n  'depressing',\n  'movies',\n  \"'ve\",\n  'ever',\n  'seen.',\n  'clear',\n  \"'ve\",\n  'seen',\n  'movies',\n  'like',\n  'oh',\n  'say',\n  'schindler',\n  'list',\n  'heart',\n  'lonely',\n  'hunter',\n  'treat',\n  'tragic',\n  'events',\n  'either',\n  'macrocosm',\n  'microcosm',\n  'leave',\n  'depressed.',\n  'rather',\n  'powerful',\n  'works',\n  'art',\n  'moved',\n  'made',\n  'think.',\n  'house',\n  'mirth',\n  'deals',\n  'tragic',\n  'themes',\n  'including',\n  'human',\n  'society',\n  'ability',\n  'destroy',\n  'power',\n  'hypocrisy',\n  'hypocrites.',\n  'though',\n  'moving',\n  'thought',\n  'provoking.',\n  'moved',\n  'gillian',\n  'anderson',\n  'portrayal',\n  'betrayed',\n  'woman',\n  'lives',\n  'sense',\n  'honor.',\n  'believe',\n  'gillain',\n  'anderson',\n  'portrayal',\n  'betrayed',\n  'woman',\n  'lives',\n  'sense',\n  'honor.',\n  'rather',\n  'bored.',\n  'kept',\n  'wanting',\n  'film',\n  'go',\n  'faster.',\n  'great',\n  'irony',\n  'edith',\n  'wharton',\n  'novels',\n  'real',\n  'page',\n  'turners.',\n  'quick',\n  'point.',\n  'hollywood',\n  'yet',\n  'adapt',\n  'one',\n  'books',\n  'way',\n  'honors',\n  'quality.',\n  'house',\n  'mirth',\n  'gorgeous',\n  'clothing',\n  'sets.',\n  'care',\n  'anybody',\n  'onscreen',\n  'though.',\n  'believe',\n  'anybody',\n  'onscreen.',\n  'felt',\n  'movie',\n  'misanthropic',\n  'agenda',\n  'moved',\n  'players',\n  'around',\n  'chess',\n  'pieces',\n  'prove',\n  'points',\n  'people',\n  'hypocrites',\n  'see',\n  'people',\n  'insincere',\n  'see',\n  'person',\n  'decency',\n  'person',\n  'destroyed',\n  'see',\n  'would',\n  'tend',\n  'agree',\n  'points.',\n  'need',\n  'watch',\n  'movie',\n  'also',\n  'woman',\n  'lily',\n  'bart',\n  'meant',\n  'lived',\n  'life',\n  'code',\n  'honor',\n  'paid',\n  'price',\n  'felt',\n  'movie',\n  'less',\n  'polite',\n  'society',\n  'depicts',\n  'brutally',\n  'betrayed',\n  'lily',\n  'bart.',\n  'lily',\n  'bart',\n  'step',\n  'passive',\n  'masochist',\n  'film.',\n  'participates',\n  'destruction.',\n  'want',\n  'show',\n  'initiative',\n  'intelligence',\n  'ability',\n  'create',\n  'fate.',\n  'film',\n  'denies',\n  'abilities.',\n  'crippling',\n  'lily',\n  'bart',\n  'film',\n  'seems',\n  'hate',\n  'much',\n  'polite',\n  'society',\n  'does.',\n  'movies',\n  'like',\n  'gone',\n  'wind',\n  'depict',\n  'spunky',\n  'heroines',\n  'occasionally',\n  'winning',\n  'occasionally',\n  'gaining',\n  'power',\n  'imo',\n  'much',\n  'easier',\n  'watch.',\n  'one',\n  'might',\n  'argue',\n  'films',\n  'realisitic.',\n  'know.',\n  'even',\n  'real-life',\n  'lily',\n  'barts',\n  'resources',\n  'triumphs.',\n  'watching',\n  'lily',\n  'bart',\n  'house',\n  'mirth',\n  'slowly',\n  'eroded',\n  'onscreen',\n  'feminist',\n  'experience',\n  'me.',\n  'art',\n  'house',\n  'snuff',\n  'film',\n  'utterly',\n  'disempowered',\n  'female',\n  'heroine'],\n ['know',\n  'red',\n  'book',\n  'this.',\n  'coming',\n  'reading',\n  'book',\n  'goofy.',\n  'guy',\n  'saw',\n  'first',\n  'movie',\n  'snooze',\n  'fest.',\n  'books',\n  'probably',\n  'better.',\n  'chicks',\n  'dig',\n  'it.',\n  'wan',\n  'na',\n  'make',\n  'girl',\n  'wife',\n  'happy',\n  'sit',\n  'it.',\n  'mean',\n  'mildly',\n  'entertaining',\n  'saw',\n  'first',\n  'one',\n  'know',\n  'whats',\n  'going',\n  'one'],\n ['nothing',\n  'slasher',\n  'film.',\n  'greatly',\n  'disappointed.',\n  'plot',\n  'ridiculous',\n  'major',\n  'gaps',\n  'logic.',\n  'surprised',\n  'denzel',\n  'washington',\n  'part',\n  'something',\n  'poor'],\n ['much', 'watched', 'saw', 'movies.', 'disturbing'],\n ['girlfriend',\n  'seen',\n  'theater',\n  'n',\n  'like',\n  'found',\n  'really',\n  'stupid',\n  'movie'],\n ['care', 'much', 'one']]"
     },
     "metadata": {}
    }
   ]
  },
  {
   "cell_type": "code",
   "metadata": {
    "cell_id": "050fb6b9fd444797987576199b9dd4a0",
    "tags": [],
    "deepnote_to_be_reexecuted": true,
    "source_hash": "60cbf7e5",
    "execution_start": 1652949994233,
    "execution_millis": 3,
    "deepnote_cell_type": "code",
    "deepnote_cell_height": 620.1666870117188
   },
   "source": "# Tokenizing dataframes (and saving as csv locally due to RAM limits in Deepnote)\n\n\n# clothing_tok = tokamok(df_clothing_equal)\n# electronics_tok = tokamok(df_electronics_equal)\n# home_tok = tokamok(df_home_equal)\n# movies_tok = tokamok(df_movies_equal)\n# video_tok = tokamok(df_video_equal)\n\n#import csv\n\n\n#with open(\"clothing_tok.csv\", \"w\") as f:\n#    wr = csv.writer(f)\n#    wr.writerows(clothing_tok)\n    \n#with open(\"electronics_tok.csv\", \"w\") as f:\n#    wr = csv.writer(f)\n#    wr.writerows(electronics_tok)\n    \n#with open(\"home_tok.csv\", \"w\") as f:\n#    wr = csv.writer(f)\n#    wr.writerows(home_tok)\n    \n#with open(\"movies_tok.csv\", \"w\") as f:\n#    wr = csv.writer(f)\n#    wr.writerows(movies_tok)\n    \n#with open(\"video_tok.csv\", \"w\") as f:\n#    wr = csv.writer(f)\n#    wr.writerows(video_tok)",
   "execution_count": null,
   "outputs": []
  },
  {
   "cell_type": "code",
   "metadata": {
    "cell_id": "c9aed265932b47139ca1ac60bf1fc721",
    "tags": [],
    "deepnote_to_be_reexecuted": false,
    "source_hash": "f0768bca",
    "execution_start": 1653562326200,
    "execution_millis": 11267,
    "deepnote_cell_type": "code",
    "deepnote_cell_height": 674.1666870117188
   },
   "source": "#Read tokenized data from csv\nimport csv\ndef read_x(filename):\n    with open(filename, \"r\") as f:\n        csv_reader = csv.reader(f)\n        tok_list = list(csv_reader)\n    final = []\n    for i in range(len(tok_list)):\n        if i % 2:\n            continue\n        else:\n            final.append(tok_list[i])\n    return final\n\n\nclothing_X = read_x('/work/data/clothing_tok.csv')\nelectronics_X = read_x('/work/data/electronics_tok.csv')\nhome_X = read_x('/work/data/home_tok.csv')\nmovies_X = read_x('/work/data/movies_tok.csv')\nvideo_X = read_x('/work/data/video_tok.csv')\n\ndef read_y(filename):\n    with open(filename) as f:\n        csv_reader = csv.reader(f)\n        lst = list(csv_reader)\n    final = [i[0] for i in lst]\n    return final\n\n\nclothing_y = read_y('/work/data/clothing_y.csv')\nelectronics_y = read_y('/work/data/electronics_y.csv')\nhome_y = read_y('/work/data/home_y.csv')\nmovies_y = read_y('/work/data/movies_y.csv')\nvideo_y = read_y('/work/data/video_y.csv')",
   "execution_count": null,
   "outputs": []
  },
  {
   "cell_type": "markdown",
   "source": "## Similarity metrics",
   "metadata": {
    "cell_id": "0f1855cb38b5466584d51a13b344c255",
    "tags": [],
    "is_collapsed": false,
    "deepnote_cell_type": "text-cell-h2"
   }
  },
  {
   "cell_type": "code",
   "metadata": {
    "cell_id": "b7707b0f2981430388973f966f48855d",
    "tags": [],
    "deepnote_to_be_reexecuted": false,
    "source_hash": "59692609",
    "execution_start": 1653462752649,
    "execution_millis": 1,
    "deepnote_cell_type": "code",
    "deepnote_cell_height": 584.1666870117188
   },
   "source": "\nfrom collections import Counter\nimport pandas as pd\nimport numpy as np\n\n# Function for creating a dataframe for calculating similarity measures\ndef joinedFreqDF(X1,X2):\n    X1_unnest = []\n    X2_unnest = []\n    for lst in X1:\n        for i in lst:\n            X1_unnest.append(i)\n    for lst in X2:\n        for i in lst:\n            X2_unnest.append(i) \n    \n    X1cnt = Counter(X1_unnest)\n    X2cnt = Counter(X2_unnest)\n    \n    X1_freq = {k: v / len(X1_unnest) for k,v in X1cnt.items()}\n    X2_freq = {k: v / len(X2_unnest) for k,v in X2cnt.items()}\n\n    X1_freq_df = pd.DataFrame.from_dict(X1_freq, orient='index',columns=['prob_X1'])\n    X2_freq_df = pd.DataFrame.from_dict(X2_freq, orient='index',columns=['prob_X2'])\n\n    joined_df = X1_freq_df.join(X2_freq_df, how='outer')\n    joined_df = joined_df.fillna(0)\n    return joined_df\n           ",
   "execution_count": null,
   "outputs": []
  },
  {
   "cell_type": "code",
   "metadata": {
    "cell_id": "6386e069a9184f88a3cb46e99639004c",
    "tags": [],
    "deepnote_to_be_reexecuted": false,
    "source_hash": "bd225b26",
    "execution_start": 1653462757889,
    "execution_millis": 13917,
    "deepnote_table_state": {
     "pageSize": 10,
     "pageIndex": 22,
     "filters": [],
     "sortBy": []
    },
    "deepnote_table_loading": false,
    "deepnote_cell_type": "code",
    "deepnote_cell_height": 152.1666717529297
   },
   "source": "\nmovies_clothing_prob_df = joinedFreqDF(movies_X,clothing_X)\nmovies_electronics_prob_df = joinedFreqDF(movies_X,electronics_X)\nmovies_home_prob_df = joinedFreqDF(movies_X,home_X)\nmovies_video_prob_df = joinedFreqDF(movies_X,video_X)",
   "execution_count": null,
   "outputs": []
  },
  {
   "cell_type": "code",
   "metadata": {
    "cell_id": "37119ef4579448048f1958e066aea297",
    "tags": [],
    "deepnote_to_be_reexecuted": false,
    "source_hash": "f20760d",
    "execution_start": 1653428242520,
    "execution_millis": 40,
    "deepnote_cell_type": "code",
    "deepnote_cell_height": 142.9499969482422
   },
   "source": "movies_clothing_prob_df.loc['prob_X2']",
   "execution_count": null,
   "outputs": [
    {
     "output_type": "error",
     "ename": "KeyError",
     "evalue": "'prob_X2'",
     "traceback": [
      "\u001b[0;31m---------------------------------------------------------------------------\u001b[0m",
      "\u001b[0;31mKeyError\u001b[0m                                  Traceback (most recent call last)",
      "\u001b[0;32m/shared-libs/python3.9/py/lib/python3.9/site-packages/pandas/core/indexes/base.py\u001b[0m in \u001b[0;36mget_loc\u001b[0;34m(self, key, method, tolerance)\u001b[0m\n\u001b[1;32m   3080\u001b[0m             \u001b[0;32mtry\u001b[0m\u001b[0;34m:\u001b[0m\u001b[0;34m\u001b[0m\u001b[0;34m\u001b[0m\u001b[0m\n\u001b[0;32m-> 3081\u001b[0;31m                 \u001b[0;32mreturn\u001b[0m \u001b[0mself\u001b[0m\u001b[0;34m.\u001b[0m\u001b[0m_engine\u001b[0m\u001b[0;34m.\u001b[0m\u001b[0mget_loc\u001b[0m\u001b[0;34m(\u001b[0m\u001b[0mcasted_key\u001b[0m\u001b[0;34m)\u001b[0m\u001b[0;34m\u001b[0m\u001b[0;34m\u001b[0m\u001b[0m\n\u001b[0m\u001b[1;32m   3082\u001b[0m             \u001b[0;32mexcept\u001b[0m \u001b[0mKeyError\u001b[0m \u001b[0;32mas\u001b[0m \u001b[0merr\u001b[0m\u001b[0;34m:\u001b[0m\u001b[0;34m\u001b[0m\u001b[0;34m\u001b[0m\u001b[0m\n",
      "\u001b[0;32mpandas/_libs/index.pyx\u001b[0m in \u001b[0;36mpandas._libs.index.IndexEngine.get_loc\u001b[0;34m()\u001b[0m\n",
      "\u001b[0;32mpandas/_libs/index.pyx\u001b[0m in \u001b[0;36mpandas._libs.index.IndexEngine.get_loc\u001b[0;34m()\u001b[0m\n",
      "\u001b[0;32mpandas/_libs/hashtable_class_helper.pxi\u001b[0m in \u001b[0;36mpandas._libs.hashtable.PyObjectHashTable.get_item\u001b[0;34m()\u001b[0m\n",
      "\u001b[0;32mpandas/_libs/hashtable_class_helper.pxi\u001b[0m in \u001b[0;36mpandas._libs.hashtable.PyObjectHashTable.get_item\u001b[0;34m()\u001b[0m\n",
      "\u001b[0;31mKeyError\u001b[0m: 'prob_X2'",
      "\nThe above exception was the direct cause of the following exception:\n",
      "\u001b[0;31mKeyError\u001b[0m                                  Traceback (most recent call last)",
      "\u001b[0;32m<ipython-input-12-d10a534ca684>\u001b[0m in \u001b[0;36m<cell line: 1>\u001b[0;34m()\u001b[0m\n\u001b[0;32m----> 1\u001b[0;31m \u001b[0mmovies_clothing_prob_df\u001b[0m\u001b[0;34m.\u001b[0m\u001b[0mloc\u001b[0m\u001b[0;34m[\u001b[0m\u001b[0;34m'prob_X2'\u001b[0m\u001b[0;34m]\u001b[0m\u001b[0;34m\u001b[0m\u001b[0;34m\u001b[0m\u001b[0m\n\u001b[0m",
      "\u001b[0;32m/shared-libs/python3.9/py/lib/python3.9/site-packages/pandas/core/indexing.py\u001b[0m in \u001b[0;36m__getitem__\u001b[0;34m(self, key)\u001b[0m\n\u001b[1;32m    893\u001b[0m \u001b[0;34m\u001b[0m\u001b[0m\n\u001b[1;32m    894\u001b[0m             \u001b[0mmaybe_callable\u001b[0m \u001b[0;34m=\u001b[0m \u001b[0mcom\u001b[0m\u001b[0;34m.\u001b[0m\u001b[0mapply_if_callable\u001b[0m\u001b[0;34m(\u001b[0m\u001b[0mkey\u001b[0m\u001b[0;34m,\u001b[0m \u001b[0mself\u001b[0m\u001b[0;34m.\u001b[0m\u001b[0mobj\u001b[0m\u001b[0;34m)\u001b[0m\u001b[0;34m\u001b[0m\u001b[0;34m\u001b[0m\u001b[0m\n\u001b[0;32m--> 895\u001b[0;31m             \u001b[0;32mreturn\u001b[0m \u001b[0mself\u001b[0m\u001b[0;34m.\u001b[0m\u001b[0m_getitem_axis\u001b[0m\u001b[0;34m(\u001b[0m\u001b[0mmaybe_callable\u001b[0m\u001b[0;34m,\u001b[0m \u001b[0maxis\u001b[0m\u001b[0;34m=\u001b[0m\u001b[0maxis\u001b[0m\u001b[0;34m)\u001b[0m\u001b[0;34m\u001b[0m\u001b[0;34m\u001b[0m\u001b[0m\n\u001b[0m\u001b[1;32m    896\u001b[0m \u001b[0;34m\u001b[0m\u001b[0m\n\u001b[1;32m    897\u001b[0m     \u001b[0;32mdef\u001b[0m \u001b[0m_is_scalar_access\u001b[0m\u001b[0;34m(\u001b[0m\u001b[0mself\u001b[0m\u001b[0;34m,\u001b[0m \u001b[0mkey\u001b[0m\u001b[0;34m:\u001b[0m \u001b[0mTuple\u001b[0m\u001b[0;34m)\u001b[0m\u001b[0;34m:\u001b[0m\u001b[0;34m\u001b[0m\u001b[0;34m\u001b[0m\u001b[0m\n",
      "\u001b[0;32m/shared-libs/python3.9/py/lib/python3.9/site-packages/pandas/core/indexing.py\u001b[0m in \u001b[0;36m_getitem_axis\u001b[0;34m(self, key, axis)\u001b[0m\n\u001b[1;32m   1122\u001b[0m         \u001b[0;31m# fall thru to straight lookup\u001b[0m\u001b[0;34m\u001b[0m\u001b[0;34m\u001b[0m\u001b[0m\n\u001b[1;32m   1123\u001b[0m         \u001b[0mself\u001b[0m\u001b[0;34m.\u001b[0m\u001b[0m_validate_key\u001b[0m\u001b[0;34m(\u001b[0m\u001b[0mkey\u001b[0m\u001b[0;34m,\u001b[0m \u001b[0maxis\u001b[0m\u001b[0;34m)\u001b[0m\u001b[0;34m\u001b[0m\u001b[0;34m\u001b[0m\u001b[0m\n\u001b[0;32m-> 1124\u001b[0;31m         \u001b[0;32mreturn\u001b[0m \u001b[0mself\u001b[0m\u001b[0;34m.\u001b[0m\u001b[0m_get_label\u001b[0m\u001b[0;34m(\u001b[0m\u001b[0mkey\u001b[0m\u001b[0;34m,\u001b[0m \u001b[0maxis\u001b[0m\u001b[0;34m=\u001b[0m\u001b[0maxis\u001b[0m\u001b[0;34m)\u001b[0m\u001b[0;34m\u001b[0m\u001b[0;34m\u001b[0m\u001b[0m\n\u001b[0m\u001b[1;32m   1125\u001b[0m \u001b[0;34m\u001b[0m\u001b[0m\n\u001b[1;32m   1126\u001b[0m     \u001b[0;32mdef\u001b[0m \u001b[0m_get_slice_axis\u001b[0m\u001b[0;34m(\u001b[0m\u001b[0mself\u001b[0m\u001b[0;34m,\u001b[0m \u001b[0mslice_obj\u001b[0m\u001b[0;34m:\u001b[0m \u001b[0mslice\u001b[0m\u001b[0;34m,\u001b[0m \u001b[0maxis\u001b[0m\u001b[0;34m:\u001b[0m \u001b[0mint\u001b[0m\u001b[0;34m)\u001b[0m\u001b[0;34m:\u001b[0m\u001b[0;34m\u001b[0m\u001b[0;34m\u001b[0m\u001b[0m\n",
      "\u001b[0;32m/shared-libs/python3.9/py/lib/python3.9/site-packages/pandas/core/indexing.py\u001b[0m in \u001b[0;36m_get_label\u001b[0;34m(self, label, axis)\u001b[0m\n\u001b[1;32m   1071\u001b[0m     \u001b[0;32mdef\u001b[0m \u001b[0m_get_label\u001b[0m\u001b[0;34m(\u001b[0m\u001b[0mself\u001b[0m\u001b[0;34m,\u001b[0m \u001b[0mlabel\u001b[0m\u001b[0;34m,\u001b[0m \u001b[0maxis\u001b[0m\u001b[0;34m:\u001b[0m \u001b[0mint\u001b[0m\u001b[0;34m)\u001b[0m\u001b[0;34m:\u001b[0m\u001b[0;34m\u001b[0m\u001b[0;34m\u001b[0m\u001b[0m\n\u001b[1;32m   1072\u001b[0m         \u001b[0;31m# GH#5667 this will fail if the label is not present in the axis.\u001b[0m\u001b[0;34m\u001b[0m\u001b[0;34m\u001b[0m\u001b[0m\n\u001b[0;32m-> 1073\u001b[0;31m         \u001b[0;32mreturn\u001b[0m \u001b[0mself\u001b[0m\u001b[0;34m.\u001b[0m\u001b[0mobj\u001b[0m\u001b[0;34m.\u001b[0m\u001b[0mxs\u001b[0m\u001b[0;34m(\u001b[0m\u001b[0mlabel\u001b[0m\u001b[0;34m,\u001b[0m \u001b[0maxis\u001b[0m\u001b[0;34m=\u001b[0m\u001b[0maxis\u001b[0m\u001b[0;34m)\u001b[0m\u001b[0;34m\u001b[0m\u001b[0;34m\u001b[0m\u001b[0m\n\u001b[0m\u001b[1;32m   1074\u001b[0m \u001b[0;34m\u001b[0m\u001b[0m\n\u001b[1;32m   1075\u001b[0m     \u001b[0;32mdef\u001b[0m \u001b[0m_handle_lowerdim_multi_index_axis0\u001b[0m\u001b[0;34m(\u001b[0m\u001b[0mself\u001b[0m\u001b[0;34m,\u001b[0m \u001b[0mtup\u001b[0m\u001b[0;34m:\u001b[0m \u001b[0mTuple\u001b[0m\u001b[0;34m)\u001b[0m\u001b[0;34m:\u001b[0m\u001b[0;34m\u001b[0m\u001b[0;34m\u001b[0m\u001b[0m\n",
      "\u001b[0;32m/shared-libs/python3.9/py/lib/python3.9/site-packages/pandas/core/generic.py\u001b[0m in \u001b[0;36mxs\u001b[0;34m(self, key, axis, level, drop_level)\u001b[0m\n\u001b[1;32m   3737\u001b[0m                 \u001b[0;32mraise\u001b[0m \u001b[0mTypeError\u001b[0m\u001b[0;34m(\u001b[0m\u001b[0;34mf\"Expected label or tuple of labels, got {key}\"\u001b[0m\u001b[0;34m)\u001b[0m \u001b[0;32mfrom\u001b[0m \u001b[0me\u001b[0m\u001b[0;34m\u001b[0m\u001b[0;34m\u001b[0m\u001b[0m\n\u001b[1;32m   3738\u001b[0m         \u001b[0;32melse\u001b[0m\u001b[0;34m:\u001b[0m\u001b[0;34m\u001b[0m\u001b[0;34m\u001b[0m\u001b[0m\n\u001b[0;32m-> 3739\u001b[0;31m             \u001b[0mloc\u001b[0m \u001b[0;34m=\u001b[0m \u001b[0mindex\u001b[0m\u001b[0;34m.\u001b[0m\u001b[0mget_loc\u001b[0m\u001b[0;34m(\u001b[0m\u001b[0mkey\u001b[0m\u001b[0;34m)\u001b[0m\u001b[0;34m\u001b[0m\u001b[0;34m\u001b[0m\u001b[0m\n\u001b[0m\u001b[1;32m   3740\u001b[0m \u001b[0;34m\u001b[0m\u001b[0m\n\u001b[1;32m   3741\u001b[0m             \u001b[0;32mif\u001b[0m \u001b[0misinstance\u001b[0m\u001b[0;34m(\u001b[0m\u001b[0mloc\u001b[0m\u001b[0;34m,\u001b[0m \u001b[0mnp\u001b[0m\u001b[0;34m.\u001b[0m\u001b[0mndarray\u001b[0m\u001b[0;34m)\u001b[0m\u001b[0;34m:\u001b[0m\u001b[0;34m\u001b[0m\u001b[0;34m\u001b[0m\u001b[0m\n",
      "\u001b[0;32m/shared-libs/python3.9/py/lib/python3.9/site-packages/pandas/core/indexes/base.py\u001b[0m in \u001b[0;36mget_loc\u001b[0;34m(self, key, method, tolerance)\u001b[0m\n\u001b[1;32m   3081\u001b[0m                 \u001b[0;32mreturn\u001b[0m \u001b[0mself\u001b[0m\u001b[0;34m.\u001b[0m\u001b[0m_engine\u001b[0m\u001b[0;34m.\u001b[0m\u001b[0mget_loc\u001b[0m\u001b[0;34m(\u001b[0m\u001b[0mcasted_key\u001b[0m\u001b[0;34m)\u001b[0m\u001b[0;34m\u001b[0m\u001b[0;34m\u001b[0m\u001b[0m\n\u001b[1;32m   3082\u001b[0m             \u001b[0;32mexcept\u001b[0m \u001b[0mKeyError\u001b[0m \u001b[0;32mas\u001b[0m \u001b[0merr\u001b[0m\u001b[0;34m:\u001b[0m\u001b[0;34m\u001b[0m\u001b[0;34m\u001b[0m\u001b[0m\n\u001b[0;32m-> 3083\u001b[0;31m                 \u001b[0;32mraise\u001b[0m \u001b[0mKeyError\u001b[0m\u001b[0;34m(\u001b[0m\u001b[0mkey\u001b[0m\u001b[0;34m)\u001b[0m \u001b[0;32mfrom\u001b[0m \u001b[0merr\u001b[0m\u001b[0;34m\u001b[0m\u001b[0;34m\u001b[0m\u001b[0m\n\u001b[0m\u001b[1;32m   3084\u001b[0m \u001b[0;34m\u001b[0m\u001b[0m\n\u001b[1;32m   3085\u001b[0m         \u001b[0;32mif\u001b[0m \u001b[0mtolerance\u001b[0m \u001b[0;32mis\u001b[0m \u001b[0;32mnot\u001b[0m \u001b[0;32mNone\u001b[0m\u001b[0;34m:\u001b[0m\u001b[0;34m\u001b[0m\u001b[0;34m\u001b[0m\u001b[0m\n",
      "\u001b[0;31mKeyError\u001b[0m: 'prob_X2'"
     ]
    }
   ]
  },
  {
   "cell_type": "code",
   "metadata": {
    "cell_id": "3288ae7a96bd4bc497bdccb91915904a",
    "tags": [],
    "deepnote_to_be_reexecuted": false,
    "source_hash": "d8ccac5e",
    "execution_start": 1653462793342,
    "execution_millis": 136,
    "deepnote_table_state": {
     "pageSize": 10,
     "pageIndex": 187,
     "filters": [],
     "sortBy": []
    },
    "deepnote_table_loading": false,
    "deepnote_cell_type": "code",
    "deepnote_cell_height": 598.3333129882812
   },
   "source": "movies_clothing_prob_df",
   "execution_count": null,
   "outputs": [
    {
     "output_type": "execute_result",
     "execution_count": 7,
     "data": {
      "application/vnd.deepnote.dataframe.v3+json": {
       "column_count": 2,
       "row_count": 195168,
       "columns": [
        {
         "name": "prob_X1",
         "dtype": "float64"
        },
        {
         "name": "prob_X2",
         "dtype": "float64"
        },
        {
         "name": "_deepnote_index_column",
         "dtype": "object"
        }
       ],
       "rows": [
        {
         "prob_X1": 0,
         "prob_X2": 5.908115801432954e-7,
         "_deepnote_index_column": "'link"
        },
        {
         "prob_X1": 1.979925142990194e-7,
         "prob_X2": 0,
         "_deepnote_index_column": "'linking"
        },
        {
         "prob_X1": 1.979925142990194e-7,
         "prob_X2": 0,
         "_deepnote_index_column": "'liquid"
        },
        {
         "prob_X1": 1.979925142990194e-7,
         "prob_X2": 0,
         "_deepnote_index_column": "'literal"
        },
        {
         "prob_X1": 3.959850285980388e-7,
         "prob_X2": 0.0000011816231602865908,
         "_deepnote_index_column": "'little"
        },
        {
         "prob_X1": 9.89962571495097e-7,
         "prob_X2": 0,
         "_deepnote_index_column": "'live"
        },
        {
         "prob_X1": 1.979925142990194e-7,
         "prob_X2": 0,
         "_deepnote_index_column": "'live-fast-and-prosper"
        },
        {
         "prob_X1": 0,
         "prob_X2": 5.908115801432954e-7,
         "_deepnote_index_column": "'lived"
        },
        {
         "prob_X1": 1.979925142990194e-7,
         "prob_X2": 0,
         "_deepnote_index_column": "'liven"
        },
        {
         "prob_X1": 3.959850285980388e-7,
         "prob_X2": 0,
         "_deepnote_index_column": "'living"
        }
       ]
      },
      "text/plain": "                                                         prob_X1   prob_X2\n\u0005verything                                          1.979925e-07  0.000000\n\u0010\u0010\u0010dvd                                              1.979925e-07  0.000000\n\u001080s                                                1.979925e-07  0.000000\n\u0010also                                               1.979925e-07  0.000000\n\u0010at                                                 1.979925e-07  0.000000\n...                                                          ...       ...\n~~~~2-pus                                           1.979925e-07  0.000000\n~~~~3-poison                                        1.979925e-07  0.000000\n~~~~bonus                                           1.979925e-07  0.000000\n~~~~~~~~~~~~~~~~~~~~                                3.959850e-07  0.000000\n~~~~~~~~~~~~~~~~~~~~~~~~~~~~~~~~~~~~~~~~~~~~~~~...  0.000000e+00  0.000005\n\n[195168 rows x 2 columns]",
      "text/html": "<div>\n<style scoped>\n    .dataframe tbody tr th:only-of-type {\n        vertical-align: middle;\n    }\n\n    .dataframe tbody tr th {\n        vertical-align: top;\n    }\n\n    .dataframe thead th {\n        text-align: right;\n    }\n</style>\n<table border=\"1\" class=\"dataframe\">\n  <thead>\n    <tr style=\"text-align: right;\">\n      <th></th>\n      <th>prob_X1</th>\n      <th>prob_X2</th>\n    </tr>\n  </thead>\n  <tbody>\n    <tr>\n      <th>\u0005verything</th>\n      <td>1.979925e-07</td>\n      <td>0.000000</td>\n    </tr>\n    <tr>\n      <th>\u0010\u0010\u0010dvd</th>\n      <td>1.979925e-07</td>\n      <td>0.000000</td>\n    </tr>\n    <tr>\n      <th>\u001080s</th>\n      <td>1.979925e-07</td>\n      <td>0.000000</td>\n    </tr>\n    <tr>\n      <th>\u0010also</th>\n      <td>1.979925e-07</td>\n      <td>0.000000</td>\n    </tr>\n    <tr>\n      <th>\u0010at</th>\n      <td>1.979925e-07</td>\n      <td>0.000000</td>\n    </tr>\n    <tr>\n      <th>...</th>\n      <td>...</td>\n      <td>...</td>\n    </tr>\n    <tr>\n      <th>~~~~2-pus</th>\n      <td>1.979925e-07</td>\n      <td>0.000000</td>\n    </tr>\n    <tr>\n      <th>~~~~3-poison</th>\n      <td>1.979925e-07</td>\n      <td>0.000000</td>\n    </tr>\n    <tr>\n      <th>~~~~bonus</th>\n      <td>1.979925e-07</td>\n      <td>0.000000</td>\n    </tr>\n    <tr>\n      <th>~~~~~~~~~~~~~~~~~~~~</th>\n      <td>3.959850e-07</td>\n      <td>0.000000</td>\n    </tr>\n    <tr>\n      <th>~~~~~~~~~~~~~~~~~~~~~~~~~~~~~~~~~~~~~~~~~~~~~~~~~~~~~~~~~~~~~~~~~~~</th>\n      <td>0.000000e+00</td>\n      <td>0.000005</td>\n    </tr>\n  </tbody>\n</table>\n<p>195168 rows × 2 columns</p>\n</div>"
     },
     "metadata": {}
    }
   ]
  },
  {
   "cell_type": "code",
   "metadata": {
    "cell_id": "0819aff1d52644bfa5b1511b8c4636e5",
    "tags": [],
    "deepnote_to_be_reexecuted": false,
    "source_hash": "dac91cf8",
    "execution_start": 1653462802866,
    "execution_millis": 568,
    "deepnote_cell_type": "code",
    "deepnote_cell_height": 1160.1666259765625
   },
   "source": "# Divergence metrics examples\n# Divergence vs distance: https://stats.stackexchange.com/questions/520557/what-is-meant-by-divergence-in-statistics\n# Hellinger distance: https://gist.github.com/larsmans/3116927\n# Interpretting KL divergence: https://stats.stackexchange.com/questions/338016/what-constitutes-a-large-kl-divergence and https://stats.stackexchange.com/questions/111445/analysis-of-kullback-leibler-divergence\n\nimport numpy as np\nfrom scipy.stats import entropy\nfrom scipy.special import rel_entr, kl_div\nfrom scipy.spatial import distance\nfrom scipy.spatial.distance import euclidean\n#from dit.other import renyi_entropy\nfrom math import sqrt, pow, exp\nimport math\n\n# KL divergance ln\ndef kl_divergence_ln(p, q):\n\treturn sum(p[i] * math.log(p[i]/q[i]) for i in range(len(p)))\n\n# KL divergance log2\ndef kl_divergence2(p, q):\n\treturn sum(p[i] * math.log2(p[i]/q[i]) for i in range(len(p)))\n\n# KL divergance log10\ndef kl_divergence10(p, q):\n\treturn sum(p[i] * math.log10(p[i]/q[i]) for i in range(len(p)))\n\n# Euclidian\ndef squared_sum(x):\n  \"\"\" return 3 rounded square rooted value \"\"\"\n\n  return round(sqrt(sum([a*a for a in x])),3)\n\ndef euclidean_distance(x,y):\n  \"\"\" return euclidean distance between two lists \"\"\"\n\n  return sqrt(sum(pow(a-b,2) for a, b in zip(x, y)))\n\n# Jaccard (compares text not numerical values)\ndef jaccard_similarity(x,y):\n  \"\"\" returns the jaccard similarity between two lists \"\"\"\n\n  intersection_cardinality = len(set.intersection(*[set(x), set(y)]))\n  union_cardinality = len(set.union(*[set(x), set(y)]))\n  return intersection_cardinality/float(union_cardinality)\n\nsentences = [\"The bottle is empty\", \"There is nothing in the bottle\"]\nsentences = [sent.lower().split(\" \") for sent in sentences]\n\n# Cosine similarity\ndef cos_similarity(x,y):\n  \"\"\" return cosine similarity between two lists \n  \n    Cosine Similarity computes the similarity of two vectors as the cosine of \n    the angle between two vectors. It determines whether two vectors are pointing \n    in roughly the same direction. So if the angle between the vectors is 0 degrees, \n    then the cosine similarity is 1.\n    \"\"\"\n \n  numerator = sum(a*b for a,b in zip(x,y))\n  denominator = squared_sum(x)*squared_sum(y)\n  return round(numerator/float(denominator),15)",
   "execution_count": null,
   "outputs": []
  },
  {
   "cell_type": "code",
   "metadata": {
    "cell_id": "8961d8523a1f46488af9d37a24ef2df2",
    "tags": [],
    "deepnote_to_be_reexecuted": false,
    "source_hash": "79facabc",
    "execution_start": 1653462815565,
    "execution_millis": 1,
    "deepnote_cell_type": "code",
    "deepnote_cell_height": 296.16668701171875
   },
   "source": "#Assigning the probability distributions for calculating the similarity measures\n\np_mc = movies_clothing_prob_df['prob_X1']\nq_mc = movies_clothing_prob_df['prob_X2']\n\np_me = movies_electronics_prob_df['prob_X1']\nq_me = movies_electronics_prob_df['prob_X2']\n\np_mh = movies_home_prob_df['prob_X1']\nq_mh = movies_home_prob_df['prob_X2']\n\np_mv = movies_video_prob_df['prob_X1']\nq_mv = movies_video_prob_df['prob_X2']",
   "execution_count": null,
   "outputs": []
  },
  {
   "cell_type": "code",
   "metadata": {
    "cell_id": "77c3a4fe9e0d4b4884c63cc7891f9daa",
    "tags": [],
    "deepnote_to_be_reexecuted": false,
    "source_hash": "2634857b",
    "execution_start": 1653475457448,
    "execution_millis": 1530,
    "deepnote_cell_type": "code",
    "deepnote_cell_height": 405.66668701171875
   },
   "source": "#Cosine similarity\n\n'''\nA cosine value of 0 means that the two vectors are orthogonal and have no match. \nThe closer the cosine value to 1, the smaller the angle and the greater the match between vectors. \nHigh score = high similarity\n'''\n\nprint(\"Cosine similarity for movies and clothing:\", cos_similarity(p_mc, q_mc))\nprint(\"Cosine similarity for movies and electronics:\", cos_similarity(p_me, q_me))\nprint(\"Cosine similarity for movies and home:\", cos_similarity(p_mh, q_mh))\nprint(\"Cosine similarity for movies and video:\", cos_similarity(p_mv, q_mv))\n",
   "execution_count": null,
   "outputs": [
    {
     "name": "stdout",
     "text": "Cosine similarity for movies and arts: 0.591215857837845\nCosine similarity for movies and clothing: 0.531214601374482\nCosine similarity for movies and electronics: 0.634250951545789\nCosine similarity for movies and home: 0.632884010618606\nCosine similarity for movies and video: 0.522630566235645\n",
     "output_type": "stream"
    }
   ]
  },
  {
   "cell_type": "code",
   "metadata": {
    "cell_id": "65dd14ba09e542939d248b2bc52c915b",
    "tags": [],
    "deepnote_to_be_reexecuted": false,
    "source_hash": "2dff12c0",
    "execution_start": 1653464549024,
    "execution_millis": 533,
    "deepnote_cell_type": "code",
    "deepnote_cell_height": 371.45001220703125
   },
   "source": "cosine_movies_clothing = cos_similarity(p_mc, q_mc)\ncosine_movies_electronics = cos_similarity(p_me, q_me)\ncosine_movies_home = cos_similarity(p_mh, q_mh)\ncosine_movies_video = cos_similarity(p_mv, q_mv)\n\ncosine_df = {'Cosine Distance': [cosine_movies_arts, cosine_movies_clothing, cosine_movies_electronics, cosine_movies_home, cosine_movies_video], 'Domains': ['Movies and Arts', 'Movies and Clothing', 'Movies and Electronics', 'Movies and Home', 'Movies and Video']}\ncosine_df = pd.DataFrame(cosine_df)\nprint(cosine_df)\n\n",
   "execution_count": null,
   "outputs": [
    {
     "name": "stdout",
     "text": "   Cosine Distance                 Domains\n0         0.591216         Movies and Arts\n1         0.531215     Movies and Clothing\n2         0.634251  Movies and Electronics\n3         0.632884         Movies and Home\n4         0.522631        Movies and Video\n",
     "output_type": "stream"
    }
   ]
  },
  {
   "cell_type": "code",
   "metadata": {
    "cell_id": "cea1d0d662804e98b8e18c7ebe03f2f4",
    "tags": [],
    "deepnote_to_be_reexecuted": false,
    "source_hash": "656d899",
    "execution_start": 1653478423934,
    "execution_millis": 31,
    "deepnote_cell_type": "code",
    "deepnote_cell_height": 385.8833312988281
   },
   "source": "#Jensen-Shannon distance \n\n'''\nThe more “entropy” or “chaos” caused by the interaction between p and q, \nthe more “distance” between the two distributions\nHigh score = low similarity\n'''\n\nprint(\"Jensen-Shannon distance for movies and clothing:\", distance.jensenshannon(p_mc, q_mc))\nprint(\"Jensen-Shannon distance for movies and electronics:\", distance.jensenshannon(p_me, q_me))\nprint(\"Jensen-Shannon distance for movies and home:\", distance.jensenshannon(p_mh, q_mh))\nprint(\"Jensen-Shannon distance for movies and video:\", distance.jensenshannon(p_mv, q_mv))\n",
   "execution_count": null,
   "outputs": [
    {
     "name": "stdout",
     "text": "Jensen-Shannon distance for movies and clothing: 0.5155960388562737\nJensen-Shannon distance for movies and electronics: 0.48120345462691183\nJensen-Shannon distance for movies and home: 0.4893109815428513\nJensen-Shannon distance for movies and video: 0.38979594854625443\n",
     "output_type": "stream"
    }
   ]
  },
  {
   "cell_type": "code",
   "metadata": {
    "cell_id": "22aca6e0580e45f5be46d982e82bb583",
    "tags": [],
    "deepnote_to_be_reexecuted": false,
    "source_hash": "ba644132",
    "execution_start": 1653464434528,
    "execution_millis": 617,
    "deepnote_cell_type": "code",
    "deepnote_cell_height": 700.61669921875,
    "deepnote_output_heights": [
     null,
     21,
     247
    ]
   },
   "source": "Jensen_Shannon_movie_clothing = distance.jensenshannon(p_mc, q_mc)\nJensen_Shannon_movie_electronics = distance.jensenshannon(p_me, q_me)\nJensen_Shannon_movie_home = distance.jensenshannon(p_mh, q_mh)\nJensen_Shannon_movie_video = distance.jensenshannon(p_mv, q_mv)\n\nJensen_Shannon_df = {'Jensen-Shannon Distance': [Jensen_Shannon_movie_clothing, Jensen_Shannon_movie_electronics, Jensen_Shannon_movie_home, Jensen_Shannon_movie_video], 'Domains': ['Movies and Arts', 'Movies and Clothing', 'Movies and Electronics', 'Movies and Home', 'Movies and Video']}\nJensen_Shannon_df = pd.DataFrame(Jensen_Shannon_df)\nprint(Jensen_Shannon_df)\nJensen_Shannon_df.plot.bar()\n",
   "execution_count": null,
   "outputs": [
    {
     "name": "stdout",
     "text": "   Jensen-Shannon Distance                 Domains\n0                 0.506334         Movies and Arts\n1                 0.515596     Movies and Clothing\n2                 0.481203  Movies and Electronics\n3                 0.489311         Movies and Home\n4                 0.389796        Movies and Video\n",
     "output_type": "stream"
    },
    {
     "output_type": "execute_result",
     "execution_count": 34,
     "data": {
      "text/plain": "<AxesSubplot:>"
     },
     "metadata": {}
    },
    {
     "data": {
      "text/plain": "<Figure size 432x288 with 1 Axes>",
      "image/png": "[encoded data removed]"
     },
     "metadata": {
      "needs_background": "light",
      "image/png": {
       "width": 372,
       "height": 245
      }
     },
     "output_type": "display_data"
    }
   ]
  },
  {
   "cell_type": "code",
   "metadata": {
    "cell_id": "8a17ac3b2e4d451e8349d858833f4bd9",
    "tags": [],
    "deepnote_to_be_reexecuted": false,
    "source_hash": "1bac660",
    "execution_start": 1653475440852,
    "execution_millis": 856,
    "deepnote_cell_type": "code",
    "deepnote_cell_height": 387.66668701171875
   },
   "source": "#Euclidean distance\n\n'''\nThe larger the distance between two vectors, the larger the similarity score and vice versa. \nHigh score = low similarity.\n'''\n\nprint(\"Euclidian distance for movies and clothing:\", euclidean_distance(p_mc, q_mc))\nprint(\"Euclidian distance for movies and electronics:\", euclidean_distance(p_me, q_me))\nprint(\"Euclidian distance for movies and home:\", euclidean_distance(p_mh, q_mh))\nprint(\"Euclidian distance for movies and video:\", euclidean_distance(p_mv, q_mv))\n",
   "execution_count": null,
   "outputs": [
    {
     "name": "stdout",
     "text": "Euclidian distance for movies and arts: 0.030741318568821986\nEuclidian distance for movies and clothing: 0.036721678312090805\nEuclidian distance for movies and electronics: 0.027039847019740885\nEuclidian distance for movies and home: 0.02753963680360442\nEuclidian distance for movies and video: 0.036641882392177964\n",
     "output_type": "stream"
    }
   ]
  },
  {
   "cell_type": "code",
   "metadata": {
    "cell_id": "d1a677d7ec60440aa345dd89dc480489",
    "tags": [],
    "deepnote_to_be_reexecuted": false,
    "source_hash": "e60afeb3",
    "execution_start": 1653464134672,
    "execution_millis": 528,
    "deepnote_cell_type": "code",
    "deepnote_cell_height": 682.61669921875,
    "deepnote_output_heights": [
     null,
     21,
     247
    ]
   },
   "source": "euclidean_movies_clothing = euclidean_distance(p_mc, q_mc)\neuclidean_movies_electronics = euclidean_distance(p_me, q_me)\neuclidean_movies_home = euclidean_distance(p_mh, q_mh)\neuclidean_movies_video = euclidean_distance(p_mv, q_mv)\n\neuclidean_df = {'Euclidean Distance': [euclidean_movies_clothing, euclidean_movies_electronics, euclidean_movies_home, euclidean_movies_video], 'Domains': ['Movies and Arts', 'Movies and Clothing', 'Movies and Electronics', 'Movies and Home', 'Movies and Video']}\neuclidean_df = pd.DataFrame(euclidean_df)\nprint(euclidean_df)\neuclidean_df.plot.bar()",
   "execution_count": null,
   "outputs": [
    {
     "name": "stdout",
     "text": "   Euclidean Distance                 Domains\n0            0.030741         Movies and Arts\n1            0.036722     Movies and Clothing\n2            0.027040  Movies and Electronics\n3            0.027540         Movies and Home\n4            0.036642        Movies and Video\n",
     "output_type": "stream"
    },
    {
     "output_type": "execute_result",
     "execution_count": 33,
     "data": {
      "text/plain": "<AxesSubplot:>"
     },
     "metadata": {}
    },
    {
     "data": {
      "text/plain": "<Figure size 432x288 with 1 Axes>",
      "image/png": "[encoded data removed]"
     },
     "metadata": {
      "needs_background": "light",
      "image/png": {
       "width": 384,
       "height": 245
      }
     },
     "output_type": "display_data"
    }
   ]
  },
  {
   "cell_type": "code",
   "metadata": {
    "cell_id": "03428923a168471598918f5ec400b8cd",
    "tags": [],
    "deepnote_to_be_reexecuted": false,
    "source_hash": "8aa8c5c2",
    "execution_start": 1653466412141,
    "execution_millis": 8,
    "deepnote_cell_type": "code",
    "deepnote_cell_height": 537.3333129882812
   },
   "source": "import seaborn as sns\nbig_Metric_df = pd.concat([cosine_df, Jensen_Shannon_df, euclidean_df], axis=1)\ncols = [1]\nbig_Metric_df.drop(big_Metric_df.columns[cols],axis=1,inplace=True)\nbig_Metric_df\nDomains = ['Movies and Clothing', 'Movies and Electronics', 'Movies and Home', 'Movies and Video']\nbig_Metric_df['Domains'] = Domains\nbig_Metric_df\n",
   "execution_count": null,
   "outputs": [
    {
     "output_type": "execute_result",
     "execution_count": 94,
     "data": {
      "application/vnd.deepnote.dataframe.v3+json": {
       "column_count": 4,
       "row_count": 5,
       "columns": [
        {
         "name": "Cosine Distance",
         "dtype": "float64",
         "stats": {
          "unique_count": 5,
          "nan_count": 0,
          "min": "0.522630566235645",
          "max": "0.634250951545789",
          "histogram": [
           {
            "bin_start": 0.522630566235645,
            "bin_end": 0.5337926047666594,
            "count": 2
           },
           {
            "bin_start": 0.5337926047666594,
            "bin_end": 0.5449546432976737,
            "count": 0
           },
           {
            "bin_start": 0.5449546432976737,
            "bin_end": 0.5561166818286882,
            "count": 0
           },
           {
            "bin_start": 0.5561166818286882,
            "bin_end": 0.5672787203597026,
            "count": 0
           },
           {
            "bin_start": 0.5672787203597026,
            "bin_end": 0.578440758890717,
            "count": 0
           },
           {
            "bin_start": 0.578440758890717,
            "bin_end": 0.5896027974217314,
            "count": 0
           },
           {
            "bin_start": 0.5896027974217314,
            "bin_end": 0.6007648359527458,
            "count": 1
           },
           {
            "bin_start": 0.6007648359527458,
            "bin_end": 0.6119268744837603,
            "count": 0
           },
           {
            "bin_start": 0.6119268744837603,
            "bin_end": 0.6230889130147746,
            "count": 0
           },
           {
            "bin_start": 0.6230889130147746,
            "bin_end": 0.634250951545789,
            "count": 2
           }
          ]
         }
        },
        {
         "name": "Jensen-Shannon Distance",
         "dtype": "float64",
         "stats": {
          "unique_count": 5,
          "nan_count": 0,
          "min": "0.38979594854625443",
          "max": "0.5155960388562737",
          "histogram": [
           {
            "bin_start": 0.38979594854625443,
            "bin_end": 0.40237595757725636,
            "count": 1
           },
           {
            "bin_start": 0.40237595757725636,
            "bin_end": 0.4149559666082583,
            "count": 0
           },
           {
            "bin_start": 0.4149559666082583,
            "bin_end": 0.4275359756392602,
            "count": 0
           },
           {
            "bin_start": 0.4275359756392602,
            "bin_end": 0.44011598467026214,
            "count": 0
           },
           {
            "bin_start": 0.44011598467026214,
            "bin_end": 0.45269599370126407,
            "count": 0
           },
           {
            "bin_start": 0.45269599370126407,
            "bin_end": 0.465276002732266,
            "count": 0
           },
           {
            "bin_start": 0.465276002732266,
            "bin_end": 0.4778560117632679,
            "count": 0
           },
           {
            "bin_start": 0.4778560117632679,
            "bin_end": 0.49043602079426984,
            "count": 2
           },
           {
            "bin_start": 0.49043602079426984,
            "bin_end": 0.5030160298252717,
            "count": 0
           },
           {
            "bin_start": 0.5030160298252717,
            "bin_end": 0.5155960388562737,
            "count": 2
           }
          ]
         }
        },
        {
         "name": "Euclidean Distance",
         "dtype": "float64",
         "stats": {
          "unique_count": 5,
          "nan_count": 0,
          "min": "0.027039847019740885",
          "max": "0.036721678312090805",
          "histogram": [
           {
            "bin_start": 0.027039847019740885,
            "bin_end": 0.028008030148975877,
            "count": 2
           },
           {
            "bin_start": 0.028008030148975877,
            "bin_end": 0.028976213278210868,
            "count": 0
           },
           {
            "bin_start": 0.028976213278210868,
            "bin_end": 0.02994439640744586,
            "count": 0
           },
           {
            "bin_start": 0.02994439640744586,
            "bin_end": 0.03091257953668085,
            "count": 1
           },
           {
            "bin_start": 0.03091257953668085,
            "bin_end": 0.03188076266591584,
            "count": 0
           },
           {
            "bin_start": 0.03188076266591584,
            "bin_end": 0.03284894579515084,
            "count": 0
           },
           {
            "bin_start": 0.03284894579515084,
            "bin_end": 0.03381712892438583,
            "count": 0
           },
           {
            "bin_start": 0.03381712892438583,
            "bin_end": 0.03478531205362082,
            "count": 0
           },
           {
            "bin_start": 0.03478531205362082,
            "bin_end": 0.03575349518285581,
            "count": 0
           },
           {
            "bin_start": 0.03575349518285581,
            "bin_end": 0.036721678312090805,
            "count": 2
           }
          ]
         }
        },
        {
         "name": "Domains",
         "dtype": "object",
         "stats": {
          "unique_count": 5,
          "nan_count": 0,
          "categories": [
           {
            "name": "Movies and Arts",
            "count": 1
           },
           {
            "name": "Movies and Clothing",
            "count": 1
           },
           {
            "name": "3 others",
            "count": 3
           }
          ]
         }
        },
        {
         "name": "_deepnote_index_column",
         "dtype": "int64"
        }
       ],
       "rows": [
        {
         "Cosine Distance": 0.591215857837845,
         "Jensen-Shannon Distance": 0.506333632854091,
         "Euclidean Distance": 0.030741318568821986,
         "Domains": "Movies and Arts",
         "_deepnote_index_column": 0
        },
        {
         "Cosine Distance": 0.531214601374482,
         "Jensen-Shannon Distance": 0.5155960388562737,
         "Euclidean Distance": 0.036721678312090805,
         "Domains": "Movies and Clothing",
         "_deepnote_index_column": 1
        },
        {
         "Cosine Distance": 0.634250951545789,
         "Jensen-Shannon Distance": 0.48120345462691183,
         "Euclidean Distance": 0.027039847019740885,
         "Domains": "Movies and Electronics",
         "_deepnote_index_column": 2
        },
        {
         "Cosine Distance": 0.632884010618606,
         "Jensen-Shannon Distance": 0.4893109815428513,
         "Euclidean Distance": 0.02753963680360442,
         "Domains": "Movies and Home",
         "_deepnote_index_column": 3
        },
        {
         "Cosine Distance": 0.522630566235645,
         "Jensen-Shannon Distance": 0.38979594854625443,
         "Euclidean Distance": 0.036641882392177964,
         "Domains": "Movies and Video",
         "_deepnote_index_column": 4
        }
       ]
      },
      "text/plain": "   Cosine Distance  Jensen-Shannon Distance  Euclidean Distance  \\\n0         0.591216                 0.506334            0.030741   \n1         0.531215                 0.515596            0.036722   \n2         0.634251                 0.481203            0.027040   \n3         0.632884                 0.489311            0.027540   \n4         0.522631                 0.389796            0.036642   \n\n                  Domains  \n0         Movies and Arts  \n1     Movies and Clothing  \n2  Movies and Electronics  \n3         Movies and Home  \n4        Movies and Video  ",
      "text/html": "<div>\n<style scoped>\n    .dataframe tbody tr th:only-of-type {\n        vertical-align: middle;\n    }\n\n    .dataframe tbody tr th {\n        vertical-align: top;\n    }\n\n    .dataframe thead th {\n        text-align: right;\n    }\n</style>\n<table border=\"1\" class=\"dataframe\">\n  <thead>\n    <tr style=\"text-align: right;\">\n      <th></th>\n      <th>Cosine Distance</th>\n      <th>Jensen-Shannon Distance</th>\n      <th>Euclidean Distance</th>\n      <th>Domains</th>\n    </tr>\n  </thead>\n  <tbody>\n    <tr>\n      <th>0</th>\n      <td>0.591216</td>\n      <td>0.506334</td>\n      <td>0.030741</td>\n      <td>Movies and Arts</td>\n    </tr>\n    <tr>\n      <th>1</th>\n      <td>0.531215</td>\n      <td>0.515596</td>\n      <td>0.036722</td>\n      <td>Movies and Clothing</td>\n    </tr>\n    <tr>\n      <th>2</th>\n      <td>0.634251</td>\n      <td>0.481203</td>\n      <td>0.027040</td>\n      <td>Movies and Electronics</td>\n    </tr>\n    <tr>\n      <th>3</th>\n      <td>0.632884</td>\n      <td>0.489311</td>\n      <td>0.027540</td>\n      <td>Movies and Home</td>\n    </tr>\n    <tr>\n      <th>4</th>\n      <td>0.522631</td>\n      <td>0.389796</td>\n      <td>0.036642</td>\n      <td>Movies and Video</td>\n    </tr>\n  </tbody>\n</table>\n</div>"
     },
     "metadata": {}
    }
   ]
  },
  {
   "cell_type": "code",
   "metadata": {
    "cell_id": "744200c808dd457e98d8fbe1ac3183d1",
    "tags": [],
    "deepnote_to_be_reexecuted": false,
    "source_hash": "10efb7e3",
    "execution_start": 1653466594360,
    "execution_millis": 2842,
    "deepnote_cell_type": "code",
    "deepnote_cell_height": 695.9000244140625,
    "deepnote_output_heights": [
     null,
     535
    ]
   },
   "source": "sns.pairplot(big_Metric_df, hue='Domains', size=2.5);",
   "execution_count": null,
   "outputs": [
    {
     "name": "stderr",
     "text": "/shared-libs/python3.9/py/lib/python3.9/site-packages/seaborn/axisgrid.py:2076: UserWarning: The `size` parameter has been renamed to `height`; please update your code.\n  warnings.warn(msg, UserWarning)\n",
     "output_type": "stream"
    },
    {
     "data": {
      "text/plain": "<Figure size 690.375x540 with 12 Axes>",
      "image/png": "[encoded data removed]"
     },
     "metadata": {
      "needs_background": "light",
      "image/png": {
       "width": 687,
       "height": 533
      }
     },
     "output_type": "display_data"
    }
   ]
  },
  {
   "cell_type": "code",
   "source": "_deepnote_run_altair(Jensen_Shannon_df, \"\"\"{\"$schema\":\"https://vega.github.io/schema/vega-lite/v4.json\",\"mark\":{\"type\":\"bar\",\"tooltip\":true},\"height\":220,\"autosize\":{\"type\":\"fit\"},\"data\":{\"name\":\"placeholder\"},\"encoding\":{\"x\":{\"field\":\"Domains\",\"type\":\"nominal\",\"sort\":null,\"scale\":{\"type\":\"linear\",\"zero\":false}},\"y\":{\"field\":\"Jensen-Shannon Distance\",\"type\":\"quantitative\",\"sort\":null,\"scale\":{\"type\":\"linear\",\"zero\":true}},\"color\":{\"field\":\"Domains\",\"type\":\"nominal\",\"sort\":null,\"scale\":{\"type\":\"linear\",\"zero\":false}}}}\"\"\")",
   "metadata": {
    "cell_id": "c554192e8f71482482dc19a37415e6e8",
    "deepnote_variable_name": "Jensen_Shannon_df",
    "deepnote_visualization_spec": {
     "$schema": "https://vega.github.io/schema/vega-lite/v4.json",
     "mark": {
      "type": "bar",
      "tooltip": true
     },
     "height": 220,
     "autosize": {
      "type": "fit"
     },
     "data": {
      "name": "placeholder"
     },
     "encoding": {
      "x": {
       "field": "Domains",
       "type": "nominal",
       "sort": null,
       "scale": {
        "type": "linear",
        "zero": false
       }
      },
      "y": {
       "field": "Jensen-Shannon Distance",
       "type": "quantitative",
       "sort": null,
       "scale": {
        "type": "linear",
        "zero": true
       }
      },
      "color": {
       "field": "Domains",
       "type": "nominal",
       "sort": null,
       "scale": {
        "type": "linear",
        "zero": false
       }
      }
     }
    },
    "deepnote_to_be_reexecuted": false,
    "source_hash": "c10f7bb9",
    "execution_start": 1653476908049,
    "execution_millis": 128,
    "deepnote_cell_type": "visualization"
   },
   "execution_count": null,
   "outputs": [
    {
     "output_type": "execute_result",
     "execution_count": 220,
     "data": {
      "text/html": "\n<div id=\"altair-viz-f169560197864cb59bf2cbf0df5d26dc\"></div>\n<script type=\"text/javascript\">\n  (function(spec, embedOpt){\n    let outputDiv = document.currentScript.previousElementSibling;\n    if (outputDiv.id !== \"altair-viz-f169560197864cb59bf2cbf0df5d26dc\") {\n      outputDiv = document.getElementById(\"altair-viz-f169560197864cb59bf2cbf0df5d26dc\");\n    }\n    const paths = {\n      \"vega\": \"https://cdn.jsdelivr.net/npm//vega@5?noext\",\n      \"vega-lib\": \"https://cdn.jsdelivr.net/npm//vega-lib?noext\",\n      \"vega-lite\": \"https://cdn.jsdelivr.net/npm//vega-lite@4.8.1?noext\",\n      \"vega-embed\": \"https://cdn.jsdelivr.net/npm//vega-embed@6?noext\",\n    };\n\n    function loadScript(lib) {\n      return new Promise(function(resolve, reject) {\n        var s = document.createElement('script');\n        s.src = paths[lib];\n        s.async = true;\n        s.onload = () => resolve(paths[lib]);\n        s.onerror = () => reject(`Error loading script: ${paths[lib]}`);\n        document.getElementsByTagName(\"head\")[0].appendChild(s);\n      });\n    }\n\n    function showError(err) {\n      outputDiv.innerHTML = `<div class=\"error\" style=\"color:red;\">${err}</div>`;\n      throw err;\n    }\n\n    function displayChart(vegaEmbed) {\n      vegaEmbed(outputDiv, spec, embedOpt)\n        .catch(err => showError(`Javascript Error: ${err.message}<br>This usually means there's a typo in your chart specification. See the javascript console for the full traceback.`));\n    }\n\n    if(typeof define === \"function\" && define.amd) {\n      requirejs.config({paths});\n      require([\"vega-embed\"], displayChart, err => showError(`Error loading script: ${err.message}`));\n    } else if (typeof vegaEmbed === \"function\") {\n      displayChart(vegaEmbed);\n    } else {\n      loadScript(\"vega\")\n        .then(() => loadScript(\"vega-lite\"))\n        .then(() => loadScript(\"vega-embed\"))\n        .catch(showError)\n        .then(() => displayChart(vegaEmbed));\n    }\n  })({\"config\": {\"view\": {\"continuousWidth\": 400, \"continuousHeight\": 300}, \"area\": {\"fill\": \"#51C0E9\"}, \"axis\": {\"labelFont\": \"Inter, sans-serif\", \"labelFontSize\": 12, \"labelFontWeight\": \"normal\", \"labelLimit\": 60, \"labelOverlap\": \"greedy\", \"titleFont\": \"Inter, sans-serif\", \"titleFontSize\": 12, \"titleFontWeight\": \"bold\"}, \"background\": \"#ffffff\", \"legend\": {\"labelFont\": \"Inter, sans-serif\", \"labelFontSize\": 12, \"titleFont\": \"Inter, sans-serif\", \"titleFontSize\": 12, \"titleFontWeight\": \"bold\"}, \"line\": {\"stroke\": \"#51C0E9\", \"strokeWidth\": 2}, \"rect\": {\"fill\": \"#51C0E9\"}, \"title\": {\"anchor\": \"start\", \"color\": \"#000000\", \"font\": \"Inter, sans-serif\", \"fontSize\": 22, \"fontWeight\": \"normal\"}}, \"data\": {\"name\": \"data-fe9119bc9f631094c600b6c624a882ac\"}, \"mark\": {\"type\": \"bar\", \"tooltip\": true}, \"autosize\": {\"type\": \"fit\"}, \"encoding\": {\"color\": {\"type\": \"nominal\", \"field\": \"Domains\", \"scale\": {\"type\": \"linear\", \"zero\": false}, \"sort\": null}, \"x\": {\"type\": \"nominal\", \"field\": \"Domains\", \"scale\": {\"type\": \"linear\", \"zero\": false}, \"sort\": null}, \"y\": {\"type\": \"quantitative\", \"field\": \"Jensen-Shannon Distance\", \"scale\": {\"type\": \"linear\", \"zero\": true}, \"sort\": null}}, \"height\": 300, \"width\": \"container\", \"$schema\": \"https://vega.github.io/schema/vega-lite/v4.json\", \"datasets\": {\"data-fe9119bc9f631094c600b6c624a882ac\": [{\"Jensen-Shannon Distance\": 0.506333632854091, \"Domains\": \"Movies and Arts\"}, {\"Jensen-Shannon Distance\": 0.5155960388562737, \"Domains\": \"Movies and Clothing\"}, {\"Jensen-Shannon Distance\": 0.48120345462691183, \"Domains\": \"Movies and Electronics\"}, {\"Jensen-Shannon Distance\": 0.4893109815428513, \"Domains\": \"Movies and Home\"}, {\"Jensen-Shannon Distance\": 0.38979594854625443, \"Domains\": \"Movies and Video\"}]}}, {\"actions\": false, \"mode\": \"vega-lite\"});\n</script>",
      "text/plain": "alt.Chart(...)"
     },
     "metadata": {}
    }
   ]
  },
  {
   "cell_type": "code",
   "metadata": {
    "cell_id": "db62b1352d32419896f5413f32d8f899",
    "tags": [],
    "deepnote_to_be_reexecuted": false,
    "source_hash": "3437e47b",
    "execution_start": 1653468471573,
    "execution_millis": 1,
    "deepnote_cell_type": "code",
    "deepnote_cell_height": 80.16667175292969
   },
   "source": "#sns.barplot(x='Domains', y='Cosine Distance', data = big_Metric_df)",
   "execution_count": null,
   "outputs": []
  },
  {
   "cell_type": "code",
   "metadata": {
    "cell_id": "53aa29fae92f469d938214b14c39fd78",
    "tags": [],
    "deepnote_to_be_reexecuted": false,
    "source_hash": "bd55f405",
    "execution_start": 1653462918574,
    "execution_millis": 29,
    "deepnote_cell_type": "code",
    "deepnote_cell_height": 261.66668701171875
   },
   "source": "#Kullback-Leibler\nprint(\"Entropy for movies and clothing:\", entropy(p_mc, q_mc))\nprint(\"Entropy for movies and electronics:\", entropy(p_me, q_me))\nprint(\"Entropy for movies and home:\", entropy(p_mh, q_mh))\nprint(\"Entropy for movies and video:\", entropy(p_mv, q_mv))",
   "execution_count": null,
   "outputs": [
    {
     "name": "stdout",
     "text": "Entropy for movies and arts: inf\nEntropy for movies and clothing: inf\nEntropy for movies and electronics: inf\nEntropy for movies and home: inf\nEntropy for movies and video: inf\n",
     "output_type": "stream"
    }
   ]
  },
  {
   "cell_type": "code",
   "metadata": {
    "cell_id": "7be33db811284894af5a2f9fbf05f0af",
    "tags": [],
    "deepnote_to_be_reexecuted": false,
    "source_hash": "644884e0",
    "execution_start": 1653462923595,
    "execution_millis": 398,
    "deepnote_cell_type": "code",
    "deepnote_cell_height": 412.95001220703125
   },
   "source": "#Keeping just in case\nprint(\"Entropy\", entropy(p, q))\nprint(\"Relative entropy\", sum(rel_entr(p, q)))\nprint(\"Kullback-Leibler divergence\", sum(kl_div(p, q)))\n#print(\"Kullback-Leibler divergence with ln\", kl_divergence_ln(p, q))\n#print(\"Kullback-Leibler divergence with log(2)\", kl_divergence2(p, q))\n#print(\"Kullback-Leibler divergence with log(10)\", kl_divergence10(p, q))\nprint(\"Cosine similarity\", cos_similarity(p, q))\nprint(\"Jensen-Shannon distance\", distance.jensenshannon(p, q))\nprint(\"Hellinger distance\", euclidean(np.sqrt(p), np.sqrt(q)) / np.sqrt(2))\nprint(\"Euclidian distance\", euclidean_distance(p, q))\n\n#print(\"Renyi entropy with alpha = 0 (Hartley entropy)\", )\n#print(\"Renyi entropy with alpha = 1 (KL divergence)\", )\n#print(\"Renyi entropy with alpha = 2 (Collision entropy)\", )\n#print(\"Jaccard index\", jaccard_similarity(sentences[0], sentences[1])) # compares sentences instead of floats",
   "execution_count": null,
   "outputs": [
    {
     "output_type": "error",
     "ename": "NameError",
     "evalue": "name 'p' is not defined",
     "traceback": [
      "\u001b[0;31m---------------------------------------------------------------------------\u001b[0m",
      "\u001b[0;31mNameError\u001b[0m                                 Traceback (most recent call last)",
      "\u001b[0;32m<ipython-input-19-cdd5e113d78d>\u001b[0m in \u001b[0;36m<cell line: 2>\u001b[0;34m()\u001b[0m\n\u001b[1;32m      1\u001b[0m \u001b[0;31m#Keeping just in case\u001b[0m\u001b[0;34m\u001b[0m\u001b[0;34m\u001b[0m\u001b[0m\n\u001b[0;32m----> 2\u001b[0;31m \u001b[0mprint\u001b[0m\u001b[0;34m(\u001b[0m\u001b[0;34m\"Entropy\"\u001b[0m\u001b[0;34m,\u001b[0m \u001b[0mentropy\u001b[0m\u001b[0;34m(\u001b[0m\u001b[0mp\u001b[0m\u001b[0;34m,\u001b[0m \u001b[0mq\u001b[0m\u001b[0;34m)\u001b[0m\u001b[0;34m)\u001b[0m\u001b[0;34m\u001b[0m\u001b[0;34m\u001b[0m\u001b[0m\n\u001b[0m\u001b[1;32m      3\u001b[0m \u001b[0mprint\u001b[0m\u001b[0;34m(\u001b[0m\u001b[0;34m\"Relative entropy\"\u001b[0m\u001b[0;34m,\u001b[0m \u001b[0msum\u001b[0m\u001b[0;34m(\u001b[0m\u001b[0mrel_entr\u001b[0m\u001b[0;34m(\u001b[0m\u001b[0mp\u001b[0m\u001b[0;34m,\u001b[0m \u001b[0mq\u001b[0m\u001b[0;34m)\u001b[0m\u001b[0;34m)\u001b[0m\u001b[0;34m)\u001b[0m\u001b[0;34m\u001b[0m\u001b[0;34m\u001b[0m\u001b[0m\n\u001b[1;32m      4\u001b[0m \u001b[0mprint\u001b[0m\u001b[0;34m(\u001b[0m\u001b[0;34m\"Kullback-Leibler divergence\"\u001b[0m\u001b[0;34m,\u001b[0m \u001b[0msum\u001b[0m\u001b[0;34m(\u001b[0m\u001b[0mkl_div\u001b[0m\u001b[0;34m(\u001b[0m\u001b[0mp\u001b[0m\u001b[0;34m,\u001b[0m \u001b[0mq\u001b[0m\u001b[0;34m)\u001b[0m\u001b[0;34m)\u001b[0m\u001b[0;34m)\u001b[0m\u001b[0;34m\u001b[0m\u001b[0;34m\u001b[0m\u001b[0m\n\u001b[1;32m      5\u001b[0m \u001b[0;31m#print(\"Kullback-Leibler divergence with ln\", kl_divergence_ln(p, q))\u001b[0m\u001b[0;34m\u001b[0m\u001b[0;34m\u001b[0m\u001b[0m\n",
      "\u001b[0;31mNameError\u001b[0m: name 'p' is not defined"
     ]
    }
   ]
  },
  {
   "cell_type": "code",
   "metadata": {
    "cell_id": "f3865047be8e4e7c850d5370024b83c3",
    "tags": [],
    "deepnote_to_be_reexecuted": true,
    "source_hash": "a75e6eaf",
    "execution_start": 1653389544306,
    "execution_millis": 46,
    "deepnote_table_state": {
     "pageSize": 10,
     "pageIndex": 17,
     "filters": [],
     "sortBy": []
    },
    "deepnote_table_loading": false,
    "deepnote_cell_type": "code",
    "deepnote_cell_height": 598.3333129882812
   },
   "source": "movies_clothing_prob_df.loc[movies_clothing_prob_df['prob_X2']==0]",
   "execution_count": null,
   "outputs": [
    {
     "output_type": "execute_result",
     "execution_count": 11,
     "data": {
      "application/vnd.deepnote.dataframe.v3+json": {
       "column_count": 2,
       "row_count": 142636,
       "columns": [
        {
         "name": "prob_X1",
         "dtype": "float64"
        },
        {
         "name": "prob_X2",
         "dtype": "float64"
        },
        {
         "name": "_deepnote_index_column",
         "dtype": "object"
        }
       ],
       "rows": [
        {
         "prob_X1": 1.979925142990194e-7,
         "prob_X2": 0,
         "_deepnote_index_column": "'adaptions"
        },
        {
         "prob_X1": 1.979925142990194e-7,
         "prob_X2": 0,
         "_deepnote_index_column": "'adolescent"
        },
        {
         "prob_X1": 1.979925142990194e-7,
         "prob_X2": 0,
         "_deepnote_index_column": "'adopted"
        },
        {
         "prob_X1": 0.0000011879550857941164,
         "prob_X2": 0,
         "_deepnote_index_column": "'adult"
        },
        {
         "prob_X1": 1.979925142990194e-7,
         "prob_X2": 0,
         "_deepnote_index_column": "'adventure"
        },
        {
         "prob_X1": 1.979925142990194e-7,
         "prob_X2": 0,
         "_deepnote_index_column": "'advertised"
        },
        {
         "prob_X1": 3.959850285980388e-7,
         "prob_X2": 0,
         "_deepnote_index_column": "'advice."
        },
        {
         "prob_X1": 1.979925142990194e-7,
         "prob_X2": 0,
         "_deepnote_index_column": "'aegean"
        },
        {
         "prob_X1": 1.979925142990194e-7,
         "prob_X2": 0,
         "_deepnote_index_column": "'aerodrome"
        },
        {
         "prob_X1": 1.979925142990194e-7,
         "prob_X2": 0,
         "_deepnote_index_column": "'african"
        }
       ]
      },
      "text/plain": "                           prob_X1  prob_X2\n\u0005verything            1.979925e-07      0.0\n\u0010\u0010\u0010dvd                1.979925e-07      0.0\n\u001080s                  1.979925e-07      0.0\n\u0010also                 1.979925e-07      0.0\n\u0010at                   1.979925e-07      0.0\n...                            ...      ...\n~~~~1-pain            1.979925e-07      0.0\n~~~~2-pus             1.979925e-07      0.0\n~~~~3-poison          1.979925e-07      0.0\n~~~~bonus             1.979925e-07      0.0\n~~~~~~~~~~~~~~~~~~~~  3.959850e-07      0.0\n\n[142636 rows x 2 columns]",
      "text/html": "<div>\n<style scoped>\n    .dataframe tbody tr th:only-of-type {\n        vertical-align: middle;\n    }\n\n    .dataframe tbody tr th {\n        vertical-align: top;\n    }\n\n    .dataframe thead th {\n        text-align: right;\n    }\n</style>\n<table border=\"1\" class=\"dataframe\">\n  <thead>\n    <tr style=\"text-align: right;\">\n      <th></th>\n      <th>prob_X1</th>\n      <th>prob_X2</th>\n    </tr>\n  </thead>\n  <tbody>\n    <tr>\n      <th>\u0005verything</th>\n      <td>1.979925e-07</td>\n      <td>0.0</td>\n    </tr>\n    <tr>\n      <th>\u0010\u0010\u0010dvd</th>\n      <td>1.979925e-07</td>\n      <td>0.0</td>\n    </tr>\n    <tr>\n      <th>\u001080s</th>\n      <td>1.979925e-07</td>\n      <td>0.0</td>\n    </tr>\n    <tr>\n      <th>\u0010also</th>\n      <td>1.979925e-07</td>\n      <td>0.0</td>\n    </tr>\n    <tr>\n      <th>\u0010at</th>\n      <td>1.979925e-07</td>\n      <td>0.0</td>\n    </tr>\n    <tr>\n      <th>...</th>\n      <td>...</td>\n      <td>...</td>\n    </tr>\n    <tr>\n      <th>~~~~1-pain</th>\n      <td>1.979925e-07</td>\n      <td>0.0</td>\n    </tr>\n    <tr>\n      <th>~~~~2-pus</th>\n      <td>1.979925e-07</td>\n      <td>0.0</td>\n    </tr>\n    <tr>\n      <th>~~~~3-poison</th>\n      <td>1.979925e-07</td>\n      <td>0.0</td>\n    </tr>\n    <tr>\n      <th>~~~~bonus</th>\n      <td>1.979925e-07</td>\n      <td>0.0</td>\n    </tr>\n    <tr>\n      <th>~~~~~~~~~~~~~~~~~~~~</th>\n      <td>3.959850e-07</td>\n      <td>0.0</td>\n    </tr>\n  </tbody>\n</table>\n<p>142636 rows × 2 columns</p>\n</div>"
     },
     "metadata": {}
    }
   ]
  },
  {
   "cell_type": "code",
   "metadata": {
    "cell_id": "6d03577f5efd482e837cda0ae8cbdd8a",
    "tags": [],
    "deepnote_to_be_reexecuted": true,
    "source_hash": "32dc620f",
    "execution_start": 1653382046833,
    "execution_millis": 14,
    "deepnote_cell_type": "code",
    "deepnote_cell_height": 170.75,
    "deepnote_output_heights": [
     21
    ]
   },
   "source": "def distance_to_similarity(distance):\n  return 1/exp(distance)\n\ndistance_to_similarity(entropy(p, q)) ",
   "execution_count": null,
   "outputs": [
    {
     "output_type": "execute_result",
     "execution_count": 97,
     "data": {
      "text/plain": "4.798644595751473e-07"
     },
     "metadata": {}
    }
   ]
  },
  {
   "cell_type": "code",
   "metadata": {
    "cell_id": "61bd49023d9d47c7a1add9a7dd09bf37",
    "tags": [],
    "deepnote_to_be_reexecuted": true,
    "source_hash": "a971cded",
    "execution_start": 1653387959728,
    "execution_millis": 118,
    "deepnote_cell_type": "code",
    "deepnote_cell_height": 376.95001220703125
   },
   "source": "\nmovies_X_uniq = pd.Series(movies_X).explode().value_counts()\n#movies_60000_uniq_tokamok = pd.Series(movies_60000_tokamok).explode().value_counts()\n\nprint(\"Dataset: Top 100 tokens:\",\"\\n\",movies_X_uniq[:100],\"\\n\")\n#print(\"movies 60000 dataset, top 10 tokens:\",\"\\n\",movies_60000_uniq_tokamok[:10])\n\n#Turning above pd.series into dataframes, for ease of use later\nmovies_X_uniq = movies_X_uniq.to_frame().reset_index()\n#movies_60000_uniq_tokamok = movies_60000_uniq_tokamok.to_frame().reset_index()\n\n#Renaming columns in dataframes\nmovies_X_uniq.columns = [\"token\",\"count\"]\n#movies_60000_uniq_tokamok.columns = [\"token\",\"count\"]",
   "execution_count": null,
   "outputs": [
    {
     "output_type": "error",
     "ename": "NameError",
     "evalue": "name 'pd' is not defined",
     "traceback": [
      "\u001b[0;31m---------------------------------------------------------------------------\u001b[0m",
      "\u001b[0;31mNameError\u001b[0m                                 Traceback (most recent call last)",
      "\u001b[0;32m<ipython-input-1-8b1f84436346>\u001b[0m in \u001b[0;36m<cell line: 1>\u001b[0;34m()\u001b[0m\n\u001b[0;32m----> 1\u001b[0;31m \u001b[0marts_X_uniq\u001b[0m \u001b[0;34m=\u001b[0m \u001b[0mpd\u001b[0m\u001b[0;34m.\u001b[0m\u001b[0mSeries\u001b[0m\u001b[0;34m(\u001b[0m\u001b[0marts_X\u001b[0m\u001b[0;34m)\u001b[0m\u001b[0;34m.\u001b[0m\u001b[0mexplode\u001b[0m\u001b[0;34m(\u001b[0m\u001b[0;34m)\u001b[0m\u001b[0;34m.\u001b[0m\u001b[0mvalue_counts\u001b[0m\u001b[0;34m(\u001b[0m\u001b[0;34m)\u001b[0m\u001b[0;34m\u001b[0m\u001b[0;34m\u001b[0m\u001b[0m\n\u001b[0m\u001b[1;32m      2\u001b[0m \u001b[0;31m#movies_60000_uniq_tokamok = pd.Series(movies_60000_tokamok).explode().value_counts()\u001b[0m\u001b[0;34m\u001b[0m\u001b[0;34m\u001b[0m\u001b[0m\n\u001b[1;32m      3\u001b[0m \u001b[0;34m\u001b[0m\u001b[0m\n\u001b[1;32m      4\u001b[0m \u001b[0mprint\u001b[0m\u001b[0;34m(\u001b[0m\u001b[0;34m\"Dataset: Top 100 tokens:\"\u001b[0m\u001b[0;34m,\u001b[0m\u001b[0;34m\"\\n\"\u001b[0m\u001b[0;34m,\u001b[0m\u001b[0marts_X_uniq\u001b[0m\u001b[0;34m[\u001b[0m\u001b[0;34m:\u001b[0m\u001b[0;36m100\u001b[0m\u001b[0;34m]\u001b[0m\u001b[0;34m,\u001b[0m\u001b[0;34m\"\\n\"\u001b[0m\u001b[0;34m)\u001b[0m\u001b[0;34m\u001b[0m\u001b[0;34m\u001b[0m\u001b[0m\n\u001b[1;32m      5\u001b[0m \u001b[0;31m#print(\"movies 60000 dataset, top 10 tokens:\",\"\\n\",movies_60000_uniq_tokamok[:10])\u001b[0m\u001b[0;34m\u001b[0m\u001b[0;34m\u001b[0m\u001b[0m\n",
      "\u001b[0;31mNameError\u001b[0m: name 'pd' is not defined"
     ]
    }
   ]
  },
  {
   "cell_type": "code",
   "metadata": {
    "cell_id": "46093f0100194d1a92b2a473df14ed9a",
    "tags": [],
    "deepnote_to_be_reexecuted": true,
    "source_hash": "bae0c3db",
    "execution_start": 1653300831716,
    "execution_millis": 26,
    "deepnote_cell_type": "code",
    "deepnote_cell_height": 330.1000061035156
   },
   "source": "#Types == Amount of different Tokens in dataset\ndata_types = len(movies_X_uniq[\"token\"])\nprint(\"Dataset mount of tokens:  {}\".format(data_types))\n\n#Tokens == Amount of all \"Words\" in dataset\ndataset_tokens = movies_X_uniq[\"count\"].sum()\nprint(\"Dataset amount of words: {}\".format(dataset_tokens))\n\n#Type/token ratio (=ttratio)\ndataset_ttratio = data_types/dataset_tokens\nprint(\"Dataset type/token ratio: {:.4f}\".format(dataset_ttratio))",
   "execution_count": null,
   "outputs": [
    {
     "name": "stdout",
     "text": "Dataset mount of tokens:  39973\nDataset amount of words: 1061894\nDataset type/token ratio: 0.0376\n",
     "output_type": "stream"
    }
   ]
  },
  {
   "cell_type": "markdown",
   "source": "## Training baseline model on movies dataset",
   "metadata": {
    "cell_id": "26325cc2593b4eb48fce105b0a3032bb",
    "tags": [],
    "is_collapsed": false,
    "deepnote_cell_type": "text-cell-h2"
   }
  },
  {
   "cell_type": "code",
   "metadata": {
    "cell_id": "87339b3740e84211878e0fd0a285c73b",
    "tags": [],
    "deepnote_to_be_reexecuted": false,
    "source_hash": "d8e05bcc",
    "execution_start": 1653562364004,
    "execution_millis": 3,
    "deepnote_cell_type": "code",
    "deepnote_cell_height": 242.1666717529297
   },
   "source": "#Function for preparing the data to be vectorized\ndef VecPrep(X):\n    X_alt = []\n    for lst in X:\n        temp = ''\n        for tok in lst:\n            temp = temp + tok\n            temp += ' '\n        X_alt.append(temp)\n    return X_alt",
   "execution_count": null,
   "outputs": []
  },
  {
   "cell_type": "code",
   "metadata": {
    "cell_id": "d90c3208edc24d6798d59b9a08ce005f",
    "tags": [],
    "deepnote_to_be_reexecuted": false,
    "source_hash": "b91e553a",
    "execution_start": 1653566482296,
    "execution_millis": 2212,
    "deepnote_cell_type": "code",
    "deepnote_cell_height": 80.16667175292969
   },
   "source": "movies_X_alt = VecPrep(movies_X)",
   "execution_count": null,
   "outputs": []
  },
  {
   "cell_type": "code",
   "metadata": {
    "cell_id": "c87a2f8b99fc40158010532cc1282bf4",
    "tags": [],
    "deepnote_to_be_reexecuted": false,
    "source_hash": "cdbfaf8b",
    "execution_start": 1653562369820,
    "execution_millis": 1329,
    "deepnote_cell_type": "code",
    "deepnote_cell_height": 116.16667175292969
   },
   "source": "# split the data\nfrom sklearn.model_selection import train_test_split\nmovies_train_X, movies_test_X, movies_train_y, movies_test_y = train_test_split(movies_X_alt,movies_y,test_size=0.2,random_state=42)",
   "execution_count": null,
   "outputs": []
  },
  {
   "cell_type": "code",
   "metadata": {
    "cell_id": "38df5c36887142cc85e4449456c95d42",
    "tags": [],
    "deepnote_to_be_reexecuted": false,
    "source_hash": "1b52fa8",
    "execution_start": 1653561187577,
    "execution_millis": 7,
    "deepnote_cell_type": "code",
    "deepnote_cell_height": 241.88333129882812
   },
   "source": "# len(movies_train_X) == len(movies_train_y)\nprint(len(movies_train_X))\nprint(len(movies_train_y))\nprint(len(movies_test_X))\nprint(len(movies_test_y))",
   "execution_count": null,
   "outputs": [
    {
     "name": "stdout",
     "text": "87390\n87390\n21848\n21848\n",
     "output_type": "stream"
    }
   ]
  },
  {
   "cell_type": "code",
   "metadata": {
    "cell_id": "557583eda99249fa9ee86ae2f3d3086d",
    "tags": [],
    "deepnote_to_be_reexecuted": false,
    "source_hash": "7f5965b1",
    "execution_start": 1653552482822,
    "execution_millis": 1,
    "deepnote_cell_type": "code",
    "deepnote_cell_height": 116.16667175292969
   },
   "source": "# import models\nfrom sklearn.svm import SVC\nfrom sklearn.linear_model import LogisticRegression",
   "execution_count": null,
   "outputs": []
  },
  {
   "cell_type": "code",
   "metadata": {
    "cell_id": "2693d876111043878615c2492ace1128",
    "tags": [],
    "deepnote_to_be_reexecuted": false,
    "source_hash": "e62f8089",
    "execution_start": 1653563294093,
    "execution_millis": 4520,
    "deepnote_cell_type": "code",
    "deepnote_cell_height": 242.1666717529297
   },
   "source": "from sklearn.feature_extraction.text import TfidfVectorizer\nfrom sklearn.feature_extraction.text import CountVectorizer\nfrom sklearn.linear_model import LogisticRegression\nimport numpy as np\n\nlog_clf = LogisticRegression(solver='sag')\nvectorizer = TfidfVectorizer()\n\nmovies_train_X_vec = vectorizer.fit_transform(movies_train_X)\nmovies_test_X_vec = vectorizer.transform(movies_test_X)",
   "execution_count": null,
   "outputs": []
  },
  {
   "cell_type": "code",
   "metadata": {
    "cell_id": "1a504a1cfaef4f8885839114c1358fd0",
    "tags": [],
    "deepnote_to_be_reexecuted": false,
    "source_hash": "addff9c5",
    "execution_start": 1653561381182,
    "execution_millis": 1616,
    "deepnote_cell_type": "code",
    "deepnote_cell_height": 146.53334045410156
   },
   "source": "log_clf.fit(movies_train_X_vec,movies_train_y)\npred = log_clf.predict(movies_test_X_vec)\nprint(np.sum((pred == movies_test_y)/len(pred))) # prints 0.8796",
   "execution_count": null,
   "outputs": [
    {
     "name": "stdout",
     "text": "0.8796228487733431\n",
     "output_type": "stream"
    }
   ]
  },
  {
   "cell_type": "code",
   "metadata": {
    "cell_id": "f14846fe95e74a788988d2785d4f0061",
    "tags": [],
    "deepnote_to_be_reexecuted": false,
    "source_hash": "4faffb91",
    "execution_start": 1653463411447,
    "execution_millis": 633,
    "deepnote_cell_type": "code",
    "deepnote_cell_height": 170.75,
    "deepnote_output_heights": [
     21
    ]
   },
   "source": "#SGDClassifier\nfrom sklearn.linear_model import SGDClassifier\nSGDClf = SGDClassifier()\nSGDClf.fit(movies_train_X_vec, movies_train_y)",
   "execution_count": null,
   "outputs": [
    {
     "output_type": "execute_result",
     "execution_count": 31,
     "data": {
      "text/plain": "SGDClassifier()"
     },
     "metadata": {}
    }
   ]
  },
  {
   "cell_type": "code",
   "metadata": {
    "cell_id": "5cb9ef8dde6544ee84f58da54080362f",
    "tags": [],
    "deepnote_to_be_reexecuted": false,
    "source_hash": "1b7abcef",
    "execution_start": 1653463416508,
    "execution_millis": 12,
    "deepnote_cell_type": "code",
    "deepnote_cell_height": 128.53334045410156
   },
   "source": "pred = SGDClf.predict(movies_test_X_vec)\nprint(np.sum((pred == movies_test_y)/len(pred)))",
   "execution_count": null,
   "outputs": [
    {
     "name": "stdout",
     "text": "0.8758696448187476\n",
     "output_type": "stream"
    }
   ]
  },
  {
   "cell_type": "code",
   "metadata": {
    "cell_id": "06a76e5a973543b3ad06f75470e60828",
    "tags": [],
    "deepnote_to_be_reexecuted": true,
    "source_hash": "ab4ef255",
    "execution_start": 1653396884804,
    "execution_millis": 13342,
    "deepnote_cell_type": "code",
    "deepnote_cell_height": 152.75,
    "deepnote_output_heights": [
     21
    ]
   },
   "source": "from sklearn.ensemble import RandomForestClassifier\nRFClf = RandomForestClassifier(max_depth=20)\nRFClf.fit(movies_train_X_vec,movies_train_y)",
   "execution_count": null,
   "outputs": [
    {
     "output_type": "execute_result",
     "execution_count": 46,
     "data": {
      "text/plain": "RandomForestClassifier(max_depth=20)"
     },
     "metadata": {}
    }
   ]
  },
  {
   "cell_type": "code",
   "metadata": {
    "cell_id": "d768665353af4acfb119e518460f6ba3",
    "tags": [],
    "deepnote_to_be_reexecuted": true,
    "source_hash": "3ab180b",
    "execution_start": 1653396903869,
    "execution_millis": 700,
    "deepnote_cell_type": "code",
    "deepnote_cell_height": 128.53334045410156
   },
   "source": "pred = RFClf.predict(movies_test_X_vec)\nprint(np.sum((pred == movies_test_y)/len(pred)))",
   "execution_count": null,
   "outputs": [
    {
     "name": "stdout",
     "text": "0.7250091541559869\n",
     "output_type": "stream"
    }
   ]
  },
  {
   "cell_type": "markdown",
   "source": "## Ablation Study",
   "metadata": {
    "cell_id": "e2cb9b3a3e7545688a6c542d6afa1b0b",
    "tags": [],
    "is_collapsed": false,
    "deepnote_cell_type": "text-cell-h2"
   }
  },
  {
   "cell_type": "code",
   "metadata": {
    "cell_id": "043e35b18de24afea86643a66d206f8c",
    "tags": [],
    "deepnote_to_be_reexecuted": false,
    "source_hash": "bdfe345",
    "execution_start": 1653552723952,
    "execution_millis": 0,
    "deepnote_cell_type": "code",
    "deepnote_cell_height": 116.16667175292969
   },
   "source": "#What effect will it have to: \n#(1) disable the tokenizer\n#(2) disable the stop words removal",
   "execution_count": null,
   "outputs": []
  },
  {
   "cell_type": "code",
   "metadata": {
    "cell_id": "842d351456234fd0b0379a98bc58656e",
    "tags": [],
    "deepnote_to_be_reexecuted": false,
    "source_hash": "12eada32",
    "execution_start": 1653554901813,
    "execution_millis": 245,
    "deepnote_cell_type": "code",
    "deepnote_cell_height": 152.1666717529297
   },
   "source": "import pickle5 as pickle\n\nwith open('/work/data/movies_equal.pkl', 'rb') as fh:\n    df_movies_equal = pickle.load(fh)\n",
   "execution_count": null,
   "outputs": []
  },
  {
   "cell_type": "code",
   "metadata": {
    "cell_id": "1dab668f460b45059ac95b503f365a9f",
    "tags": [],
    "deepnote_to_be_reexecuted": false,
    "source_hash": "246c2b81",
    "execution_start": 1653554907363,
    "execution_millis": 1543,
    "deepnote_cell_type": "code",
    "deepnote_cell_height": 274.316650390625
   },
   "source": "import nltk\nnltk.download('stopwords')\nfrom nltk.corpus import stopwords\n\nstop_words = set(stopwords.words('english'))\npunct = ['!','\"','#','$','%','&','\\'','(',')','*','+',',','-','.','/',':',';','<','=','>','?','@','[','\\\\',']','^','_','`','{','|','}','~', '\\'\\'', '\\\"\\\"', '´´', '``', '...', '--', '\\'s', '\\'ll', '\\'m', '\\'re', '\\'d', 'n\\'t']\nfor i in punct:\n    stop_words.add(i)\n",
   "execution_count": null,
   "outputs": [
    {
     "name": "stderr",
     "text": "[nltk_data] Downloading package stopwords to /root/nltk_data...\n[nltk_data]   Unzipping corpora/stopwords.zip.\n",
     "output_type": "stream"
    }
   ]
  },
  {
   "cell_type": "code",
   "metadata": {
    "cell_id": "2aeb7f3020624180af2a0bd2c987a102",
    "tags": [],
    "deepnote_to_be_reexecuted": false,
    "source_hash": "573549fb",
    "execution_start": 1653555158656,
    "execution_millis": 0,
    "deepnote_cell_type": "code",
    "deepnote_cell_height": 116.16667175292969
   },
   "source": "#Data for testing effect of disabling the tokenizer\nmovies_X_notok = list(df_movies_equal['reviewText'])\n",
   "execution_count": null,
   "outputs": []
  },
  {
   "cell_type": "code",
   "metadata": {
    "cell_id": "a881eb2a82bd4aff8f7811cfaffdbb36",
    "tags": [],
    "deepnote_to_be_reexecuted": false,
    "source_hash": "4e554e12",
    "execution_start": 1653555174063,
    "execution_millis": 0,
    "deepnote_cell_type": "code",
    "deepnote_cell_height": 224.1666717529297
   },
   "source": "#Tokenizer without removing stopwords\nfrom nltk.tokenize import TreebankWordTokenizer\ntokenizer = TreebankWordTokenizer()\ndef tokamok_noStopwords(df):\n    temp_list = []\n    df['reviewText'] = df['reviewText'].str.lower()\n    for i in df['reviewText']:\n        temp_list.append(tokenizer.tokenize(i))\n    return temp_list",
   "execution_count": null,
   "outputs": []
  },
  {
   "cell_type": "code",
   "metadata": {
    "cell_id": "2c4f8559df454a229bc8472ca1f465a7",
    "tags": [],
    "deepnote_to_be_reexecuted": false,
    "source_hash": "c674b150",
    "execution_start": 1653555283188,
    "execution_millis": 28951,
    "deepnote_cell_type": "code",
    "deepnote_cell_height": 98.16667175292969
   },
   "source": "#Data for testing effect of disabling stop words removal\nmovies_X_nostop= tokamok_noStopwords(df_movies_equal)",
   "execution_count": null,
   "outputs": []
  },
  {
   "cell_type": "code",
   "metadata": {
    "cell_id": "0dae113cc64843edae6bc5c50a2eeda7",
    "tags": [],
    "deepnote_to_be_reexecuted": false,
    "source_hash": "acf1fd08",
    "execution_start": 1653555320790,
    "execution_millis": 1516,
    "deepnote_cell_type": "code",
    "deepnote_cell_height": 80.16667175292969
   },
   "source": "movies_X_nostop_alt = VecPrep(movies_X_nostop)",
   "execution_count": null,
   "outputs": []
  },
  {
   "cell_type": "code",
   "metadata": {
    "cell_id": "a6a89245963f4e5e94dd9a982e649b5f",
    "tags": [],
    "deepnote_to_be_reexecuted": false,
    "source_hash": "d2c28d6c",
    "execution_start": 1653555451197,
    "execution_millis": 97,
    "deepnote_cell_type": "code",
    "deepnote_cell_height": 188.1666717529297
   },
   "source": "# split the data\nfrom sklearn.model_selection import train_test_split\nmovies_train_X_nostop, movies_test_X_nostop, movies_train_y, movies_test_y = train_test_split(movies_X_nostop_alt,movies_y,test_size=0.2,random_state=42)\n\nmovies_train_X_notok, movies_test_X_notok, movies_train_y, movies_test_y = train_test_split(movies_X_notok,movies_y,test_size=0.2,random_state=42)\n\n",
   "execution_count": null,
   "outputs": []
  },
  {
   "cell_type": "code",
   "metadata": {
    "cell_id": "c512d655ab2049cb9e54ea7fcff2dce0",
    "tags": [],
    "deepnote_to_be_reexecuted": false,
    "source_hash": "acd3d5ea",
    "execution_start": 1653555491341,
    "execution_millis": 13717,
    "deepnote_cell_type": "code",
    "deepnote_cell_height": 224.1666717529297
   },
   "source": "from sklearn.feature_extraction.text import TfidfVectorizer\nvectorizer = TfidfVectorizer()\nvectorizer_stopWords = TfidfVectorizer(stop_words=stop_words)\n\nmovies_train_X_nostop_vec = vectorizer.fit_transform(movies_train_X_nostop)\nmovies_test_X_nostop_vec = vectorizer.transform(movies_test_X_nostop)\n\nmovies_train_X_notok_vec = vectorizer_stopWords.fit_transform(movies_train_X_notok)\nmovies_test_X_notok_vec = vectorizer_stopWords.transform(movies_test_X_notok)",
   "execution_count": null,
   "outputs": []
  },
  {
   "cell_type": "code",
   "metadata": {
    "cell_id": "51d6685731bc4eb1b50b8f108ecb1161",
    "tags": [],
    "deepnote_to_be_reexecuted": false,
    "source_hash": "4ffa101f",
    "execution_start": 1653556221479,
    "execution_millis": 2526,
    "deepnote_cell_type": "code",
    "deepnote_cell_height": 308.5333251953125
   },
   "source": "#Testing the disabling of the removal of stopwords\nfrom sklearn.linear_model import LogisticRegression\nimport numpy as np\n\nlogClf_nostop = LogisticRegression(solver='sag')\nlogClf_nostop.fit(movies_train_X_nostop_vec,movies_train_y)\n\n#Slightly better result when disabling the removal of stop words\npred = logClf_nostop.predict(movies_test_X_nostop_vec)\nprint(np.sum((pred == movies_test_y)/len(pred)))\n\n#0.892301354815086",
   "execution_count": null,
   "outputs": [
    {
     "name": "stdout",
     "text": "0.892301354815086\n",
     "output_type": "stream"
    }
   ]
  },
  {
   "cell_type": "code",
   "metadata": {
    "cell_id": "43db02bec46c41ef84be3b6696ea512c",
    "tags": [],
    "deepnote_to_be_reexecuted": false,
    "source_hash": "1837b601",
    "execution_start": 1653556226922,
    "execution_millis": 1844,
    "deepnote_cell_type": "code",
    "deepnote_cell_height": 254.53334045410156
   },
   "source": "#Testing the effects of diabling the tokenizer\nlogClf_notok = LogisticRegression(solver='sag')\nlogClf_notok.fit(movies_train_X_notok_vec,movies_train_y)\n\n#Slightly worse result\npred = logClf_notok.predict(movies_test_X_notok_vec)\nprint(np.sum((pred == movies_test_y)/len(pred)))\n\n#0.8783870377151226",
   "execution_count": null,
   "outputs": [
    {
     "name": "stdout",
     "text": "0.8783870377151226\n",
     "output_type": "stream"
    }
   ]
  },
  {
   "cell_type": "markdown",
   "source": "## Testing the model on the other domains",
   "metadata": {
    "cell_id": "33b146113ea347ceb98c3f2e8cc58d1f",
    "tags": [],
    "is_collapsed": false,
    "owner_user_id": "5c124d8c-0d40-42f2-9f66-475fecfdcaf8",
    "deepnote_cell_type": "text-cell-h2"
   }
  },
  {
   "cell_type": "code",
   "metadata": {
    "cell_id": "497f984a7df04718a0f88c843e76a15a",
    "tags": [],
    "deepnote_to_be_reexecuted": false,
    "source_hash": "6cf568b8",
    "execution_start": 1653566495585,
    "execution_millis": 4434,
    "deepnote_cell_type": "code",
    "deepnote_cell_height": 152.1666717529297
   },
   "source": "#Preparing the data\nclothing_X_alt = VecPrep(clothing_X)\nelectronics_X_alt = VecPrep(electronics_X)\nhome_X_alt = VecPrep(home_X)\nvideo_X_alt = VecPrep(video_X)",
   "execution_count": null,
   "outputs": []
  },
  {
   "cell_type": "code",
   "metadata": {
    "cell_id": "07650418bf3649abbc9a09d5d3e1d5a9",
    "tags": [],
    "deepnote_to_be_reexecuted": false,
    "source_hash": "a7b60380",
    "execution_start": 1653466170412,
    "execution_millis": 16,
    "deepnote_cell_type": "code",
    "deepnote_cell_height": 116.75,
    "deepnote_output_heights": [
     21
    ]
   },
   "source": "len(arts_X)==len(arts_y) ",
   "execution_count": null,
   "outputs": [
    {
     "output_type": "execute_result",
     "execution_count": 81,
     "data": {
      "text/plain": "False"
     },
     "metadata": {}
    }
   ]
  },
  {
   "cell_type": "code",
   "metadata": {
    "cell_id": "aeba5bfd9fb145e4b63c7ff82b2e7bac",
    "tags": [],
    "deepnote_to_be_reexecuted": false,
    "source_hash": "3d022e1c",
    "execution_start": 1653562402952,
    "execution_millis": 212,
    "deepnote_cell_type": "code",
    "deepnote_cell_height": 224.1666717529297
   },
   "source": "#Splitting data\n\nclothing_train_X, clothing_test_X, clothing_train_y, clothing_test_y = train_test_split(clothing_X_alt,clothing_y,test_size=0.2,random_state=42)\n\nelectronics_train_X, electronics_test_X, electronics_train_y, electronics_test_y = train_test_split(electronics_X_alt,electronics_y,test_size=0.2,random_state=42)\n\nhome_train_X, home_test_X, home_train_y, home_test_y = train_test_split(home_X_alt,home_y,test_size=0.2,random_state=42)\n\nvideo_train_X, video_test_X, video_train_y, video_test_y = train_test_split(video_X_alt,video_y,test_size=0.2,random_state=42)",
   "execution_count": null,
   "outputs": []
  },
  {
   "cell_type": "code",
   "metadata": {
    "cell_id": "4f9289deb4b24f6c8cc96d766941c83a",
    "tags": [],
    "deepnote_to_be_reexecuted": false,
    "source_hash": "fff1d40d",
    "execution_start": 1653562430923,
    "execution_millis": 3686,
    "deepnote_cell_type": "code",
    "deepnote_cell_height": 188.1666717529297
   },
   "source": "clothing_test_X_vec = vectorizer.transform(clothing_test_X)\n\nelectronics_test_X_vec = vectorizer.transform(electronics_test_X)\n\nhome_test_X_vec = vectorizer.transform(home_test_X)\n\nvideo_test_X_vec = vectorizer.transform(video_test_X)",
   "execution_count": null,
   "outputs": []
  },
  {
   "cell_type": "markdown",
   "source": "### Cross domain predictions using the baseline model",
   "metadata": {
    "cell_id": "9eaa28c7ae4840339e2100d543d21670",
    "tags": [],
    "is_collapsed": false,
    "deepnote_cell_type": "text-cell-h3"
   }
  },
  {
   "cell_type": "code",
   "metadata": {
    "cell_id": "9b8352e37a464ca8afefc82eb380b411",
    "tags": [],
    "deepnote_to_be_reexecuted": false,
    "source_hash": "66d5590d",
    "execution_start": 1653561475304,
    "execution_millis": 8,
    "deepnote_cell_type": "code",
    "deepnote_cell_height": 128.53334045410156
   },
   "source": "pred = log_clf.predict(clothing_test_X_vec)\nprint(np.sum((pred == clothing_test_y)/len(pred))) # prints 0.8224",
   "execution_count": null,
   "outputs": [
    {
     "name": "stdout",
     "text": "0.8224724724724726\n",
     "output_type": "stream"
    }
   ]
  },
  {
   "cell_type": "code",
   "metadata": {
    "cell_id": "93a828b4547446d18a6c5ede4e72d708",
    "tags": [],
    "deepnote_to_be_reexecuted": false,
    "source_hash": "c0fd6910",
    "execution_start": 1653561478076,
    "execution_millis": 17,
    "deepnote_cell_type": "code",
    "deepnote_cell_height": 128.53334045410156
   },
   "source": "pred = log_clf.predict(electronics_test_X_vec)\nprint(np.sum((pred == electronics_test_y)/len(pred))) # prints 0.8076",
   "execution_count": null,
   "outputs": [
    {
     "name": "stdout",
     "text": "0.8076454727320169\n",
     "output_type": "stream"
    }
   ]
  },
  {
   "cell_type": "code",
   "metadata": {
    "cell_id": "16b1f2a15a32475c9cb73596e2ef3729",
    "tags": [],
    "deepnote_to_be_reexecuted": false,
    "source_hash": "c104f07b",
    "execution_start": 1653561481120,
    "execution_millis": 7,
    "deepnote_cell_type": "code",
    "deepnote_cell_height": 128.53334045410156
   },
   "source": "pred = log_clf.predict(video_test_X_vec)\nprint(np.sum((pred == video_test_y)/len(pred))) # prints 0.8439",
   "execution_count": null,
   "outputs": [
    {
     "name": "stdout",
     "text": "0.8438991138377642\n",
     "output_type": "stream"
    }
   ]
  },
  {
   "cell_type": "code",
   "metadata": {
    "cell_id": "82666311019e460597ae634ab93e04a8",
    "tags": [],
    "deepnote_to_be_reexecuted": false,
    "source_hash": "7653c328",
    "execution_start": 1653561483663,
    "execution_millis": 15,
    "deepnote_cell_type": "code",
    "deepnote_cell_height": 128.53334045410156
   },
   "source": "pred = log_clf.predict(home_test_X_vec)\nprint(np.sum((pred == home_test_y)/len(pred))) # prints 0.8228",
   "execution_count": null,
   "outputs": [
    {
     "name": "stdout",
     "text": "0.8228262034952288\n",
     "output_type": "stream"
    }
   ]
  },
  {
   "cell_type": "markdown",
   "source": "From these results it seems entropy is prefered over spatial distance when using similarity metrics to predict performance. In other words, there is a correlation between Jensen-Shannon similarity scores and accuracy",
   "metadata": {
    "cell_id": "2afe6c9d74d74e63ba92c34eb8da3100",
    "tags": [],
    "deepnote_cell_type": "markdown",
    "deepnote_cell_height": 73.96665954589844
   }
  },
  {
   "cell_type": "markdown",
   "source": "![Picture title](image-20220525-131641.png)",
   "metadata": {
    "cell_id": "b04e9423f0ec4f0b9c204663e5a66d42",
    "tags": [],
    "deepnote_cell_type": "markdown",
    "deepnote_cell_height": 255.1666717529297
   }
  },
  {
   "cell_type": "markdown",
   "source": "### Diversity test",
   "metadata": {
    "cell_id": "ae303769c9414918b3aae03372702c88",
    "tags": [],
    "is_collapsed": false,
    "deepnote_cell_type": "text-cell-h3"
   }
  },
  {
   "cell_type": "code",
   "metadata": {
    "cell_id": "f9b8b00eaa4f40b092a9d3a0e115f009",
    "tags": [],
    "deepnote_cell_type": "code",
    "deepnote_cell_height": 443.16668701171875
   },
   "source": "# new train splits to increase robustness with diversity\n\n# based on Shannon scores = 109,238 samples\n# movies       0.200 = 21848 samples\n# clothing     0.220 = 24032 samples \n# home         0.210 = 22940 samples\n# electronics  0.205 = 22394 samples\n# video        0.165 = 18024 samples\n\n# equal split = 109,238 samples\n# movies       0.2 = 21848 samples\n# clothing     0.2 = 21847 samples\n# home         0.2 = 21848 samples\n# electronics  0.2 = 21847 samples\n# video        0.2 = 21848 samples\n\n# baseline = 109,238 samples (train and test total)\n# movies       1.0\n# clothing     0.0\n# home         0.0\n# electronics  0.0\n# video        0.0",
   "execution_count": null,
   "outputs": []
  },
  {
   "cell_type": "code",
   "metadata": {
    "cell_id": "9c23854a1f2645eaafc9b92d9bfcc436",
    "tags": [],
    "deepnote_to_be_reexecuted": false,
    "source_hash": "1e57b701",
    "execution_start": 1653565126298,
    "execution_millis": 12,
    "deepnote_cell_type": "code",
    "deepnote_cell_height": 409.75,
    "deepnote_output_heights": [
     98
    ]
   },
   "source": "# new Shannon based split for further testing\n\nJSD_list = [0.2,0.22,0.21,0.205,0.165]\ntest_list = []\nfor i in JSD_list:\n    a = i * 5 \n    b = a * a * a *\n    c = b/5\n    test_list.append(c)\nvalues = np.array(test_list)\nnormalised_JSD_percentages = values / values.sum()\nnormalised_JSD_percentages = list(normalised_JSD_percentages)\nnormalised_JSD_percentages",
   "execution_count": null,
   "outputs": [
    {
     "output_type": "execute_result",
     "execution_count": 59,
     "data": {
      "text/plain": "[0.19059710051182763,\n 0.27905321485936696,\n 0.2316719669040047,\n 0.21038353646070407,\n 0.08829418126409656]"
     },
     "metadata": {}
    }
   ]
  },
  {
   "cell_type": "code",
   "metadata": {
    "cell_id": "1370152bf38c44fa9e91805df966771b",
    "tags": [],
    "deepnote_cell_type": "code",
    "deepnote_cell_height": 281.16668701171875
   },
   "source": "# equal percentage split\nmovies_equal_percent=(21848/len(movies_X))\nclothing_equal_percent=(21848/len(clothing_X))\nelectronics_equal_percent=(21848/len(electronics_X))\nvideo_equal_percent=(21847/len(video_X))\nhome_equal_percent=(21847/len(home_X))\n\n# Shannon percentage split\nmovies_JSD_percent=((0.2*len(movies_X))/len(movies_X))\nclothing_JSD_percent=((0.22*len(movies_X))/len(clothing_X))\nelectronics_JSD_percent=((0.21*len(movies_X))/len(electronics_X))\nvideo_JSD_percent=((0.205*len(movies_X))/len(video_X))\nhome_JSD_percent=((0.165*len(movies_X))/len(home_X))",
   "execution_count": null,
   "outputs": []
  },
  {
   "cell_type": "code",
   "source": "# Shannon percentage split extreme\nmovies_JSD_percent_new=((0.19059710051182763*len(movies_X))/len(movies_X))\nclothing_JSD_percent_new=((0.27905321485936696*len(movies_X))/len(clothing_X))\nelectronics_JSD_percent_new=((0.2316719669040047*len(movies_X))/len(electronics_X))\nvideo_JSD_percent_new=((0.21038353646070407*len(movies_X))/len(video_X))\nhome_JSD_percent_new=((0.08829418126409656*len(movies_X))/len(home_X))",
   "metadata": {
    "cell_id": "d239b184e498467f8a46e45cb7a19c74",
    "tags": [],
    "deepnote_cell_type": "code",
    "deepnote_cell_height": 155.1666717529297
   },
   "outputs": [],
   "execution_count": null
  },
  {
   "cell_type": "code",
   "source": "# new 20% splits\nfrom sklearn.model_selection import train_test_split\n_, movies_X20, _, movies_y20 = train_test_split(movies_X_alt,movies_y,test_size=0.2,random_state=42)\n_, electronics_X20, _, electronics_y20 = train_test_split(electronics_X_alt,electronics_y,test_size=electronics_equal_percent,random_state=42)\n_, home_X20, _, home_y20 = train_test_split(home_X_alt,home_y,test_size=home_equal_percent,random_state=42)\n_, video_X20, _, video_y20 = train_test_split(video_X_alt,video_y,test_size=video_equal_percent,random_state=42)\n_, clothing_X20, _, clothing_y20 = train_test_split(clothing_X_alt,clothing_y,test_size=clothing_equal_percent,random_state=42)",
   "metadata": {
    "cell_id": "bc09da1e9c034fe6aa5da53abdec83de",
    "tags": [],
    "deepnote_cell_type": "code",
    "deepnote_cell_height": 173.1666717529297
   },
   "outputs": [],
   "execution_count": null
  },
  {
   "cell_type": "code",
   "source": "# new JSD splits\nfrom sklearn.model_selection import train_test_split\n_, movies_JSDX20, _, movies_JSDy20 = train_test_split(movies_X_alt,movies_y,test_size=0.2,random_state=42)\n_, electronics_JSDX20, _, electronics_JSDy20 = train_test_split(electronics_X_alt,electronics_y,test_size=electronics_JSD_percent,random_state=42)\n_, home_JSDX20, _, home_JSDy20 = train_test_split(home_X_alt,home_y,test_size=home_JSD_percent,random_state=42)\n_, video_JSDX20, _, video_JSDy20 = train_test_split(video_X_alt,video_y,test_size=video_JSD_percent,random_state=42)\n_, clothing_JSDX20, _, clothing_JSDy20 = train_test_split(clothing_X_alt,clothing_y,test_size=clothing_JSD_percent,random_state=42)",
   "metadata": {
    "cell_id": "87fdcdf2519f4f72bf4af5d7e105e4dc",
    "tags": [],
    "deepnote_cell_type": "code",
    "deepnote_cell_height": 173.1666717529297
   },
   "outputs": [],
   "execution_count": null
  },
  {
   "cell_type": "code",
   "source": "# new JSD splits extreme\nfrom sklearn.model_selection import train_test_split\n_, movies_JSDX20_new, _, movies_JSDy20_new = train_test_split(movies_X_alt,movies_y,test_size=movies_JSD_percent_new,random_state=42)\n_, electronics_JSDX20_new, _, electronics_JSDy20_new = train_test_split(electronics_X_alt,electronics_y,test_size=electronics_JSD_percent_new,random_state=42)\n_, home_JSDX20_new, _, home_JSDy20_new = train_test_split(home_X_alt,home_y,test_size=home_JSD_percent_new,random_state=42)\n_, video_JSDX20_new, _, video_JSDy20_new = train_test_split(video_X_alt,video_y,test_size=video_JSD_percent_new,random_state=42)\n_, clothing_JSDX20_new, _, clothing_JSDy20_new = train_test_split(clothing_X_alt,clothing_y,test_size=clothing_JSD_percent_new,random_state=42)",
   "metadata": {
    "cell_id": "5eabce5bcbfd47c6a24ab6b9c248eae3",
    "tags": [],
    "deepnote_cell_type": "code",
    "deepnote_cell_height": 173.1666717529297
   },
   "outputs": [],
   "execution_count": null
  },
  {
   "cell_type": "code",
   "source": "# new splits concatenated\nall_20_X = movies_X20+electronics_X20+home_X20+video_X20+clothing_X20\nall_20_y = movies_y20+electronics_y20+home_y20+video_y20+clothing_y20\nall_JSD_X = movies_JSDX20+electronics_JSDX20+home_JSDX20+video_JSDX20+clothing_JSDX20\nall_JSD_y = movies_JSDy20+electronics_JSDy20+home_JSDy20+video_JSDy20+clothing_JSDy20\nall_JSD_X = all_JSD_X[:-2]\nall_JSD_y = all_JSD_y[:-2]",
   "metadata": {
    "cell_id": "4fc8880fb0734a0084a717180fd891c2",
    "tags": [],
    "deepnote_cell_type": "code",
    "deepnote_cell_height": 173.1666717529297
   },
   "outputs": [],
   "execution_count": null
  },
  {
   "cell_type": "code",
   "source": "# new extreme splits concatenated\nall_JSD_X_new = movies_JSDX20_new+electronics_JSDX20_new+home_JSDX20_new+video_JSDX20_new+clothing_JSDX20_new\nall_JSD_y_new = movies_JSDy20_new+electronics_JSDy20_new+home_JSDy20_new+video_JSDy20_new+clothing_JSDy20_new\nall_JSD_X_new = all_JSD_X_new[:-3]\nall_JSD_y_new = all_JSD_y_new[:-3]",
   "metadata": {
    "cell_id": "1ba2f935ba254112b8c18c6958e12399",
    "tags": [],
    "deepnote_cell_type": "code",
    "deepnote_cell_height": 137.1666717529297
   },
   "outputs": [],
   "execution_count": null
  },
  {
   "cell_type": "code",
   "source": "print(len(all_JSD_X_new))\nprint(len(all_JSD_y_new))",
   "metadata": {
    "cell_id": "0d25b2c105884f28b16f13aa8a1ad684",
    "tags": [],
    "deepnote_cell_type": "code",
    "deepnote_cell_height": 83.16667175292969
   },
   "outputs": [],
   "execution_count": null
  },
  {
   "cell_type": "code",
   "source": "train_20_X, test_20_X, train_20_Y, test_20_Y = train_test_split(all_20_X,all_20_y, test_size=0.2, random_state=42)\ntrain_JSD_X, test_JSD_X, train_JSD_Y, test_JSD_Y = train_test_split(all_JSD_X, all_JSD_y, test_size=0.2, random_state=42)",
   "metadata": {
    "cell_id": "d4649aa9a76c4eaca80485a812e035ea",
    "tags": [],
    "deepnote_cell_type": "code",
    "deepnote_cell_height": 83.16667175292969
   },
   "outputs": [],
   "execution_count": null
  },
  {
   "cell_type": "code",
   "source": "train_JSD_X_new, test_JSD_X_new, train_JSD_Y_new, test_JSD_Y_new = train_test_split(all_JSD_X_new, all_JSD_y_new, test_size=0.2, random_state=42)",
   "metadata": {
    "cell_id": "cb77c0f52bcd4c8e8c829a4e11aa6ac1",
    "tags": [],
    "deepnote_cell_type": "code",
    "deepnote_cell_height": 65.16667175292969
   },
   "outputs": [],
   "execution_count": null
  },
  {
   "cell_type": "code",
   "source": "print(len(train_20_X))\nprint(len(test_20_Y))\nprint(len(test_20_X))\n\nprint(len(train_JSD_X_new))\nprint(len(train_JSD_Y_new))",
   "metadata": {
    "cell_id": "81fdac47a1cc488e90730f42d5caaf78",
    "tags": [],
    "deepnote_cell_type": "code",
    "deepnote_cell_height": 155.1666717529297
   },
   "outputs": [],
   "execution_count": null
  },
  {
   "cell_type": "code",
   "source": "\nfrom sklearn.linear_model import LogisticRegression\n\ntrain_20_X_vec = vectorizer.transform(train_20_X)\ntest_20_X_vec = vectorizer.transform(test_20_X)\n\ntrain_JSD_X_vec = vectorizer.transform(train_JSD_X)\ntest_JSD_X_vec = vectorizer.transform(test_JSD_X)\n\ntrain_JSD_X_new_vec = vectorizer.transform(train_JSD_X_new)\ntest_JSD_X_new_vec = vectorizer.transform(test_JSD_X_new)",
   "metadata": {
    "cell_id": "170f6a608cc44c7fab9e26191d32ca2c",
    "tags": [],
    "deepnote_cell_type": "code",
    "deepnote_cell_height": 245.1666717529297
   },
   "outputs": [],
   "execution_count": null
  },
  {
   "cell_type": "code",
   "source": "# running mixed train on mixed test = 0.8768\n\nlog_clf.fit(train_20_X_vec,train_20_Y)\npred = log_clf.predict(test_20_X_vec)\nprint(np.sum((pred == test_20_Y)/len(pred))) ",
   "metadata": {
    "cell_id": "b4e5b904541b46ab8227c18339b84cb7",
    "tags": [],
    "deepnote_cell_type": "code",
    "deepnote_cell_height": 137.1666717529297
   },
   "outputs": [],
   "execution_count": null
  },
  {
   "cell_type": "code",
   "source": "# running JSD mixed train on JSD mixed test = 0.8765\n\nlog_clf.fit(train_JSD_X_vec,train_JSD_Y)\npred = log_clf.predict(test_JSD_X_vec)\nprint(np.sum((pred == test_JSD_Y)/len(pred))) ",
   "metadata": {
    "cell_id": "33c35434522b47dd8c782ad60a12fc80",
    "tags": [],
    "deepnote_cell_type": "code",
    "deepnote_cell_height": 137.1666717529297
   },
   "outputs": [],
   "execution_count": null
  },
  {
   "cell_type": "code",
   "source": "# running movies baseline on mixed test set = 0.8332\n\nlog_clf.fit(movies_train_X_vec,movies_train_y)\npred = log_clf.predict(test_20_X_vec)\nprint(np.sum((pred == test_20_Y)/len(pred))) ",
   "metadata": {
    "cell_id": "df30d2fc11d24abf830d059a65d017a5",
    "tags": [],
    "deepnote_cell_type": "code",
    "deepnote_cell_height": 137.1666717529297
   },
   "outputs": [],
   "execution_count": null
  },
  {
   "cell_type": "markdown",
   "source": "## Running new train splits on each domain",
   "metadata": {
    "cell_id": "ffdd4e201ef7472b991cb9e571a964a2",
    "tags": [],
    "is_collapsed": false,
    "deepnote_cell_type": "text-cell-h2"
   }
  },
  {
   "cell_type": "code",
   "source": "# clothing\nlog_clf.fit(movies_train_X_vec,movies_train_y)\npred = log_clf.predict(clothing_test_X_vec)\nlog_clf.fit(train_20_X_vec,train_20_Y)\npred1 = log_clf.predict(clothing_test_X_vec)\nlog_clf.fit(train_JSD_X_vec,train_JSD_Y)\npred2 = log_clf.predict(clothing_test_X_vec)\nlog_clf.fit(train_JSD_X_new_vec,train_JSD_Y_new)\npred3 = log_clf.predict(clothing_test_X_vec)\nprint('Clothing')\nprint('Base', np.sum((pred == clothing_test_y)/len(pred)))\nprint('20%', np.sum((pred1 == clothing_test_y)/len(pred1)))\nprint('JSD', np.sum((pred2 == clothing_test_y)/len(pred2))) \nprint('JSE', np.sum((pred3 == clothing_test_y)/len(pred3))) \nprint('\\n')\n\n# electronics\nlog_clf.fit(movies_train_X_vec,movies_train_y)\npred = log_clf.predict(electronics_test_X_vec)\nlog_clf.fit(train_20_X_vec,train_20_Y)\npred1 = log_clf.predict(electronics_test_X_vec)\nlog_clf.fit(train_JSD_X_vec,train_JSD_Y)\npred2 = log_clf.predict(electronics_test_X_vec)\nlog_clf.fit(train_JSD_X_new_vec,train_JSD_Y_new)\npred3 = log_clf.predict(electronics_test_X_vec)\nprint('Electronics')\nprint('Base', np.sum((pred == electronics_test_y)/len(pred)))\nprint('20%', np.sum((pred1 == electronics_test_y)/len(pred1)))\nprint('JSD', np.sum((pred2 == electronics_test_y)/len(pred2)))\nprint('JSE', np.sum((pred3 == electronics_test_y)/len(pred3)))  \nprint('\\n')\n\n# home\nlog_clf.fit(movies_train_X_vec,movies_train_y)\npred = log_clf.predict(home_test_X_vec)\nlog_clf.fit(train_20_X_vec,train_20_Y)\npred1 = log_clf.predict(home_test_X_vec)\nlog_clf.fit(train_JSD_X_vec,train_JSD_Y)\npred2 = log_clf.predict(home_test_X_vec)\nlog_clf.fit(train_JSD_X_new_vec,train_JSD_Y_new)\npred3 = log_clf.predict(home_test_X_vec)\nprint('Home')\nprint('Base', np.sum((pred == home_test_y)/len(pred)))\nprint('20%', np.sum((pred1 == home_test_y)/len(pred1)))\nprint('JSD', np.sum((pred2 == home_test_y)/len(pred2)))\nprint('JSE', np.sum((pred3 == home_test_y)/len(pred3)))  \nprint('\\n')\n\n# video\nlog_clf.fit(movies_train_X_vec,movies_train_y)\npred = log_clf.predict(video_test_X_vec)\nlog_clf.fit(train_20_X_vec,train_20_Y)\npred1 = log_clf.predict(video_test_X_vec)\nlog_clf.fit(train_JSD_X_vec,train_JSD_Y)\npred2 = log_clf.predict(video_test_X_vec)\nlog_clf.fit(train_JSD_X_new_vec,train_JSD_Y_new)\npred3 = log_clf.predict(video_test_X_vec)\nprint('Video')\nprint('Base', np.sum((pred == video_test_y)/len(pred)))\nprint('20%', np.sum((pred1 == video_test_y)/len(pred1)))\nprint('JSD', np.sum((pred2 == video_test_y)/len(pred2))) \nprint('JSE', np.sum((pred3 == video_test_y)/len(pred3))) \nprint('\\n')\n\n# movies\nlog_clf.fit(movies_train_X_vec,movies_train_y)\npred = log_clf.predict(movies_test_X_vec)\nlog_clf.fit(train_20_X_vec,train_20_Y)\npred1 = log_clf.predict(movies_test_X_vec)\nlog_clf.fit(train_JSD_X_vec,train_JSD_Y)\npred2 = log_clf.predict(movies_test_X_vec)\nlog_clf.fit(train_JSD_X_new_vec,train_JSD_Y_new)\npred3 = log_clf.predict(movies_test_X_vec)\nprint('Movies')\nprint('Base', np.sum((pred == movies_test_y)/len(pred)))\nprint('20%', np.sum((pred1 == movies_test_y)/len(pred1)))\nprint('JSD', np.sum((pred2 == movies_test_y)/len(pred2))) \nprint('JSE', np.sum((pred3 == movies_test_y)/len(pred3))) \nprint('\\n')",
   "metadata": {
    "cell_id": "a211ec8599c746cc8d7696d341d7c8ea",
    "tags": [],
    "deepnote_cell_type": "code",
    "deepnote_cell_height": 1469.1666259765625
   },
   "outputs": [],
   "execution_count": null
  },
  {
   "cell_type": "code",
   "source": "",
   "metadata": {
    "cell_id": "d6e6b1e460f548939fa2164fe01b43e0",
    "tags": [],
    "deepnote_cell_type": "code",
    "deepnote_cell_height": 65.16667175292969
   },
   "outputs": [],
   "execution_count": null
  },
  {
   "cell_type": "markdown",
   "source": "<a style='text-decoration:none;line-height:16px;display:flex;color:#5B5B62;padding:10px;justify-content:end;' href='https://deepnote.com?utm_source=created-in-deepnote-cell&projectId=4e2d3fe4-0efa-4e24-ba60-5db2d9940cc3' target=\"_blank\">\n<img alt='Created in deepnote.com' style='display:inline;max-height:16px;margin:0px;margin-right:7.5px;' src='data:image/svg+xml;base64,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' > </img>\nCreated in <span style='font-weight:600;margin-left:4px;'>Deepnote</span></a>",
   "metadata": {
    "tags": [],
    "created_in_deepnote_cell": true,
    "deepnote_cell_type": "markdown"
   }
  }
 ],
 "nbformat": 4,
 "nbformat_minor": 2,
 "metadata": {
  "orig_nbformat": 2,
  "deepnote": {},
  "deepnote_notebook_id": "17ff15f8-a165-41bf-b374-cea3e06177a3",
  "deepnote_execution_queue": []
 }
}